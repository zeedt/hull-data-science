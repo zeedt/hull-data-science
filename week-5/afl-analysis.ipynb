{
 "cells": [
  {
   "cell_type": "code",
   "execution_count": 1,
   "id": "73f7dcb4",
   "metadata": {},
   "outputs": [],
   "source": [
    "import pandas as pd\n",
    "import seaborn as sbn\n",
    "bribane_df = pd.read_csv('BrisbaneScores2004.csv')\n",
    "port_adelide_df = pd.read_csv('PortAdelaideScores2004.csv')\n"
   ]
  },
  {
   "cell_type": "code",
   "execution_count": 2,
   "id": "18d2be7f",
   "metadata": {},
   "outputs": [],
   "source": [
    "br_values = []\n",
    "pa_values = []\n",
    "combined_scores = []\n",
    "for no, v in enumerate(bribane_df.iterrows()):\n",
    "    if (v[1]['Home Team'] == 'Brisbane'):\n",
    "        diff = v[1]['Home Team Score']-v[1]['Away Team Score']\n",
    "    else:\n",
    "        diff = v[1]['Away Team Score']-v[1]['Home Team Score']\n",
    "    combined_scores.append({\n",
    "        'round' : no+1,\n",
    "        'Brisbane' : diff\n",
    "    })\n",
    "\n",
    "\n",
    "for no,v in enumerate(port_adelide_df.iterrows()):\n",
    "    if (v[1]['Home Team'] == 'Port Adelaide'):\n",
    "        diff = v[1]['Home Team Score']-v[1]['Away Team Score']\n",
    "    else:\n",
    "        diff = v[1]['Away Team Score']-v[1]['Home Team Score']\n",
    "    combined_scores[no]['Port Adelaide'] = diff"
   ]
  },
  {
   "cell_type": "code",
   "execution_count": 3,
   "id": "3db173c2",
   "metadata": {},
   "outputs": [
    {
     "data": {
      "text/plain": [
       "[{'round': 1, 'Brisbane': 2, 'Port Adelaide': 96},\n",
       " {'round': 2, 'Brisbane': 21, 'Port Adelaide': 3},\n",
       " {'round': 3, 'Brisbane': 60, 'Port Adelaide': 81},\n",
       " {'round': 4, 'Brisbane': -3, 'Port Adelaide': -53},\n",
       " {'round': 5, 'Brisbane': -48, 'Port Adelaide': 55},\n",
       " {'round': 6, 'Brisbane': -1, 'Port Adelaide': 17},\n",
       " {'round': 7, 'Brisbane': 44, 'Port Adelaide': -32},\n",
       " {'round': 8, 'Brisbane': 38, 'Port Adelaide': -92},\n",
       " {'round': 9, 'Brisbane': -59, 'Port Adelaide': 78},\n",
       " {'round': 10, 'Brisbane': 40, 'Port Adelaide': 4},\n",
       " {'round': 11, 'Brisbane': 37, 'Port Adelaide': -37},\n",
       " {'round': 12, 'Brisbane': 66, 'Port Adelaide': 72},\n",
       " {'round': 13, 'Brisbane': -27, 'Port Adelaide': 10},\n",
       " {'round': 14, 'Brisbane': 18, 'Port Adelaide': 46},\n",
       " {'round': 15, 'Brisbane': 68, 'Port Adelaide': 83},\n",
       " {'round': 16, 'Brisbane': 36, 'Port Adelaide': 52},\n",
       " {'round': 17, 'Brisbane': 141, 'Port Adelaide': 26},\n",
       " {'round': 18, 'Brisbane': -32, 'Port Adelaide': -40},\n",
       " {'round': 19, 'Brisbane': -14, 'Port Adelaide': 73},\n",
       " {'round': 20, 'Brisbane': 23, 'Port Adelaide': 86},\n",
       " {'round': 21, 'Brisbane': 45, 'Port Adelaide': 37},\n",
       " {'round': 22, 'Brisbane': 113, 'Port Adelaide': 25}]"
      ]
     },
     "execution_count": 3,
     "metadata": {},
     "output_type": "execute_result"
    }
   ],
   "source": [
    "combined_scores"
   ]
  },
  {
   "cell_type": "code",
   "execution_count": 4,
   "id": "20d2751e",
   "metadata": {},
   "outputs": [],
   "source": [
    "df = pd.DataFrame(combined_scores)\n",
    "melted_df = pd.melt(df, id_vars='round', var_name='Team', value_name='Diff')"
   ]
  },
  {
   "cell_type": "code",
   "execution_count": 60,
   "id": "e666e94c",
   "metadata": {},
   "outputs": [
    {
     "data": {
      "text/html": [
       "<div>\n",
       "<style scoped>\n",
       "    .dataframe tbody tr th:only-of-type {\n",
       "        vertical-align: middle;\n",
       "    }\n",
       "\n",
       "    .dataframe tbody tr th {\n",
       "        vertical-align: top;\n",
       "    }\n",
       "\n",
       "    .dataframe thead th {\n",
       "        text-align: right;\n",
       "    }\n",
       "</style>\n",
       "<table border=\"1\" class=\"dataframe\">\n",
       "  <thead>\n",
       "    <tr style=\"text-align: right;\">\n",
       "      <th></th>\n",
       "      <th>round</th>\n",
       "      <th>Team</th>\n",
       "      <th>Diff</th>\n",
       "    </tr>\n",
       "  </thead>\n",
       "  <tbody>\n",
       "    <tr>\n",
       "      <th>0</th>\n",
       "      <td>1</td>\n",
       "      <td>Brisbane</td>\n",
       "      <td>2</td>\n",
       "    </tr>\n",
       "    <tr>\n",
       "      <th>1</th>\n",
       "      <td>2</td>\n",
       "      <td>Brisbane</td>\n",
       "      <td>21</td>\n",
       "    </tr>\n",
       "    <tr>\n",
       "      <th>2</th>\n",
       "      <td>3</td>\n",
       "      <td>Brisbane</td>\n",
       "      <td>60</td>\n",
       "    </tr>\n",
       "    <tr>\n",
       "      <th>3</th>\n",
       "      <td>4</td>\n",
       "      <td>Brisbane</td>\n",
       "      <td>-3</td>\n",
       "    </tr>\n",
       "    <tr>\n",
       "      <th>4</th>\n",
       "      <td>5</td>\n",
       "      <td>Brisbane</td>\n",
       "      <td>-48</td>\n",
       "    </tr>\n",
       "    <tr>\n",
       "      <th>5</th>\n",
       "      <td>6</td>\n",
       "      <td>Brisbane</td>\n",
       "      <td>-1</td>\n",
       "    </tr>\n",
       "    <tr>\n",
       "      <th>6</th>\n",
       "      <td>7</td>\n",
       "      <td>Brisbane</td>\n",
       "      <td>44</td>\n",
       "    </tr>\n",
       "    <tr>\n",
       "      <th>7</th>\n",
       "      <td>8</td>\n",
       "      <td>Brisbane</td>\n",
       "      <td>38</td>\n",
       "    </tr>\n",
       "    <tr>\n",
       "      <th>8</th>\n",
       "      <td>9</td>\n",
       "      <td>Brisbane</td>\n",
       "      <td>-59</td>\n",
       "    </tr>\n",
       "    <tr>\n",
       "      <th>9</th>\n",
       "      <td>10</td>\n",
       "      <td>Brisbane</td>\n",
       "      <td>40</td>\n",
       "    </tr>\n",
       "    <tr>\n",
       "      <th>10</th>\n",
       "      <td>11</td>\n",
       "      <td>Brisbane</td>\n",
       "      <td>37</td>\n",
       "    </tr>\n",
       "    <tr>\n",
       "      <th>11</th>\n",
       "      <td>12</td>\n",
       "      <td>Brisbane</td>\n",
       "      <td>66</td>\n",
       "    </tr>\n",
       "    <tr>\n",
       "      <th>12</th>\n",
       "      <td>13</td>\n",
       "      <td>Brisbane</td>\n",
       "      <td>-27</td>\n",
       "    </tr>\n",
       "    <tr>\n",
       "      <th>13</th>\n",
       "      <td>14</td>\n",
       "      <td>Brisbane</td>\n",
       "      <td>18</td>\n",
       "    </tr>\n",
       "    <tr>\n",
       "      <th>14</th>\n",
       "      <td>15</td>\n",
       "      <td>Brisbane</td>\n",
       "      <td>68</td>\n",
       "    </tr>\n",
       "    <tr>\n",
       "      <th>15</th>\n",
       "      <td>16</td>\n",
       "      <td>Brisbane</td>\n",
       "      <td>36</td>\n",
       "    </tr>\n",
       "    <tr>\n",
       "      <th>16</th>\n",
       "      <td>17</td>\n",
       "      <td>Brisbane</td>\n",
       "      <td>141</td>\n",
       "    </tr>\n",
       "    <tr>\n",
       "      <th>17</th>\n",
       "      <td>18</td>\n",
       "      <td>Brisbane</td>\n",
       "      <td>-32</td>\n",
       "    </tr>\n",
       "    <tr>\n",
       "      <th>18</th>\n",
       "      <td>19</td>\n",
       "      <td>Brisbane</td>\n",
       "      <td>-14</td>\n",
       "    </tr>\n",
       "    <tr>\n",
       "      <th>19</th>\n",
       "      <td>20</td>\n",
       "      <td>Brisbane</td>\n",
       "      <td>23</td>\n",
       "    </tr>\n",
       "    <tr>\n",
       "      <th>20</th>\n",
       "      <td>21</td>\n",
       "      <td>Brisbane</td>\n",
       "      <td>45</td>\n",
       "    </tr>\n",
       "    <tr>\n",
       "      <th>21</th>\n",
       "      <td>22</td>\n",
       "      <td>Brisbane</td>\n",
       "      <td>113</td>\n",
       "    </tr>\n",
       "    <tr>\n",
       "      <th>22</th>\n",
       "      <td>1</td>\n",
       "      <td>Port Adelaide</td>\n",
       "      <td>96</td>\n",
       "    </tr>\n",
       "    <tr>\n",
       "      <th>23</th>\n",
       "      <td>2</td>\n",
       "      <td>Port Adelaide</td>\n",
       "      <td>3</td>\n",
       "    </tr>\n",
       "    <tr>\n",
       "      <th>24</th>\n",
       "      <td>3</td>\n",
       "      <td>Port Adelaide</td>\n",
       "      <td>81</td>\n",
       "    </tr>\n",
       "    <tr>\n",
       "      <th>25</th>\n",
       "      <td>4</td>\n",
       "      <td>Port Adelaide</td>\n",
       "      <td>-53</td>\n",
       "    </tr>\n",
       "    <tr>\n",
       "      <th>26</th>\n",
       "      <td>5</td>\n",
       "      <td>Port Adelaide</td>\n",
       "      <td>55</td>\n",
       "    </tr>\n",
       "    <tr>\n",
       "      <th>27</th>\n",
       "      <td>6</td>\n",
       "      <td>Port Adelaide</td>\n",
       "      <td>17</td>\n",
       "    </tr>\n",
       "    <tr>\n",
       "      <th>28</th>\n",
       "      <td>7</td>\n",
       "      <td>Port Adelaide</td>\n",
       "      <td>-32</td>\n",
       "    </tr>\n",
       "    <tr>\n",
       "      <th>29</th>\n",
       "      <td>8</td>\n",
       "      <td>Port Adelaide</td>\n",
       "      <td>-92</td>\n",
       "    </tr>\n",
       "    <tr>\n",
       "      <th>30</th>\n",
       "      <td>9</td>\n",
       "      <td>Port Adelaide</td>\n",
       "      <td>78</td>\n",
       "    </tr>\n",
       "    <tr>\n",
       "      <th>31</th>\n",
       "      <td>10</td>\n",
       "      <td>Port Adelaide</td>\n",
       "      <td>4</td>\n",
       "    </tr>\n",
       "    <tr>\n",
       "      <th>32</th>\n",
       "      <td>11</td>\n",
       "      <td>Port Adelaide</td>\n",
       "      <td>-37</td>\n",
       "    </tr>\n",
       "    <tr>\n",
       "      <th>33</th>\n",
       "      <td>12</td>\n",
       "      <td>Port Adelaide</td>\n",
       "      <td>72</td>\n",
       "    </tr>\n",
       "    <tr>\n",
       "      <th>34</th>\n",
       "      <td>13</td>\n",
       "      <td>Port Adelaide</td>\n",
       "      <td>10</td>\n",
       "    </tr>\n",
       "    <tr>\n",
       "      <th>35</th>\n",
       "      <td>14</td>\n",
       "      <td>Port Adelaide</td>\n",
       "      <td>46</td>\n",
       "    </tr>\n",
       "    <tr>\n",
       "      <th>36</th>\n",
       "      <td>15</td>\n",
       "      <td>Port Adelaide</td>\n",
       "      <td>83</td>\n",
       "    </tr>\n",
       "    <tr>\n",
       "      <th>37</th>\n",
       "      <td>16</td>\n",
       "      <td>Port Adelaide</td>\n",
       "      <td>52</td>\n",
       "    </tr>\n",
       "    <tr>\n",
       "      <th>38</th>\n",
       "      <td>17</td>\n",
       "      <td>Port Adelaide</td>\n",
       "      <td>26</td>\n",
       "    </tr>\n",
       "    <tr>\n",
       "      <th>39</th>\n",
       "      <td>18</td>\n",
       "      <td>Port Adelaide</td>\n",
       "      <td>-40</td>\n",
       "    </tr>\n",
       "    <tr>\n",
       "      <th>40</th>\n",
       "      <td>19</td>\n",
       "      <td>Port Adelaide</td>\n",
       "      <td>73</td>\n",
       "    </tr>\n",
       "    <tr>\n",
       "      <th>41</th>\n",
       "      <td>20</td>\n",
       "      <td>Port Adelaide</td>\n",
       "      <td>86</td>\n",
       "    </tr>\n",
       "    <tr>\n",
       "      <th>42</th>\n",
       "      <td>21</td>\n",
       "      <td>Port Adelaide</td>\n",
       "      <td>37</td>\n",
       "    </tr>\n",
       "    <tr>\n",
       "      <th>43</th>\n",
       "      <td>22</td>\n",
       "      <td>Port Adelaide</td>\n",
       "      <td>25</td>\n",
       "    </tr>\n",
       "  </tbody>\n",
       "</table>\n",
       "</div>"
      ],
      "text/plain": [
       "    round           Team  Diff\n",
       "0       1       Brisbane     2\n",
       "1       2       Brisbane    21\n",
       "2       3       Brisbane    60\n",
       "3       4       Brisbane    -3\n",
       "4       5       Brisbane   -48\n",
       "5       6       Brisbane    -1\n",
       "6       7       Brisbane    44\n",
       "7       8       Brisbane    38\n",
       "8       9       Brisbane   -59\n",
       "9      10       Brisbane    40\n",
       "10     11       Brisbane    37\n",
       "11     12       Brisbane    66\n",
       "12     13       Brisbane   -27\n",
       "13     14       Brisbane    18\n",
       "14     15       Brisbane    68\n",
       "15     16       Brisbane    36\n",
       "16     17       Brisbane   141\n",
       "17     18       Brisbane   -32\n",
       "18     19       Brisbane   -14\n",
       "19     20       Brisbane    23\n",
       "20     21       Brisbane    45\n",
       "21     22       Brisbane   113\n",
       "22      1  Port Adelaide    96\n",
       "23      2  Port Adelaide     3\n",
       "24      3  Port Adelaide    81\n",
       "25      4  Port Adelaide   -53\n",
       "26      5  Port Adelaide    55\n",
       "27      6  Port Adelaide    17\n",
       "28      7  Port Adelaide   -32\n",
       "29      8  Port Adelaide   -92\n",
       "30      9  Port Adelaide    78\n",
       "31     10  Port Adelaide     4\n",
       "32     11  Port Adelaide   -37\n",
       "33     12  Port Adelaide    72\n",
       "34     13  Port Adelaide    10\n",
       "35     14  Port Adelaide    46\n",
       "36     15  Port Adelaide    83\n",
       "37     16  Port Adelaide    52\n",
       "38     17  Port Adelaide    26\n",
       "39     18  Port Adelaide   -40\n",
       "40     19  Port Adelaide    73\n",
       "41     20  Port Adelaide    86\n",
       "42     21  Port Adelaide    37\n",
       "43     22  Port Adelaide    25"
      ]
     },
     "execution_count": 60,
     "metadata": {},
     "output_type": "execute_result"
    }
   ],
   "source": [
    "melted_df"
   ]
  },
  {
   "cell_type": "code",
   "execution_count": 59,
   "id": "2acaac7e",
   "metadata": {},
   "outputs": [
    {
     "data": {
      "image/png": "[encoded data removed]",
      "text/plain": [
       "<Figure size 1080x720 with 1 Axes>"
      ]
     },
     "metadata": {},
     "output_type": "display_data"
    }
   ],
   "source": [
    "sbn.set(rc = {'figure.figsize':(8,15)})\n",
    "slots = sbn.catplot(data=melted_df, x='round', y='Diff', hue='Team', kind='bar')\n",
    "slots.fig.set_figwidth(15)\n",
    "slots.fig.set_figheight(10)\n",
    "for p in slots.ax.patches:\n",
    "    slots.ax.annotate(p.get_height(), \n",
    "                     (p.get_x() + p.get_width() / 2., p.get_height()),\n",
    "                     ha = 'center', va = 'center')"
   ]
  },
  {
   "cell_type": "code",
   "execution_count": 100,
   "id": "43ba8913",
   "metadata": {},
   "outputs": [],
   "source": [
    "import numpy as np\n",
    "xx = np.array([23, 56, 54, 90, 45, 60])"
   ]
  },
  {
   "cell_type": "code",
   "execution_count": 113,
   "id": "ee7b53c6",
   "metadata": {},
   "outputs": [
    {
     "data": {
      "text/plain": [
       "array([[23, 56, 54, 90, 45, 60]])"
      ]
     },
     "execution_count": 113,
     "metadata": {},
     "output_type": "execute_result"
    }
   ],
   "source": [
    "xx.reshape(-1, 6)"
   ]
  },
  {
   "cell_type": "code",
   "execution_count": 115,
   "id": "40c8671b",
   "metadata": {},
   "outputs": [
    {
     "ename": "ModuleNotFoundError",
     "evalue": "No module named 'sklearn'",
     "output_type": "error",
     "traceback": [
      "\u001b[0;31m---------------------------------------------------------------------------\u001b[0m",
      "\u001b[0;31mModuleNotFoundError\u001b[0m                       Traceback (most recent call last)",
      "\u001b[0;32m/var/folders/n3/4mg75b_n64x6p006zl1hmf300000gn/T/ipykernel_21660/2440152408.py\u001b[0m in \u001b[0;36m<module>\u001b[0;34m\u001b[0m\n\u001b[0;32m----> 1\u001b[0;31m \u001b[0;32mimport\u001b[0m \u001b[0msklearn\u001b[0m\u001b[0;34m\u001b[0m\u001b[0;34m\u001b[0m\u001b[0m\n\u001b[0m",
      "\u001b[0;31mModuleNotFoundError\u001b[0m: No module named 'sklearn'"
     ]
    }
   ],
   "source": [
    "import sklearn"
   ]
  },
  {
   "cell_type": "code",
   "execution_count": 114,
   "id": "8081a3ff",
   "metadata": {},
   "outputs": [],
   "source": [
    "## LINEAR REGRESSION"
   ]
  },
  {
   "cell_type": "code",
   "execution_count": 132,
   "id": "485a23bd",
   "metadata": {},
   "outputs": [
    {
     "data": {
      "text/plain": [
       "<seaborn.axisgrid.FacetGrid at 0x7f94ea054a90>"
      ]
     },
     "execution_count": 132,
     "metadata": {},
     "output_type": "execute_result"
    },
    {
     "data": {
      "image/png": "[encoded data removed]",
      "text/plain": [
       "<Figure size 360x360 with 1 Axes>"
      ]
     },
     "metadata": {
      "needs_background": "light"
     },
     "output_type": "display_data"
    }
   ],
   "source": [
    "import numpy as np\n",
    "import seaborn as sbn\n",
    "from sklearn.linear_model import LinearRegression\n",
    "x = np.array([1,2,3,4,5,6,7,8,9])\n",
    "y = np.array([12.2,22.4,30.3,39.8,55.7,69.4,70,81.2,89.7])\n",
    "sbn.relplot(x = x, y = y)"
   ]
  },
  {
   "cell_type": "code",
   "execution_count": null,
   "id": "01619317",
   "metadata": {},
   "outputs": [],
   "source": []
  },
  {
   "cell_type": "code",
   "execution_count": 121,
   "id": "1526d5fd",
   "metadata": {},
   "outputs": [
    {
     "data": {
      "text/plain": [
       "LinearRegression()"
      ]
     },
     "execution_count": 121,
     "metadata": {},
     "output_type": "execute_result"
    }
   ],
   "source": [
    "my_model = LinearRegression()\n",
    "my_model.fit(x.reshape(-1,1), y)"
   ]
  },
  {
   "cell_type": "code",
   "execution_count": 169,
   "id": "ff490776",
   "metadata": {},
   "outputs": [],
   "source": [
    "newx = np.array([7.5, 3.5, 1.2, 0.510, 12, 13, 14, 15, 16])\n",
    "predicted_val = my_model.predict(newx.reshape(-1,1))"
   ]
  },
  {
   "cell_type": "code",
   "execution_count": 170,
   "id": "1968aaa1",
   "metadata": {},
   "outputs": [
    {
     "data": {
      "text/plain": [
       "array([ 77.10833333,  37.415     ,  14.59133333,   7.74423333,\n",
       "       121.76333333, 131.68666667, 141.61      , 151.53333333,\n",
       "       161.45666667])"
      ]
     },
     "execution_count": 170,
     "metadata": {},
     "output_type": "execute_result"
    }
   ],
   "source": [
    "predicted_val"
   ]
  },
  {
   "cell_type": "code",
   "execution_count": 171,
   "id": "918a2d12",
   "metadata": {},
   "outputs": [
    {
     "data": {
      "text/plain": [
       "<seaborn.axisgrid.FacetGrid at 0x7f94ecbca250>"
      ]
     },
     "execution_count": 171,
     "metadata": {},
     "output_type": "execute_result"
    },
    {
     "data": {
      "image/png": "[encoded data removed]",
      "text/plain": [
       "<Figure size 360x360 with 1 Axes>"
      ]
     },
     "metadata": {
      "needs_background": "light"
     },
     "output_type": "display_data"
    }
   ],
   "source": [
    "sbn.relplot(x = newx, y = predicted_val, kind='line')"
   ]
  },
  {
   "cell_type": "code",
   "execution_count": 172,
   "id": "bae3ee8a",
   "metadata": {
    "scrolled": true
   },
   "outputs": [
    {
     "name": "stderr",
     "output_type": "stream",
     "text": [
      "No handles with labels found to put in legend.\n"
     ]
    },
    {
     "data": {
      "image/png": "[encoded data removed]",
      "text/plain": [
       "<Figure size 432x288 with 1 Axes>"
      ]
     },
     "metadata": {
      "needs_background": "light"
     },
     "output_type": "display_data"
    }
   ],
   "source": [
    "import matplotlib.pyplot as plt\n",
    "plt.plot(x.tolist(), y.tolist(), 'o')\n",
    "plt.plot(newx.tolist(), predicted_val.tolist(), 'r')\n",
    "plt.legend()\n",
    "plt.show()"
   ]
  },
  {
   "cell_type": "code",
   "execution_count": null,
   "id": "1376a068",
   "metadata": {},
   "outputs": [],
   "source": []
  }
 ],
 "metadata": {
  "kernelspec": {
   "display_name": "Python 3 (ipykernel)",
   "language": "python",
   "name": "python3"
  },
  "language_info": {
   "codemirror_mode": {
    "name": "ipython",
    "version": 3
   },
   "file_extension": ".py",
   "mimetype": "text/x-python",
   "name": "python",
   "nbconvert_exporter": "python",
   "pygments_lexer": "ipython3",
   "version": "3.9.7"
  }
 },
 "nbformat": 4,
 "nbformat_minor": 5
}
