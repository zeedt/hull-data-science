{
 "cells": [
  {
   "cell_type": "code",
   "execution_count": 1,
   "id": "73f7dcb4",
   "metadata": {},
   "outputs": [],
   "source": [
    "import pandas as pd\n",
    "import seaborn as sbn\n",
    "bribane_df = pd.read_csv('BrisbaneScores2004.csv')\n",
    "port_adelide_df = pd.read_csv('PortAdelaideScores2004.csv')\n"
   ]
  },
  {
   "cell_type": "code",
   "execution_count": 2,
   "id": "18d2be7f",
   "metadata": {},
   "outputs": [],
   "source": [
    "br_values = []\n",
    "pa_values = []\n",
    "combined_scores = []\n",
    "for no, v in enumerate(bribane_df.iterrows()):\n",
    "    if (v[1]['Home Team'] == 'Brisbane'):\n",
    "        diff = v[1]['Home Team Score']-v[1]['Away Team Score']\n",
    "    else:\n",
    "        diff = v[1]['Away Team Score']-v[1]['Home Team Score']\n",
    "    combined_scores.append({\n",
    "        'round' : no+1,\n",
    "        'Brisbane' : diff\n",
    "    })\n",
    "\n",
    "\n",
    "for no,v in enumerate(port_adelide_df.iterrows()):\n",
    "    if (v[1]['Home Team'] == 'Port Adelaide'):\n",
    "        diff = v[1]['Home Team Score']-v[1]['Away Team Score']\n",
    "    else:\n",
    "        diff = v[1]['Away Team Score']-v[1]['Home Team Score']\n",
    "    combined_scores[no]['Port Adelaide'] = diff"
   ]
  },
  {
   "cell_type": "code",
   "execution_count": 3,
   "id": "3db173c2",
   "metadata": {},
   "outputs": [
    {
     "data": {
      "text/plain": [
       "[{'round': 1, 'Brisbane': 2, 'Port Adelaide': 96},\n",
       " {'round': 2, 'Brisbane': 21, 'Port Adelaide': 3},\n",
       " {'round': 3, 'Brisbane': 60, 'Port Adelaide': 81},\n",
       " {'round': 4, 'Brisbane': -3, 'Port Adelaide': -53},\n",
       " {'round': 5, 'Brisbane': -48, 'Port Adelaide': 55},\n",
       " {'round': 6, 'Brisbane': -1, 'Port Adelaide': 17},\n",
       " {'round': 7, 'Brisbane': 44, 'Port Adelaide': -32},\n",
       " {'round': 8, 'Brisbane': 38, 'Port Adelaide': -92},\n",
       " {'round': 9, 'Brisbane': -59, 'Port Adelaide': 78},\n",
       " {'round': 10, 'Brisbane': 40, 'Port Adelaide': 4},\n",
       " {'round': 11, 'Brisbane': 37, 'Port Adelaide': -37},\n",
       " {'round': 12, 'Brisbane': 66, 'Port Adelaide': 72},\n",
       " {'round': 13, 'Brisbane': -27, 'Port Adelaide': 10},\n",
       " {'round': 14, 'Brisbane': 18, 'Port Adelaide': 46},\n",
       " {'round': 15, 'Brisbane': 68, 'Port Adelaide': 83},\n",
       " {'round': 16, 'Brisbane': 36, 'Port Adelaide': 52},\n",
       " {'round': 17, 'Brisbane': 141, 'Port Adelaide': 26},\n",
       " {'round': 18, 'Brisbane': -32, 'Port Adelaide': -40},\n",
       " {'round': 19, 'Brisbane': -14, 'Port Adelaide': 73},\n",
       " {'round': 20, 'Brisbane': 23, 'Port Adelaide': 86},\n",
       " {'round': 21, 'Brisbane': 45, 'Port Adelaide': 37},\n",
       " {'round': 22, 'Brisbane': 113, 'Port Adelaide': 25}]"
      ]
     },
     "execution_count": 3,
     "metadata": {},
     "output_type": "execute_result"
    }
   ],
   "source": [
    "combined_scores"
   ]
  },
  {
   "cell_type": "code",
   "execution_count": 4,
   "id": "20d2751e",
   "metadata": {},
   "outputs": [],
   "source": [
    "df = pd.DataFrame(combined_scores)\n",
    "melted_df = pd.melt(df, id_vars='round', var_name='Team', value_name='Diff')"
   ]
  },
  {
   "cell_type": "code",
   "execution_count": 5,
   "id": "2acaac7e",
   "metadata": {},
   "outputs": [
    {
     "data": {
      "text/plain": [
       "<seaborn.axisgrid.FacetGrid at 0x7fbad1024e80>"
      ]
     },
     "execution_count": 5,
     "metadata": {},
     "output_type": "execute_result"
    },
    {
     "data": {
      "image/png": "[encoded data removed]",
      "text/plain": [
       "<Figure size 462.375x360 with 1 Axes>"
      ]
     },
     "metadata": {
      "needs_background": "light"
     },
     "output_type": "display_data"
    }
   ],
   "source": [
    "sbn.catplot(data=melted_df, x='round', y='Diff', hue='Team', kind='bar', ann)"
   ]
  },
  {
   "cell_type": "code",
   "execution_count": 100,
   "id": "43ba8913",
   "metadata": {},
   "outputs": [],
   "source": [
    "import numpy as np\n",
    "xx = np.array([23, 56, 54, 90, 45, 60])"
   ]
  },
  {
   "cell_type": "code",
   "execution_count": 113,
   "id": "ee7b53c6",
   "metadata": {},
   "outputs": [
    {
     "data": {
      "text/plain": [
       "array([[23, 56, 54, 90, 45, 60]])"
      ]
     },
     "execution_count": 113,
     "metadata": {},
     "output_type": "execute_result"
    }
   ],
   "source": [
    "xx.reshape(-1, 6)"
   ]
  },
  {
   "cell_type": "code",
   "execution_count": 115,
   "id": "40c8671b",
   "metadata": {},
   "outputs": [
    {
     "ename": "ModuleNotFoundError",
     "evalue": "No module named 'sklearn'",
     "output_type": "error",
     "traceback": [
      "\u001b[0;31m---------------------------------------------------------------------------\u001b[0m",
      "\u001b[0;31mModuleNotFoundError\u001b[0m                       Traceback (most recent call last)",
      "\u001b[0;32m/var/folders/n3/4mg75b_n64x6p006zl1hmf300000gn/T/ipykernel_21660/2440152408.py\u001b[0m in \u001b[0;36m<module>\u001b[0;34m\u001b[0m\n\u001b[0;32m----> 1\u001b[0;31m \u001b[0;32mimport\u001b[0m \u001b[0msklearn\u001b[0m\u001b[0;34m\u001b[0m\u001b[0;34m\u001b[0m\u001b[0m\n\u001b[0m",
      "\u001b[0;31mModuleNotFoundError\u001b[0m: No module named 'sklearn'"
     ]
    }
   ],
   "source": [
    "import sklearn"
   ]
  },
  {
   "cell_type": "code",
   "execution_count": 114,
   "id": "8081a3ff",
   "metadata": {},
   "outputs": [],
   "source": [
    "## LINEAR REGRESSION"
   ]
  },
  {
   "cell_type": "code",
   "execution_count": 132,
   "id": "485a23bd",
   "metadata": {},
   "outputs": [
    {
     "data": {
      "text/plain": [
       "<seaborn.axisgrid.FacetGrid at 0x7f94ea054a90>"
      ]
     },
     "execution_count": 132,
     "metadata": {},
     "output_type": "execute_result"
    },
    {
     "data": {
      "image/png": "[encoded data removed]",
      "text/plain": [
       "<Figure size 360x360 with 1 Axes>"
      ]
     },
     "metadata": {
      "needs_background": "light"
     },
     "output_type": "display_data"
    }
   ],
   "source": [
    "import numpy as np\n",
    "import seaborn as sbn\n",
    "from sklearn.linear_model import LinearRegression\n",
    "x = np.array([1,2,3,4,5,6,7,8,9])\n",
    "y = np.array([12.2,22.4,30.3,39.8,55.7,69.4,70,81.2,89.7])\n",
    "sbn.relplot(x = x, y = y)"
   ]
  },
  {
   "cell_type": "code",
   "execution_count": null,
   "id": "01619317",
   "metadata": {},
   "outputs": [],
   "source": []
  },
  {
   "cell_type": "code",
   "execution_count": 121,
   "id": "1526d5fd",
   "metadata": {},
   "outputs": [
    {
     "data": {
      "text/plain": [
       "LinearRegression()"
      ]
     },
     "execution_count": 121,
     "metadata": {},
     "output_type": "execute_result"
    }
   ],
   "source": [
    "my_model = LinearRegression()\n",
    "my_model.fit(x.reshape(-1,1), y)"
   ]
  },
  {
   "cell_type": "code",
   "execution_count": 169,
   "id": "ff490776",
   "metadata": {},
   "outputs": [],
   "source": [
    "newx = np.array([7.5, 3.5, 1.2, 0.510, 12, 13, 14, 15, 16])\n",
    "predicted_val = my_model.predict(newx.reshape(-1,1))"
   ]
  },
  {
   "cell_type": "code",
   "execution_count": 170,
   "id": "1968aaa1",
   "metadata": {},
   "outputs": [
    {
     "data": {
      "text/plain": [
       "array([ 77.10833333,  37.415     ,  14.59133333,   7.74423333,\n",
       "       121.76333333, 131.68666667, 141.61      , 151.53333333,\n",
       "       161.45666667])"
      ]
     },
     "execution_count": 170,
     "metadata": {},
     "output_type": "execute_result"
    }
   ],
   "source": [
    "predicted_val"
   ]
  },
  {
   "cell_type": "code",
   "execution_count": 171,
   "id": "918a2d12",
   "metadata": {},
   "outputs": [
    {
     "data": {
      "text/plain": [
       "<seaborn.axisgrid.FacetGrid at 0x7f94ecbca250>"
      ]
     },
     "execution_count": 171,
     "metadata": {},
     "output_type": "execute_result"
    },
    {
     "data": {
      "image/png": "[encoded data removed]",
      "text/plain": [
       "<Figure size 360x360 with 1 Axes>"
      ]
     },
     "metadata": {
      "needs_background": "light"
     },
     "output_type": "display_data"
    }
   ],
   "source": [
    "sbn.relplot(x = newx, y = predicted_val, kind='line')"
   ]
  },
  {
   "cell_type": "code",
   "execution_count": 172,
   "id": "bae3ee8a",
   "metadata": {
    "scrolled": true
   },
   "outputs": [
    {
     "name": "stderr",
     "output_type": "stream",
     "text": [
      "No handles with labels found to put in legend.\n"
     ]
    },
    {
     "data": {
      "image/png": "[encoded data removed]",
      "text/plain": [
       "<Figure size 432x288 with 1 Axes>"
      ]
     },
     "metadata": {
      "needs_background": "light"
     },
     "output_type": "display_data"
    }
   ],
   "source": [
    "import matplotlib.pyplot as plt\n",
    "plt.plot(x.tolist(), y.tolist(), 'o')\n",
    "plt.plot(newx.tolist(), predicted_val.tolist(), 'r')\n",
    "plt.legend()\n",
    "plt.show()"
   ]
  },
  {
   "cell_type": "code",
   "execution_count": null,
   "id": "1376a068",
   "metadata": {},
   "outputs": [],
   "source": []
  }
 ],
 "metadata": {
  "kernelspec": {
   "display_name": "Python 3 (ipykernel)",
   "language": "python",
   "name": "python3"
  },
  "language_info": {
   "codemirror_mode": {
    "name": "ipython",
    "version": 3
   },
   "file_extension": ".py",
   "mimetype": "text/x-python",
   "name": "python",
   "nbconvert_exporter": "python",
   "pygments_lexer": "ipython3",
   "version": "3.9.7"
  }
 },
 "nbformat": 4,
 "nbformat_minor": 5
}
