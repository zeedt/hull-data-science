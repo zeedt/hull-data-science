{
 "cells": [
  {
   "cell_type": "code",
   "execution_count": 16,
   "id": "f81dc19e",
   "metadata": {},
   "outputs": [],
   "source": [
    "import random\n",
    "import numpy as np\n",
    "import scipy.stats as stat\n",
    "import seaborn as sbn\n",
    "import matplotlib.pyplot as plt"
   ]
  },
  {
   "cell_type": "code",
   "execution_count": 38,
   "id": "6b176458",
   "metadata": {},
   "outputs": [],
   "source": [
    "values = np.random.normal(size=20)"
   ]
  },
  {
   "cell_type": "code",
   "execution_count": 7,
   "id": "daccb442",
   "metadata": {},
   "outputs": [
    {
     "data": {
      "text/plain": [
       "array([ 0.37818254, -0.56720984,  1.24102036, -0.37283089, -0.83316405,\n",
       "        0.98941151, -1.00470193, -0.75837707, -0.52166503,  1.98639806])"
      ]
     },
     "execution_count": 7,
     "metadata": {},
     "output_type": "execute_result"
    }
   ],
   "source": [
    "values"
   ]
  },
  {
   "cell_type": "code",
   "execution_count": 9,
   "id": "37beb791",
   "metadata": {},
   "outputs": [
    {
     "data": {
      "text/plain": [
       "-0.8998429533200967"
      ]
     },
     "execution_count": 9,
     "metadata": {},
     "output_type": "execute_result"
    }
   ],
   "source": [
    "stat.kurtosis(values)"
   ]
  },
  {
   "cell_type": "code",
   "execution_count": 12,
   "id": "b265f07c",
   "metadata": {},
   "outputs": [
    {
     "data": {
      "text/plain": [
       "<seaborn.axisgrid.FacetGrid at 0x7fed552e7f70>"
      ]
     },
     "execution_count": 12,
     "metadata": {},
     "output_type": "execute_result"
    },
    {
     "data": {
      "image/png": "[encoded data removed]",
      "text/plain": [
       "<Figure size 360x360 with 1 Axes>"
      ]
     },
     "metadata": {
      "needs_background": "light"
     },
     "output_type": "display_data"
    }
   ],
   "source": [
    "sbn.displot(values)"
   ]
  },
  {
   "cell_type": "code",
   "execution_count": 15,
   "id": "40e642f7",
   "metadata": {},
   "outputs": [
    {
     "data": {
      "text/plain": [
       "array([0.19593673, 0.1916084 , 0.16453991, 0.19603519, 0.18289263,\n",
       "       0.17649679, 0.17582538, 0.18563411, 0.19279988, 0.12180817])"
      ]
     },
     "execution_count": 15,
     "metadata": {},
     "output_type": "execute_result"
    }
   ],
   "source": [
    "stat.norm.pdf(values,0,2)"
   ]
  },
  {
   "cell_type": "code",
   "execution_count": 21,
   "id": "28653adb",
   "metadata": {},
   "outputs": [
    {
     "data": {
      "image/png": "[encoded data removed]",
      "text/plain": [
       "<Figure size 432x288 with 1 Axes>"
      ]
     },
     "metadata": {
      "needs_background": "light"
     },
     "output_type": "display_data"
    }
   ],
   "source": [
    "x_axis = np.arange(-10, 10, 0.001)\n",
    "# Mean = 0, SD = 2.\n",
    "plt.plot(x_axis, stat.norm.pdf(x_axis,0,2))\n",
    "plt.show()"
   ]
  },
  {
   "cell_type": "code",
   "execution_count": 29,
   "id": "bb7e50c2",
   "metadata": {},
   "outputs": [
    {
     "data": {
      "text/plain": [
       "-1.2000000060000002"
      ]
     },
     "execution_count": 29,
     "metadata": {},
     "output_type": "execute_result"
    }
   ],
   "source": [
    "stat.kurtosis(x_axis, fisher=True)"
   ]
  },
  {
   "cell_type": "code",
   "execution_count": 41,
   "id": "312b68fe",
   "metadata": {},
   "outputs": [
    {
     "data": {
      "text/plain": [
       "NormaltestResult(statistic=0.5726297490613157, pvalue=0.7510260997217109)"
      ]
     },
     "execution_count": 41,
     "metadata": {},
     "output_type": "execute_result"
    }
   ],
   "source": [
    "stat.normaltest(values)"
   ]
  },
  {
   "cell_type": "code",
   "execution_count": 31,
   "id": "3f774758",
   "metadata": {},
   "outputs": [
    {
     "data": {
      "text/plain": [
       "-0.0005000000055422788"
      ]
     },
     "execution_count": 31,
     "metadata": {},
     "output_type": "execute_result"
    }
   ],
   "source": [
    "np.mean(x_axis)"
   ]
  },
  {
   "cell_type": "code",
   "execution_count": 32,
   "id": "1fe7ddd6",
   "metadata": {},
   "outputs": [
    {
     "data": {
      "text/plain": [
       "-0.0005000000055419562"
      ]
     },
     "execution_count": 32,
     "metadata": {},
     "output_type": "execute_result"
    }
   ],
   "source": [
    "np.median(x_axis)"
   ]
  },
  {
   "cell_type": "code",
   "execution_count": null,
   "id": "e4f17dbf",
   "metadata": {},
   "outputs": [],
   "source": []
  }
 ],
 "metadata": {
  "kernelspec": {
   "display_name": "Python 3 (ipykernel)",
   "language": "python",
   "name": "python3"
  },
  "language_info": {
   "codemirror_mode": {
    "name": "ipython",
    "version": 3
   },
   "file_extension": ".py",
   "mimetype": "text/x-python",
   "name": "python",
   "nbconvert_exporter": "python",
   "pygments_lexer": "ipython3",
   "version": "3.9.7"
  }
 },
 "nbformat": 4,
 "nbformat_minor": 5
}
