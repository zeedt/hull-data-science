{
 "cells": [
  {
   "cell_type": "code",
   "execution_count": 42,
   "id": "27b7dceb",
   "metadata": {},
   "outputs": [],
   "source": [
    "import pandas as pd\n",
    "import matplotlib.pyplot as plt\n",
    "import seaborn as sbn\n",
    "import scipy.stats as scipy_stats\n",
    "import numpy as np"
   ]
  },
  {
   "cell_type": "code",
   "execution_count": 2,
   "id": "b5998211",
   "metadata": {},
   "outputs": [],
   "source": [
    "census_df = pd.read_csv('census_05.csv')"
   ]
  },
  {
   "cell_type": "code",
   "execution_count": 14,
   "id": "071c514e",
   "metadata": {},
   "outputs": [
    {
     "name": "stdout",
     "output_type": "stream",
     "text": [
      "<class 'pandas.core.frame.DataFrame'>\n",
      "RangeIndex: 10480 entries, 0 to 10479\n",
      "Data columns (total 11 columns):\n",
      " #   Column                         Non-Null Count  Dtype  \n",
      "---  ------                         --------------  -----  \n",
      " 0   House Number                   10479 non-null  object \n",
      " 1   Street                         10480 non-null  object \n",
      " 2   First Name                     10480 non-null  object \n",
      " 3   Surname                        10480 non-null  object \n",
      " 4   Age                            10480 non-null  float64\n",
      " 5   Relationship to Head of House  10480 non-null  object \n",
      " 6   Marital Status                 8054 non-null   object \n",
      " 7   Gender                         10480 non-null  object \n",
      " 8   Occupation                     10480 non-null  object \n",
      " 9   Infirmity                      10480 non-null  object \n",
      " 10  Religion                       7986 non-null   object \n",
      "dtypes: float64(1), object(10)\n",
      "memory usage: 900.8+ KB\n"
     ]
    }
   ],
   "source": [
    "census_df.info()"
   ]
  },
  {
   "cell_type": "markdown",
   "id": "6f301c47",
   "metadata": {},
   "source": [
    "### Data Cleaning"
   ]
  },
  {
   "cell_type": "markdown",
   "id": "df13e2a5",
   "metadata": {},
   "source": [
    "#### Clean House Number by using forward fill to insert value for the missing value"
   ]
  },
  {
   "cell_type": "code",
   "execution_count": 31,
   "id": "c42bd10b",
   "metadata": {},
   "outputs": [],
   "source": [
    "census_df['House Number'].fillna(method='ffill', inplace=True)"
   ]
  },
  {
   "cell_type": "code",
   "execution_count": null,
   "id": "8374829d",
   "metadata": {},
   "outputs": [],
   "source": []
  },
  {
   "cell_type": "markdown",
   "id": "377a160d",
   "metadata": {},
   "source": [
    "#### Marital Status cleaning"
   ]
  },
  {
   "cell_type": "code",
   "execution_count": 35,
   "id": "58ec264d",
   "metadata": {},
   "outputs": [
    {
     "data": {
      "text/plain": [
       "array(['Single', nan, 'Married', 'Divorced', 'Widowed'], dtype=object)"
      ]
     },
     "execution_count": 35,
     "metadata": {},
     "output_type": "execute_result"
    }
   ],
   "source": [
    "census_df['Marital Status'].unique()"
   ]
  },
  {
   "cell_type": "code",
   "execution_count": 40,
   "id": "4c064017",
   "metadata": {
    "scrolled": true
   },
   "outputs": [
    {
     "data": {
      "text/plain": [
       "Single      3705\n",
       "Married     2964\n",
       "Divorced     964\n",
       "Widowed      421\n",
       "Name: Marital Status, dtype: int64"
      ]
     },
     "execution_count": 40,
     "metadata": {},
     "output_type": "execute_result"
    }
   ],
   "source": [
    "census_df['Marital Status'].value_counts()"
   ]
  },
  {
   "cell_type": "code",
   "execution_count": 49,
   "id": "ddd9dded",
   "metadata": {},
   "outputs": [
    {
     "data": {
      "text/html": [
       "<div>\n",
       "<style scoped>\n",
       "    .dataframe tbody tr th:only-of-type {\n",
       "        vertical-align: middle;\n",
       "    }\n",
       "\n",
       "    .dataframe tbody tr th {\n",
       "        vertical-align: top;\n",
       "    }\n",
       "\n",
       "    .dataframe thead th {\n",
       "        text-align: right;\n",
       "    }\n",
       "</style>\n",
       "<table border=\"1\" class=\"dataframe\">\n",
       "  <thead>\n",
       "    <tr style=\"text-align: right;\">\n",
       "      <th></th>\n",
       "      <th>House Number</th>\n",
       "      <th>Street</th>\n",
       "      <th>First Name</th>\n",
       "      <th>Surname</th>\n",
       "      <th>Age</th>\n",
       "      <th>Relationship to Head of House</th>\n",
       "      <th>Marital Status</th>\n",
       "      <th>Gender</th>\n",
       "      <th>Occupation</th>\n",
       "      <th>Infirmity</th>\n",
       "      <th>Religion</th>\n",
       "    </tr>\n",
       "  </thead>\n",
       "  <tbody>\n",
       "    <tr>\n",
       "      <th>2</th>\n",
       "      <td>2</td>\n",
       "      <td>Orry Row</td>\n",
       "      <td>Harry</td>\n",
       "      <td>O'Connor</td>\n",
       "      <td>7.0</td>\n",
       "      <td>Son</td>\n",
       "      <td>NaN</td>\n",
       "      <td>Male</td>\n",
       "      <td>Student</td>\n",
       "      <td>None</td>\n",
       "      <td>NaN</td>\n",
       "    </tr>\n",
       "    <tr>\n",
       "      <th>3</th>\n",
       "      <td>2</td>\n",
       "      <td>Orry Row</td>\n",
       "      <td>Pamela</td>\n",
       "      <td>O'Connor</td>\n",
       "      <td>4.0</td>\n",
       "      <td>Daughter</td>\n",
       "      <td>NaN</td>\n",
       "      <td>Female</td>\n",
       "      <td>Child</td>\n",
       "      <td>None</td>\n",
       "      <td>NaN</td>\n",
       "    </tr>\n",
       "    <tr>\n",
       "      <th>6</th>\n",
       "      <td>3</td>\n",
       "      <td>Orry Row</td>\n",
       "      <td>Gregory</td>\n",
       "      <td>Walker</td>\n",
       "      <td>5.0</td>\n",
       "      <td>Step-Son</td>\n",
       "      <td>NaN</td>\n",
       "      <td>Male</td>\n",
       "      <td>Student</td>\n",
       "      <td>None</td>\n",
       "      <td>NaN</td>\n",
       "    </tr>\n",
       "    <tr>\n",
       "      <th>9</th>\n",
       "      <td>4</td>\n",
       "      <td>Orry Row</td>\n",
       "      <td>Clare</td>\n",
       "      <td>Brady</td>\n",
       "      <td>5.0</td>\n",
       "      <td>Granddaughter</td>\n",
       "      <td>NaN</td>\n",
       "      <td>Female</td>\n",
       "      <td>Student</td>\n",
       "      <td>None</td>\n",
       "      <td>NaN</td>\n",
       "    </tr>\n",
       "    <tr>\n",
       "      <th>14</th>\n",
       "      <td>7</td>\n",
       "      <td>Orry Row</td>\n",
       "      <td>Charlotte</td>\n",
       "      <td>Turnbull</td>\n",
       "      <td>9.0</td>\n",
       "      <td>Granddaughter</td>\n",
       "      <td>NaN</td>\n",
       "      <td>Female</td>\n",
       "      <td>Student</td>\n",
       "      <td>None</td>\n",
       "      <td>NaN</td>\n",
       "    </tr>\n",
       "    <tr>\n",
       "      <th>...</th>\n",
       "      <td>...</td>\n",
       "      <td>...</td>\n",
       "      <td>...</td>\n",
       "      <td>...</td>\n",
       "      <td>...</td>\n",
       "      <td>...</td>\n",
       "      <td>...</td>\n",
       "      <td>...</td>\n",
       "      <td>...</td>\n",
       "      <td>...</td>\n",
       "      <td>...</td>\n",
       "    </tr>\n",
       "    <tr>\n",
       "      <th>10474</th>\n",
       "      <td>1</td>\n",
       "      <td>Evans Villa</td>\n",
       "      <td>Philip</td>\n",
       "      <td>Davies</td>\n",
       "      <td>2.0</td>\n",
       "      <td>Son</td>\n",
       "      <td>NaN</td>\n",
       "      <td>Male</td>\n",
       "      <td>Child</td>\n",
       "      <td>None</td>\n",
       "      <td>NaN</td>\n",
       "    </tr>\n",
       "    <tr>\n",
       "      <th>10476</th>\n",
       "      <td>1</td>\n",
       "      <td>Lewis Abbey</td>\n",
       "      <td>Joshua</td>\n",
       "      <td>Kemp</td>\n",
       "      <td>9.0</td>\n",
       "      <td>Son</td>\n",
       "      <td>NaN</td>\n",
       "      <td>Male</td>\n",
       "      <td>Student</td>\n",
       "      <td>None</td>\n",
       "      <td>NaN</td>\n",
       "    </tr>\n",
       "    <tr>\n",
       "      <th>10477</th>\n",
       "      <td>1</td>\n",
       "      <td>Lewis Abbey</td>\n",
       "      <td>Graeme</td>\n",
       "      <td>Kemp</td>\n",
       "      <td>8.0</td>\n",
       "      <td>Son</td>\n",
       "      <td>NaN</td>\n",
       "      <td>Male</td>\n",
       "      <td>Student</td>\n",
       "      <td>None</td>\n",
       "      <td>NaN</td>\n",
       "    </tr>\n",
       "    <tr>\n",
       "      <th>10478</th>\n",
       "      <td>1</td>\n",
       "      <td>Lewis Abbey</td>\n",
       "      <td>Donald</td>\n",
       "      <td>Kemp</td>\n",
       "      <td>4.0</td>\n",
       "      <td>Son</td>\n",
       "      <td>NaN</td>\n",
       "      <td>Male</td>\n",
       "      <td>Child</td>\n",
       "      <td>None</td>\n",
       "      <td>NaN</td>\n",
       "    </tr>\n",
       "    <tr>\n",
       "      <th>10479</th>\n",
       "      <td>1</td>\n",
       "      <td>Lewis Abbey</td>\n",
       "      <td>Dylan</td>\n",
       "      <td>Kemp</td>\n",
       "      <td>3.0</td>\n",
       "      <td>Son</td>\n",
       "      <td>NaN</td>\n",
       "      <td>Male</td>\n",
       "      <td>Child</td>\n",
       "      <td>None</td>\n",
       "      <td>NaN</td>\n",
       "    </tr>\n",
       "  </tbody>\n",
       "</table>\n",
       "<p>2426 rows × 11 columns</p>\n",
       "</div>"
      ],
      "text/plain": [
       "      House Number       Street First Name   Surname  Age  \\\n",
       "2                2     Orry Row      Harry  O'Connor  7.0   \n",
       "3                2     Orry Row     Pamela  O'Connor  4.0   \n",
       "6                3     Orry Row    Gregory    Walker  5.0   \n",
       "9                4     Orry Row      Clare     Brady  5.0   \n",
       "14               7     Orry Row  Charlotte  Turnbull  9.0   \n",
       "...            ...          ...        ...       ...  ...   \n",
       "10474            1  Evans Villa     Philip    Davies  2.0   \n",
       "10476            1  Lewis Abbey     Joshua      Kemp  9.0   \n",
       "10477            1  Lewis Abbey     Graeme      Kemp  8.0   \n",
       "10478            1  Lewis Abbey     Donald      Kemp  4.0   \n",
       "10479            1  Lewis Abbey      Dylan      Kemp  3.0   \n",
       "\n",
       "      Relationship to Head of House Marital Status  Gender Occupation  \\\n",
       "2                               Son            NaN    Male    Student   \n",
       "3                          Daughter            NaN  Female      Child   \n",
       "6                          Step-Son            NaN    Male    Student   \n",
       "9                     Granddaughter            NaN  Female    Student   \n",
       "14                    Granddaughter            NaN  Female    Student   \n",
       "...                             ...            ...     ...        ...   \n",
       "10474                           Son            NaN    Male      Child   \n",
       "10476                           Son            NaN    Male    Student   \n",
       "10477                           Son            NaN    Male    Student   \n",
       "10478                           Son            NaN    Male      Child   \n",
       "10479                           Son            NaN    Male      Child   \n",
       "\n",
       "      Infirmity Religion  \n",
       "2          None      NaN  \n",
       "3          None      NaN  \n",
       "6          None      NaN  \n",
       "9          None      NaN  \n",
       "14         None      NaN  \n",
       "...         ...      ...  \n",
       "10474      None      NaN  \n",
       "10476      None      NaN  \n",
       "10477      None      NaN  \n",
       "10478      None      NaN  \n",
       "10479      None      NaN  \n",
       "\n",
       "[2426 rows x 11 columns]"
      ]
     },
     "execution_count": 49,
     "metadata": {},
     "output_type": "execute_result"
    }
   ],
   "source": [
    "census_df[census_df['Marital Status'].isna()]"
   ]
  },
  {
   "cell_type": "code",
   "execution_count": 50,
   "id": "7a904da6",
   "metadata": {},
   "outputs": [
    {
     "data": {
      "text/plain": [
       "NormaltestResult(statistic=520.7891003182949, pvalue=8.167398541337057e-114)"
      ]
     },
     "execution_count": 50,
     "metadata": {},
     "output_type": "execute_result"
    }
   ],
   "source": [
    "scipy_stats.normaltest(census_df['Age'])"
   ]
  },
  {
   "cell_type": "code",
   "execution_count": 52,
   "id": "c3558ddf",
   "metadata": {},
   "outputs": [
    {
     "data": {
      "text/plain": [
       "array(['Head', 'Son', 'Daughter', 'Wife', 'Step-Son', 'Husband',\n",
       "       'Granddaughter', 'Step-Daughter', 'Grandson', 'Lodger', 'Partner',\n",
       "       'None', 'Adopted Son', 'Sibling', ' ', 'Cousin',\n",
       "       'Adopted Daughter', 'Visitor', 'Neice', 'Nephew',\n",
       "       'Daughter-in-law', 'Son-in-law', 'Adopted Granddaughter'],\n",
       "      dtype=object)"
      ]
     },
     "execution_count": 52,
     "metadata": {},
     "output_type": "execute_result"
    }
   ],
   "source": [
    "census_df['Relationship to Head of House'].unique()"
   ]
  },
  {
   "cell_type": "code",
   "execution_count": 58,
   "id": "ae1abb46",
   "metadata": {},
   "outputs": [
    {
     "data": {
      "text/plain": [
       "None          3526\n",
       "Christian     2355\n",
       "Catholic      1172\n",
       "Methodist      678\n",
       "Muslim         129\n",
       "Jewish          54\n",
       "Sikh            52\n",
       "                 6\n",
       "Pagan            3\n",
       "Quaker           2\n",
       "Buddist          2\n",
       "Agnostic         1\n",
       "Sith             1\n",
       "Meth-odist       1\n",
       "Hindu            1\n",
       "Cath0lic         1\n",
       "Nope             1\n",
       "Baptist          1\n",
       "Name: Religion, dtype: int64"
      ]
     },
     "execution_count": 58,
     "metadata": {},
     "output_type": "execute_result"
    }
   ],
   "source": [
    "census_df['Religion'].value_counts()"
   ]
  },
  {
   "cell_type": "code",
   "execution_count": 59,
   "id": "54f17f34",
   "metadata": {},
   "outputs": [
    {
     "data": {
      "text/plain": [
       "Single      3705\n",
       "Married     2964\n",
       "Divorced     964\n",
       "Widowed      421\n",
       "Name: Marital Status, dtype: int64"
      ]
     },
     "execution_count": 59,
     "metadata": {},
     "output_type": "execute_result"
    }
   ],
   "source": [
    "census_df['Marital Status'].value_counts()"
   ]
  },
  {
   "cell_type": "code",
   "execution_count": 61,
   "id": "feb13ea6",
   "metadata": {},
   "outputs": [
    {
     "data": {
      "text/plain": [
       "array(['None', 'Unknown Infection', 'Blind', 'Physical Disability',\n",
       "       'Mental Disability', 'Disabled', ' ', 'Deaf'], dtype=object)"
      ]
     },
     "execution_count": 61,
     "metadata": {},
     "output_type": "execute_result"
    }
   ],
   "source": [
    "census_df['Infirmity'].unique()"
   ]
  },
  {
   "cell_type": "code",
   "execution_count": 63,
   "id": "19394de6",
   "metadata": {},
   "outputs": [
    {
     "data": {
      "text/plain": [
       "count    10480.000000\n",
       "mean        36.139563\n",
       "std         21.573443\n",
       "min          0.000000\n",
       "25%         19.000000\n",
       "50%         35.000000\n",
       "75%         51.000000\n",
       "max        106.000000\n",
       "Name: Age, dtype: float64"
      ]
     },
     "execution_count": 63,
     "metadata": {},
     "output_type": "execute_result"
    }
   ],
   "source": [
    "census_df['Age'].describe()"
   ]
  },
  {
   "cell_type": "code",
   "execution_count": 64,
   "id": "7b203a0b",
   "metadata": {},
   "outputs": [
    {
     "name": "stdout",
     "output_type": "stream",
     "text": [
      "2\n"
     ]
    }
   ],
   "source": [
    "a = [3, 2]\n",
    "print(a[-1])"
   ]
  },
  {
   "cell_type": "code",
   "execution_count": null,
   "id": "e723d120",
   "metadata": {},
   "outputs": [],
   "source": []
  }
 ],
 "metadata": {
  "kernelspec": {
   "display_name": "Python 3 (ipykernel)",
   "language": "python",
   "name": "python3"
  },
  "language_info": {
   "codemirror_mode": {
    "name": "ipython",
    "version": 3
   },
   "file_extension": ".py",
   "mimetype": "text/x-python",
   "name": "python",
   "nbconvert_exporter": "python",
   "pygments_lexer": "ipython3",
   "version": "3.9.7"
  }
 },
 "nbformat": 4,
 "nbformat_minor": 5
}
