{
 "cells": [
  {
   "cell_type": "code",
   "execution_count": 1,
   "id": "082e0aa6",
   "metadata": {},
   "outputs": [],
   "source": [
    "import pandas as pd"
   ]
  },
  {
   "cell_type": "code",
   "execution_count": 4,
   "id": "a9520e64",
   "metadata": {},
   "outputs": [],
   "source": [
    "tValue = pd.DataFrame({\n",
    "    \"FirstName\" :['Olamide', 'Olakunle', 'Bimbo', \"Shola\"],\n",
    "    \"Age\" : [2, 3, 4, 10],\n",
    "    \"School\" : [\"Uni of Hull\", \"Uni of Birmingham\", \"Oxford University\", \"University of Ibadan\"],\n",
    "    \"Grade\" : [\"A\", \"D\", \"D\", \"E\"]\n",
    "})"
   ]
  },
  {
   "cell_type": "code",
   "execution_count": 6,
   "id": "8f5e5779",
   "metadata": {},
   "outputs": [
    {
     "name": "stdout",
     "output_type": "stream",
     "text": [
      "<class 'pandas.core.frame.DataFrame'>\n",
      "RangeIndex: 4 entries, 0 to 3\n",
      "Data columns (total 4 columns):\n",
      " #   Column     Non-Null Count  Dtype \n",
      "---  ------     --------------  ----- \n",
      " 0   FirstName  4 non-null      object\n",
      " 1   Age        4 non-null      int64 \n",
      " 2   School     4 non-null      object\n",
      " 3   Grade      4 non-null      object\n",
      "dtypes: int64(1), object(3)\n",
      "memory usage: 256.0+ bytes\n"
     ]
    }
   ],
   "source": [
    "tValue.info()"
   ]
  },
  {
   "cell_type": "code",
   "execution_count": 8,
   "id": "345dcd57",
   "metadata": {},
   "outputs": [
    {
     "data": {
      "text/html": [
       "<div>\n",
       "<style scoped>\n",
       "    .dataframe tbody tr th:only-of-type {\n",
       "        vertical-align: middle;\n",
       "    }\n",
       "\n",
       "    .dataframe tbody tr th {\n",
       "        vertical-align: top;\n",
       "    }\n",
       "\n",
       "    .dataframe thead th {\n",
       "        text-align: right;\n",
       "    }\n",
       "</style>\n",
       "<table border=\"1\" class=\"dataframe\">\n",
       "  <thead>\n",
       "    <tr style=\"text-align: right;\">\n",
       "      <th></th>\n",
       "      <th>FirstName</th>\n",
       "      <th>Age</th>\n",
       "      <th>School</th>\n",
       "      <th>Grade</th>\n",
       "    </tr>\n",
       "  </thead>\n",
       "  <tbody>\n",
       "    <tr>\n",
       "      <th>0</th>\n",
       "      <td>Olamide</td>\n",
       "      <td>2</td>\n",
       "      <td>Uni of Hull</td>\n",
       "      <td>B</td>\n",
       "    </tr>\n",
       "    <tr>\n",
       "      <th>1</th>\n",
       "      <td>Olakunle</td>\n",
       "      <td>3</td>\n",
       "      <td>Uni of Birmingham</td>\n",
       "      <td>B</td>\n",
       "    </tr>\n",
       "    <tr>\n",
       "      <th>2</th>\n",
       "      <td>Bimbo</td>\n",
       "      <td>4</td>\n",
       "      <td>Oxford University</td>\n",
       "      <td>B</td>\n",
       "    </tr>\n",
       "    <tr>\n",
       "      <th>3</th>\n",
       "      <td>Shola</td>\n",
       "      <td>10</td>\n",
       "      <td>University of Ibadan</td>\n",
       "      <td>E</td>\n",
       "    </tr>\n",
       "  </tbody>\n",
       "</table>\n",
       "</div>"
      ],
      "text/plain": [
       "  FirstName  Age                School Grade\n",
       "0   Olamide    2           Uni of Hull     B\n",
       "1  Olakunle    3     Uni of Birmingham     B\n",
       "2     Bimbo    4     Oxford University     B\n",
       "3     Shola   10  University of Ibadan     E"
      ]
     },
     "execution_count": 8,
     "metadata": {},
     "output_type": "execute_result"
    }
   ],
   "source": [
    "tValue.replace([\"D\", \"A\"], [\"B\", \"B\"])"
   ]
  },
  {
   "cell_type": "code",
   "execution_count": null,
   "id": "78ee8cef",
   "metadata": {},
   "outputs": [],
   "source": []
  }
 ],
 "metadata": {
  "kernelspec": {
   "display_name": "Python 3 (ipykernel)",
   "language": "python",
   "name": "python3"
  },
  "language_info": {
   "codemirror_mode": {
    "name": "ipython",
    "version": 3
   },
   "file_extension": ".py",
   "mimetype": "text/x-python",
   "name": "python",
   "nbconvert_exporter": "python",
   "pygments_lexer": "ipython3",
   "version": "3.9.7"
  }
 },
 "nbformat": 4,
 "nbformat_minor": 5
}
