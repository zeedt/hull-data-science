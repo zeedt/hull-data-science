{
 "cells": [
  {
   "cell_type": "markdown",
   "id": "d4438897",
   "metadata": {},
   "source": [
    "### Name : Yusuf Saheed Taiwo\n",
    "### Student Number : 202121964"
   ]
  },
  {
   "cell_type": "markdown",
   "id": "de5d5cb3",
   "metadata": {},
   "source": [
    "### MOCKED CENSUS CENSUS DATA CLEANING, VISUALIZATION AND ANALYSIS"
   ]
  },
  {
   "cell_type": "code",
   "execution_count": 1,
   "id": "15581ef0",
   "metadata": {},
   "outputs": [],
   "source": [
    "import seaborn as sbn\n",
    "import matplotlib.pyplot as plt\n",
    "import pandas as pd\n",
    "import numpy as np"
   ]
  },
  {
   "cell_type": "code",
   "execution_count": 2,
   "id": "3070a0c5",
   "metadata": {},
   "outputs": [],
   "source": [
    "census_df = pd.read_csv('census_13_new.csv')"
   ]
  },
  {
   "cell_type": "code",
   "execution_count": 3,
   "id": "1ae0524b",
   "metadata": {},
   "outputs": [
    {
     "data": {
      "text/html": [
       "<div>\n",
       "<style scoped>\n",
       "    .dataframe tbody tr th:only-of-type {\n",
       "        vertical-align: middle;\n",
       "    }\n",
       "\n",
       "    .dataframe tbody tr th {\n",
       "        vertical-align: top;\n",
       "    }\n",
       "\n",
       "    .dataframe thead th {\n",
       "        text-align: right;\n",
       "    }\n",
       "</style>\n",
       "<table border=\"1\" class=\"dataframe\">\n",
       "  <thead>\n",
       "    <tr style=\"text-align: right;\">\n",
       "      <th></th>\n",
       "      <th>House Number</th>\n",
       "      <th>Street</th>\n",
       "      <th>First Name</th>\n",
       "      <th>Surname</th>\n",
       "      <th>Age</th>\n",
       "      <th>Relationship to Head of House</th>\n",
       "      <th>Marital Status</th>\n",
       "      <th>Gender</th>\n",
       "      <th>Occupation</th>\n",
       "      <th>Infirmity</th>\n",
       "      <th>Religion</th>\n",
       "    </tr>\n",
       "  </thead>\n",
       "  <tbody>\n",
       "    <tr>\n",
       "      <th>count</th>\n",
       "      <td>8807</td>\n",
       "      <td>8809</td>\n",
       "      <td>8808</td>\n",
       "      <td>8809</td>\n",
       "      <td>8809</td>\n",
       "      <td>8809</td>\n",
       "      <td>6685</td>\n",
       "      <td>8809</td>\n",
       "      <td>8809</td>\n",
       "      <td>8809</td>\n",
       "      <td>6630</td>\n",
       "    </tr>\n",
       "    <tr>\n",
       "      <th>unique</th>\n",
       "      <td>230</td>\n",
       "      <td>105</td>\n",
       "      <td>370</td>\n",
       "      <td>644</td>\n",
       "      <td>121</td>\n",
       "      <td>20</td>\n",
       "      <td>4</td>\n",
       "      <td>8</td>\n",
       "      <td>1056</td>\n",
       "      <td>8</td>\n",
       "      <td>15</td>\n",
       "    </tr>\n",
       "    <tr>\n",
       "      <th>top</th>\n",
       "      <td>1</td>\n",
       "      <td>James Divide</td>\n",
       "      <td>Jemma</td>\n",
       "      <td>Jones</td>\n",
       "      <td>19</td>\n",
       "      <td>Head</td>\n",
       "      <td>Single</td>\n",
       "      <td>Female</td>\n",
       "      <td>Student</td>\n",
       "      <td>None</td>\n",
       "      <td>None</td>\n",
       "    </tr>\n",
       "    <tr>\n",
       "      <th>freq</th>\n",
       "      <td>358</td>\n",
       "      <td>747</td>\n",
       "      <td>40</td>\n",
       "      <td>246</td>\n",
       "      <td>189</td>\n",
       "      <td>3098</td>\n",
       "      <td>3105</td>\n",
       "      <td>4611</td>\n",
       "      <td>1720</td>\n",
       "      <td>8738</td>\n",
       "      <td>2917</td>\n",
       "    </tr>\n",
       "  </tbody>\n",
       "</table>\n",
       "</div>"
      ],
      "text/plain": [
       "       House Number        Street First Name Surname   Age  \\\n",
       "count          8807          8809       8808    8809  8809   \n",
       "unique          230           105        370     644   121   \n",
       "top               1  James Divide      Jemma   Jones    19   \n",
       "freq            358           747         40     246   189   \n",
       "\n",
       "       Relationship to Head of House Marital Status  Gender Occupation  \\\n",
       "count                           8809           6685    8809       8809   \n",
       "unique                            20              4       8       1056   \n",
       "top                             Head         Single  Female    Student   \n",
       "freq                            3098           3105    4611       1720   \n",
       "\n",
       "       Infirmity Religion  \n",
       "count       8809     6630  \n",
       "unique         8       15  \n",
       "top         None     None  \n",
       "freq        8738     2917  "
      ]
     },
     "execution_count": 3,
     "metadata": {},
     "output_type": "execute_result"
    }
   ],
   "source": [
    "census_df.describe()"
   ]
  },
  {
   "cell_type": "code",
   "execution_count": 4,
   "id": "0fd96c27",
   "metadata": {},
   "outputs": [
    {
     "name": "stdout",
     "output_type": "stream",
     "text": [
      "<class 'pandas.core.frame.DataFrame'>\n",
      "RangeIndex: 8809 entries, 0 to 8808\n",
      "Data columns (total 11 columns):\n",
      " #   Column                         Non-Null Count  Dtype \n",
      "---  ------                         --------------  ----- \n",
      " 0   House Number                   8807 non-null   object\n",
      " 1   Street                         8809 non-null   object\n",
      " 2   First Name                     8808 non-null   object\n",
      " 3   Surname                        8809 non-null   object\n",
      " 4   Age                            8809 non-null   object\n",
      " 5   Relationship to Head of House  8809 non-null   object\n",
      " 6   Marital Status                 6685 non-null   object\n",
      " 7   Gender                         8809 non-null   object\n",
      " 8   Occupation                     8809 non-null   object\n",
      " 9   Infirmity                      8809 non-null   object\n",
      " 10  Religion                       6630 non-null   object\n",
      "dtypes: object(11)\n",
      "memory usage: 757.1+ KB\n"
     ]
    }
   ],
   "source": [
    "census_df.info()"
   ]
  },
  {
   "cell_type": "markdown",
   "id": "63aacf82",
   "metadata": {},
   "source": [
    "### AGE CLEANING"
   ]
  },
  {
   "cell_type": "code",
   "execution_count": 5,
   "id": "f264db77",
   "metadata": {},
   "outputs": [
    {
     "data": {
      "text/plain": [
       "array(['72', '66', '41', '67', '86', '54', '60', '39', '4', '29', '65',\n",
       "       '33', '1', '32', '36', '53', '80', '70', '18', '23', '9', '43',\n",
       "       '15', '69', '61', '51', '14', '21', '47', '16', '56', '62', '42',\n",
       "       '26', '68', '64', '40', '10', '45', '8', '50', '58', '76', '20',\n",
       "       '35', '57', '27', '87', '24', '44', '13', '31', '37', '59', '17',\n",
       "       '28', '52', '71', '25', '55', '11', '38', '82', '30', '6', '75',\n",
       "       '63', '5', '73', '84', '77', '46', '49', '130', '13.5', '12', '7',\n",
       "       '19', '48', '3', '22', '74', '34', '2', '0', '88', '83', '78',\n",
       "       '85', '81', '104', '89', '102', '101', '79', '-1', '103', '108',\n",
       "       '57.51640188', '54.51640188', '90', '93', '105', '100', '91', '98',\n",
       "       '99', '0.5', '96', '94', '95', '76.82291585', ' ', '45.84015263',\n",
       "       '72.82182345', '67.82182345', '80.56547752', '82.56547752', '92',\n",
       "       '63.63598379', '65.63598379'], dtype=object)"
      ]
     },
     "execution_count": 5,
     "metadata": {},
     "output_type": "execute_result"
    }
   ],
   "source": [
    "census_df['Age'].unique()"
   ]
  },
  {
   "cell_type": "markdown",
   "id": "1c6156b5",
   "metadata": {},
   "source": [
    "#### Check and Clean age with blank value"
   ]
  },
  {
   "cell_type": "markdown",
   "id": "8938c7cc",
   "metadata": {},
   "source": [
    "#### Look for negative age and fill in age appropriately based on other columns"
   ]
  },
  {
   "cell_type": "code",
   "execution_count": 6,
   "id": "b4786a36",
   "metadata": {},
   "outputs": [
    {
     "data": {
      "text/html": [
       "<div>\n",
       "<style scoped>\n",
       "    .dataframe tbody tr th:only-of-type {\n",
       "        vertical-align: middle;\n",
       "    }\n",
       "\n",
       "    .dataframe tbody tr th {\n",
       "        vertical-align: top;\n",
       "    }\n",
       "\n",
       "    .dataframe thead th {\n",
       "        text-align: right;\n",
       "    }\n",
       "</style>\n",
       "<table border=\"1\" class=\"dataframe\">\n",
       "  <thead>\n",
       "    <tr style=\"text-align: right;\">\n",
       "      <th></th>\n",
       "      <th>House Number</th>\n",
       "      <th>Street</th>\n",
       "      <th>First Name</th>\n",
       "      <th>Surname</th>\n",
       "      <th>Age</th>\n",
       "      <th>Relationship to Head of House</th>\n",
       "      <th>Marital Status</th>\n",
       "      <th>Gender</th>\n",
       "      <th>Occupation</th>\n",
       "      <th>Infirmity</th>\n",
       "      <th>Religion</th>\n",
       "    </tr>\n",
       "  </thead>\n",
       "  <tbody>\n",
       "    <tr>\n",
       "      <th>1047</th>\n",
       "      <td>14</td>\n",
       "      <td>St.John Lane</td>\n",
       "      <td>Josephine</td>\n",
       "      <td>Wright</td>\n",
       "      <td>-1</td>\n",
       "      <td>Daughter</td>\n",
       "      <td>NaN</td>\n",
       "      <td>Female</td>\n",
       "      <td>Child</td>\n",
       "      <td>None</td>\n",
       "      <td>NaN</td>\n",
       "    </tr>\n",
       "  </tbody>\n",
       "</table>\n",
       "</div>"
      ],
      "text/plain": [
       "     House Number        Street First Name Surname Age  \\\n",
       "1047           14  St.John Lane  Josephine  Wright  -1   \n",
       "\n",
       "     Relationship to Head of House Marital Status  Gender Occupation  \\\n",
       "1047                      Daughter            NaN  Female      Child   \n",
       "\n",
       "     Infirmity Religion  \n",
       "1047      None      NaN  "
      ]
     },
     "execution_count": 6,
     "metadata": {},
     "output_type": "execute_result"
    }
   ],
   "source": [
    "census_df[census_df['Age'].str.startswith('-')]"
   ]
  },
  {
   "cell_type": "code",
   "execution_count": 7,
   "id": "0952190c",
   "metadata": {},
   "outputs": [],
   "source": [
    "census_df['Age'][1047] = '1'"
   ]
  },
  {
   "cell_type": "markdown",
   "id": "02c80924",
   "metadata": {},
   "source": [
    "#### Get blank age and replace with median age based on the relatioship type"
   ]
  },
  {
   "cell_type": "code",
   "execution_count": 8,
   "id": "9beb9fd8",
   "metadata": {},
   "outputs": [
    {
     "data": {
      "text/html": [
       "<div>\n",
       "<style scoped>\n",
       "    .dataframe tbody tr th:only-of-type {\n",
       "        vertical-align: middle;\n",
       "    }\n",
       "\n",
       "    .dataframe tbody tr th {\n",
       "        vertical-align: top;\n",
       "    }\n",
       "\n",
       "    .dataframe thead th {\n",
       "        text-align: right;\n",
       "    }\n",
       "</style>\n",
       "<table border=\"1\" class=\"dataframe\">\n",
       "  <thead>\n",
       "    <tr style=\"text-align: right;\">\n",
       "      <th></th>\n",
       "      <th>House Number</th>\n",
       "      <th>Street</th>\n",
       "      <th>First Name</th>\n",
       "      <th>Surname</th>\n",
       "      <th>Age</th>\n",
       "      <th>Relationship to Head of House</th>\n",
       "      <th>Marital Status</th>\n",
       "      <th>Gender</th>\n",
       "      <th>Occupation</th>\n",
       "      <th>Infirmity</th>\n",
       "      <th>Religion</th>\n",
       "    </tr>\n",
       "  </thead>\n",
       "  <tbody>\n",
       "    <tr>\n",
       "      <th>6305</th>\n",
       "      <td>21</td>\n",
       "      <td>Brick Road</td>\n",
       "      <td>Frank</td>\n",
       "      <td>O'Brien</td>\n",
       "      <td></td>\n",
       "      <td>Son</td>\n",
       "      <td>NaN</td>\n",
       "      <td>Male</td>\n",
       "      <td>Student</td>\n",
       "      <td>None</td>\n",
       "      <td>NaN</td>\n",
       "    </tr>\n",
       "    <tr>\n",
       "      <th>6557</th>\n",
       "      <td>11</td>\n",
       "      <td>South Ridges</td>\n",
       "      <td>Alice</td>\n",
       "      <td>Graham-Gallagher</td>\n",
       "      <td></td>\n",
       "      <td>Head</td>\n",
       "      <td>Married</td>\n",
       "      <td>Female</td>\n",
       "      <td>Programme researcher, broadcasting/film/video</td>\n",
       "      <td>None</td>\n",
       "      <td>Methodist</td>\n",
       "    </tr>\n",
       "  </tbody>\n",
       "</table>\n",
       "</div>"
      ],
      "text/plain": [
       "     House Number        Street First Name           Surname Age  \\\n",
       "6305           21    Brick Road      Frank           O'Brien       \n",
       "6557           11  South Ridges      Alice  Graham-Gallagher       \n",
       "\n",
       "     Relationship to Head of House Marital Status  Gender  \\\n",
       "6305                           Son            NaN    Male   \n",
       "6557                          Head        Married  Female   \n",
       "\n",
       "                                         Occupation Infirmity   Religion  \n",
       "6305                                        Student      None        NaN  \n",
       "6557  Programme researcher, broadcasting/film/video      None  Methodist  "
      ]
     },
     "execution_count": 8,
     "metadata": {},
     "output_type": "execute_result"
    }
   ],
   "source": [
    "census_df[census_df['Age'].str.match(r'\\s')]"
   ]
  },
  {
   "cell_type": "code",
   "execution_count": 9,
   "id": "8d2833a7",
   "metadata": {},
   "outputs": [],
   "source": [
    "median_son_age = census_df[(census_df['Age'].str.isnumeric()) & \n",
    "          (census_df['Relationship to Head of House'] == 'Son')]['Age'].astype('float').median()"
   ]
  },
  {
   "cell_type": "code",
   "execution_count": 10,
   "id": "30a95a85",
   "metadata": {},
   "outputs": [],
   "source": [
    "median_head_age = census_df[(census_df['Age'].str.isnumeric()) & \n",
    "          (census_df['Relationship to Head of House'] == 'Head')]['Age'].astype('float').median()"
   ]
  },
  {
   "cell_type": "code",
   "execution_count": 11,
   "id": "5113340d",
   "metadata": {},
   "outputs": [],
   "source": [
    "census_df['Age'][6305] = int(median_son_age)"
   ]
  },
  {
   "cell_type": "code",
   "execution_count": 12,
   "id": "874ed447",
   "metadata": {},
   "outputs": [],
   "source": [
    "census_df['Age'][6557] = int(median_head_age)"
   ]
  },
  {
   "cell_type": "markdown",
   "id": "fb89645e",
   "metadata": {},
   "source": [
    "#### Cast Age to float, then to Integer. Look for age greater than 122 or lesser than 0, then treat accordingly"
   ]
  },
  {
   "cell_type": "code",
   "execution_count": 13,
   "id": "96f1f749",
   "metadata": {},
   "outputs": [],
   "source": [
    "census_df['Age'] = census_df['Age'].astype('float').astype('int')"
   ]
  },
  {
   "cell_type": "code",
   "execution_count": 14,
   "id": "160816f8",
   "metadata": {},
   "outputs": [
    {
     "data": {
      "text/html": [
       "<div>\n",
       "<style scoped>\n",
       "    .dataframe tbody tr th:only-of-type {\n",
       "        vertical-align: middle;\n",
       "    }\n",
       "\n",
       "    .dataframe tbody tr th {\n",
       "        vertical-align: top;\n",
       "    }\n",
       "\n",
       "    .dataframe thead th {\n",
       "        text-align: right;\n",
       "    }\n",
       "</style>\n",
       "<table border=\"1\" class=\"dataframe\">\n",
       "  <thead>\n",
       "    <tr style=\"text-align: right;\">\n",
       "      <th></th>\n",
       "      <th>House Number</th>\n",
       "      <th>Street</th>\n",
       "      <th>First Name</th>\n",
       "      <th>Surname</th>\n",
       "      <th>Age</th>\n",
       "      <th>Relationship to Head of House</th>\n",
       "      <th>Marital Status</th>\n",
       "      <th>Gender</th>\n",
       "      <th>Occupation</th>\n",
       "      <th>Infirmity</th>\n",
       "      <th>Religion</th>\n",
       "    </tr>\n",
       "  </thead>\n",
       "  <tbody>\n",
       "    <tr>\n",
       "      <th>146</th>\n",
       "      <td>5</td>\n",
       "      <td>Lewis Harbor</td>\n",
       "      <td>Lydia</td>\n",
       "      <td>Bailey</td>\n",
       "      <td>130</td>\n",
       "      <td>Granddaughter</td>\n",
       "      <td>NaN</td>\n",
       "      <td>Female</td>\n",
       "      <td>Student</td>\n",
       "      <td>None</td>\n",
       "      <td>NaN</td>\n",
       "    </tr>\n",
       "  </tbody>\n",
       "</table>\n",
       "</div>"
      ],
      "text/plain": [
       "    House Number        Street First Name Surname  Age  \\\n",
       "146            5  Lewis Harbor      Lydia  Bailey  130   \n",
       "\n",
       "    Relationship to Head of House Marital Status  Gender Occupation Infirmity  \\\n",
       "146                 Granddaughter            NaN  Female    Student      None   \n",
       "\n",
       "    Religion  \n",
       "146      NaN  "
      ]
     },
     "execution_count": 14,
     "metadata": {},
     "output_type": "execute_result"
    }
   ],
   "source": [
    "census_df[(census_df['Age'] > 122) | (census_df['Age'] < 0)]"
   ]
  },
  {
   "cell_type": "code",
   "execution_count": 15,
   "id": "cb6a7593",
   "metadata": {},
   "outputs": [
    {
     "data": {
      "text/html": [
       "<div>\n",
       "<style scoped>\n",
       "    .dataframe tbody tr th:only-of-type {\n",
       "        vertical-align: middle;\n",
       "    }\n",
       "\n",
       "    .dataframe tbody tr th {\n",
       "        vertical-align: top;\n",
       "    }\n",
       "\n",
       "    .dataframe thead th {\n",
       "        text-align: right;\n",
       "    }\n",
       "</style>\n",
       "<table border=\"1\" class=\"dataframe\">\n",
       "  <thead>\n",
       "    <tr style=\"text-align: right;\">\n",
       "      <th></th>\n",
       "      <th>House Number</th>\n",
       "      <th>Street</th>\n",
       "      <th>First Name</th>\n",
       "      <th>Surname</th>\n",
       "      <th>Age</th>\n",
       "      <th>Relationship to Head of House</th>\n",
       "      <th>Marital Status</th>\n",
       "      <th>Gender</th>\n",
       "      <th>Occupation</th>\n",
       "      <th>Infirmity</th>\n",
       "      <th>Religion</th>\n",
       "    </tr>\n",
       "  </thead>\n",
       "  <tbody>\n",
       "    <tr>\n",
       "      <th>144</th>\n",
       "      <td>5</td>\n",
       "      <td>Lewis Harbor</td>\n",
       "      <td>Alice</td>\n",
       "      <td>Bailey</td>\n",
       "      <td>72</td>\n",
       "      <td>Head</td>\n",
       "      <td>Married</td>\n",
       "      <td>Female</td>\n",
       "      <td>Retired Museum/gallery conservator</td>\n",
       "      <td>None</td>\n",
       "      <td>Christian</td>\n",
       "    </tr>\n",
       "    <tr>\n",
       "      <th>145</th>\n",
       "      <td>5</td>\n",
       "      <td>Lewis Harbor</td>\n",
       "      <td>Clifford</td>\n",
       "      <td>Bailey</td>\n",
       "      <td>69</td>\n",
       "      <td>Husband</td>\n",
       "      <td>Married</td>\n",
       "      <td>Male</td>\n",
       "      <td>Retired Air traffic controller</td>\n",
       "      <td>None</td>\n",
       "      <td>Christian</td>\n",
       "    </tr>\n",
       "    <tr>\n",
       "      <th>146</th>\n",
       "      <td>5</td>\n",
       "      <td>Lewis Harbor</td>\n",
       "      <td>Lydia</td>\n",
       "      <td>Bailey</td>\n",
       "      <td>130</td>\n",
       "      <td>Granddaughter</td>\n",
       "      <td>NaN</td>\n",
       "      <td>Female</td>\n",
       "      <td>Student</td>\n",
       "      <td>None</td>\n",
       "      <td>NaN</td>\n",
       "    </tr>\n",
       "  </tbody>\n",
       "</table>\n",
       "</div>"
      ],
      "text/plain": [
       "    House Number        Street First Name Surname  Age  \\\n",
       "144            5  Lewis Harbor      Alice  Bailey   72   \n",
       "145            5  Lewis Harbor   Clifford  Bailey   69   \n",
       "146            5  Lewis Harbor      Lydia  Bailey  130   \n",
       "\n",
       "    Relationship to Head of House Marital Status  Gender  \\\n",
       "144                          Head        Married  Female   \n",
       "145                       Husband        Married    Male   \n",
       "146                 Granddaughter            NaN  Female   \n",
       "\n",
       "                             Occupation Infirmity   Religion  \n",
       "144  Retired Museum/gallery conservator      None  Christian  \n",
       "145      Retired Air traffic controller      None  Christian  \n",
       "146                             Student      None        NaN  "
      ]
     },
     "execution_count": 15,
     "metadata": {},
     "output_type": "execute_result"
    }
   ],
   "source": [
    "census_df[(census_df['House Number'] == '5') & (census_df['Street'] == 'Lewis Harbor')]"
   ]
  },
  {
   "cell_type": "code",
   "execution_count": 16,
   "id": "7752a6d9",
   "metadata": {},
   "outputs": [],
   "source": [
    "census_df.at[146,'Age'] = 13"
   ]
  },
  {
   "cell_type": "code",
   "execution_count": 17,
   "id": "d7d3df34",
   "metadata": {},
   "outputs": [
    {
     "data": {
      "text/plain": [
       "0"
      ]
     },
     "execution_count": 17,
     "metadata": {},
     "output_type": "execute_result"
    }
   ],
   "source": [
    "census_df['Age'].min()"
   ]
  },
  {
   "cell_type": "markdown",
   "id": "be04aba1",
   "metadata": {},
   "source": [
    "#### Confirm that nobody whose age is less than 18 is Head of the house"
   ]
  },
  {
   "cell_type": "code",
   "execution_count": 18,
   "id": "d2c19df9",
   "metadata": {},
   "outputs": [
    {
     "data": {
      "text/html": [
       "<div>\n",
       "<style scoped>\n",
       "    .dataframe tbody tr th:only-of-type {\n",
       "        vertical-align: middle;\n",
       "    }\n",
       "\n",
       "    .dataframe tbody tr th {\n",
       "        vertical-align: top;\n",
       "    }\n",
       "\n",
       "    .dataframe thead th {\n",
       "        text-align: right;\n",
       "    }\n",
       "</style>\n",
       "<table border=\"1\" class=\"dataframe\">\n",
       "  <thead>\n",
       "    <tr style=\"text-align: right;\">\n",
       "      <th></th>\n",
       "      <th>House Number</th>\n",
       "      <th>Street</th>\n",
       "      <th>First Name</th>\n",
       "      <th>Surname</th>\n",
       "      <th>Age</th>\n",
       "      <th>Relationship to Head of House</th>\n",
       "      <th>Marital Status</th>\n",
       "      <th>Gender</th>\n",
       "      <th>Occupation</th>\n",
       "      <th>Infirmity</th>\n",
       "      <th>Religion</th>\n",
       "    </tr>\n",
       "  </thead>\n",
       "  <tbody>\n",
       "  </tbody>\n",
       "</table>\n",
       "</div>"
      ],
      "text/plain": [
       "Empty DataFrame\n",
       "Columns: [House Number, Street, First Name, Surname, Age, Relationship to Head of House, Marital Status, Gender, Occupation, Infirmity, Religion]\n",
       "Index: []"
      ]
     },
     "execution_count": 18,
     "metadata": {},
     "output_type": "execute_result"
    }
   ],
   "source": [
    "census_df[(census_df['Age'] < 18) & (census_df['Relationship to Head of House'] == 'Head')]"
   ]
  },
  {
   "cell_type": "code",
   "execution_count": 19,
   "id": "99e252da",
   "metadata": {},
   "outputs": [],
   "source": [
    "children_df = census_df[census_df['Relationship to Head of House'].isin(['Son', 'Daughter'])]"
   ]
  },
  {
   "cell_type": "code",
   "execution_count": 20,
   "id": "72e695a5",
   "metadata": {},
   "outputs": [
    {
     "data": {
      "text/html": [
       "<div>\n",
       "<style scoped>\n",
       "    .dataframe tbody tr th:only-of-type {\n",
       "        vertical-align: middle;\n",
       "    }\n",
       "\n",
       "    .dataframe tbody tr th {\n",
       "        vertical-align: top;\n",
       "    }\n",
       "\n",
       "    .dataframe thead th {\n",
       "        text-align: right;\n",
       "    }\n",
       "</style>\n",
       "<table border=\"1\" class=\"dataframe\">\n",
       "  <thead>\n",
       "    <tr style=\"text-align: right;\">\n",
       "      <th></th>\n",
       "      <th>House Number</th>\n",
       "      <th>Street</th>\n",
       "      <th>First Name</th>\n",
       "      <th>Surname</th>\n",
       "      <th>Age</th>\n",
       "      <th>Relationship to Head of House</th>\n",
       "      <th>Marital Status</th>\n",
       "      <th>Gender</th>\n",
       "      <th>Occupation</th>\n",
       "      <th>Infirmity</th>\n",
       "      <th>Religion</th>\n",
       "    </tr>\n",
       "  </thead>\n",
       "  <tbody>\n",
       "    <tr>\n",
       "      <th>8</th>\n",
       "      <td>7</td>\n",
       "      <td>Akhtar Pike</td>\n",
       "      <td>Kathryn</td>\n",
       "      <td>Metcalfe</td>\n",
       "      <td>4</td>\n",
       "      <td>Daughter</td>\n",
       "      <td>NaN</td>\n",
       "      <td>FEMALE</td>\n",
       "      <td>Child</td>\n",
       "      <td>None</td>\n",
       "      <td>NaN</td>\n",
       "    </tr>\n",
       "    <tr>\n",
       "      <th>12</th>\n",
       "      <td>9</td>\n",
       "      <td>Akhtar Pike</td>\n",
       "      <td>Kenneth</td>\n",
       "      <td>Bull</td>\n",
       "      <td>1</td>\n",
       "      <td>Son</td>\n",
       "      <td>NaN</td>\n",
       "      <td>Male</td>\n",
       "      <td>Child</td>\n",
       "      <td>None</td>\n",
       "      <td>NaN</td>\n",
       "    </tr>\n",
       "    <tr>\n",
       "      <th>22</th>\n",
       "      <td>14</td>\n",
       "      <td>Akhtar Pike</td>\n",
       "      <td>Kelly</td>\n",
       "      <td>Oliver</td>\n",
       "      <td>9</td>\n",
       "      <td>Daughter</td>\n",
       "      <td>NaN</td>\n",
       "      <td>Female</td>\n",
       "      <td>Student</td>\n",
       "      <td>None</td>\n",
       "      <td>NaN</td>\n",
       "    </tr>\n",
       "    <tr>\n",
       "      <th>26</th>\n",
       "      <td>16</td>\n",
       "      <td>Akhtar Pike</td>\n",
       "      <td>Hollie</td>\n",
       "      <td>Murphy</td>\n",
       "      <td>15</td>\n",
       "      <td>Daughter</td>\n",
       "      <td>NaN</td>\n",
       "      <td>Female</td>\n",
       "      <td>Student</td>\n",
       "      <td>None</td>\n",
       "      <td>NaN</td>\n",
       "    </tr>\n",
       "    <tr>\n",
       "      <th>30</th>\n",
       "      <td>19</td>\n",
       "      <td>Akhtar Pike</td>\n",
       "      <td>Nicola</td>\n",
       "      <td>Green</td>\n",
       "      <td>14</td>\n",
       "      <td>Daughter</td>\n",
       "      <td>NaN</td>\n",
       "      <td>Female</td>\n",
       "      <td>Student</td>\n",
       "      <td>None</td>\n",
       "      <td>NaN</td>\n",
       "    </tr>\n",
       "    <tr>\n",
       "      <th>...</th>\n",
       "      <td>...</td>\n",
       "      <td>...</td>\n",
       "      <td>...</td>\n",
       "      <td>...</td>\n",
       "      <td>...</td>\n",
       "      <td>...</td>\n",
       "      <td>...</td>\n",
       "      <td>...</td>\n",
       "      <td>...</td>\n",
       "      <td>...</td>\n",
       "      <td>...</td>\n",
       "    </tr>\n",
       "    <tr>\n",
       "      <th>8791</th>\n",
       "      <td>1</td>\n",
       "      <td>Ellis Citadel</td>\n",
       "      <td>Douglas</td>\n",
       "      <td>Archer-Payne</td>\n",
       "      <td>14</td>\n",
       "      <td>Son</td>\n",
       "      <td>NaN</td>\n",
       "      <td>Male</td>\n",
       "      <td>Student</td>\n",
       "      <td>None</td>\n",
       "      <td>NaN</td>\n",
       "    </tr>\n",
       "    <tr>\n",
       "      <th>8792</th>\n",
       "      <td>1</td>\n",
       "      <td>Ellis Citadel</td>\n",
       "      <td>Gary</td>\n",
       "      <td>Archer-Payne</td>\n",
       "      <td>10</td>\n",
       "      <td>Son</td>\n",
       "      <td>NaN</td>\n",
       "      <td>Male</td>\n",
       "      <td>Student</td>\n",
       "      <td>None</td>\n",
       "      <td>NaN</td>\n",
       "    </tr>\n",
       "    <tr>\n",
       "      <th>8806</th>\n",
       "      <td>1</td>\n",
       "      <td>Brass Lodge</td>\n",
       "      <td>Graeme</td>\n",
       "      <td>Rogers</td>\n",
       "      <td>11</td>\n",
       "      <td>Son</td>\n",
       "      <td>NaN</td>\n",
       "      <td>Male</td>\n",
       "      <td>Student</td>\n",
       "      <td>None</td>\n",
       "      <td>NaN</td>\n",
       "    </tr>\n",
       "    <tr>\n",
       "      <th>8807</th>\n",
       "      <td>1</td>\n",
       "      <td>Brass Lodge</td>\n",
       "      <td>Glenn</td>\n",
       "      <td>Rogers</td>\n",
       "      <td>10</td>\n",
       "      <td>Son</td>\n",
       "      <td>NaN</td>\n",
       "      <td>Male</td>\n",
       "      <td>Student</td>\n",
       "      <td>None</td>\n",
       "      <td>NaN</td>\n",
       "    </tr>\n",
       "    <tr>\n",
       "      <th>8808</th>\n",
       "      <td>1</td>\n",
       "      <td>Brass Lodge</td>\n",
       "      <td>Dean</td>\n",
       "      <td>Rogers</td>\n",
       "      <td>6</td>\n",
       "      <td>Son</td>\n",
       "      <td>NaN</td>\n",
       "      <td>Male</td>\n",
       "      <td>Student</td>\n",
       "      <td>None</td>\n",
       "      <td>NaN</td>\n",
       "    </tr>\n",
       "  </tbody>\n",
       "</table>\n",
       "<p>2789 rows × 11 columns</p>\n",
       "</div>"
      ],
      "text/plain": [
       "     House Number         Street First Name       Surname  Age  \\\n",
       "8               7    Akhtar Pike    Kathryn      Metcalfe    4   \n",
       "12              9    Akhtar Pike    Kenneth          Bull    1   \n",
       "22             14    Akhtar Pike      Kelly        Oliver    9   \n",
       "26             16    Akhtar Pike     Hollie        Murphy   15   \n",
       "30             19    Akhtar Pike     Nicola         Green   14   \n",
       "...           ...            ...        ...           ...  ...   \n",
       "8791            1  Ellis Citadel    Douglas  Archer-Payne   14   \n",
       "8792            1  Ellis Citadel       Gary  Archer-Payne   10   \n",
       "8806            1    Brass Lodge     Graeme        Rogers   11   \n",
       "8807            1    Brass Lodge      Glenn        Rogers   10   \n",
       "8808            1    Brass Lodge       Dean        Rogers    6   \n",
       "\n",
       "     Relationship to Head of House Marital Status  Gender Occupation  \\\n",
       "8                         Daughter            NaN  FEMALE      Child   \n",
       "12                             Son            NaN    Male      Child   \n",
       "22                        Daughter            NaN  Female    Student   \n",
       "26                        Daughter            NaN  Female    Student   \n",
       "30                        Daughter            NaN  Female    Student   \n",
       "...                            ...            ...     ...        ...   \n",
       "8791                           Son            NaN    Male    Student   \n",
       "8792                           Son            NaN    Male    Student   \n",
       "8806                           Son            NaN    Male    Student   \n",
       "8807                           Son            NaN    Male    Student   \n",
       "8808                           Son            NaN    Male    Student   \n",
       "\n",
       "     Infirmity Religion  \n",
       "8         None      NaN  \n",
       "12        None      NaN  \n",
       "22        None      NaN  \n",
       "26        None      NaN  \n",
       "30        None      NaN  \n",
       "...        ...      ...  \n",
       "8791      None      NaN  \n",
       "8792      None      NaN  \n",
       "8806      None      NaN  \n",
       "8807      None      NaN  \n",
       "8808      None      NaN  \n",
       "\n",
       "[2789 rows x 11 columns]"
      ]
     },
     "execution_count": 20,
     "metadata": {},
     "output_type": "execute_result"
    }
   ],
   "source": [
    "children_df"
   ]
  },
  {
   "cell_type": "code",
   "execution_count": 21,
   "id": "17967028",
   "metadata": {},
   "outputs": [
    {
     "data": {
      "text/plain": [
       "0"
      ]
     },
     "execution_count": 21,
     "metadata": {},
     "output_type": "execute_result"
    }
   ],
   "source": [
    "len(census_df[census_df['Relationship to Head of House'] == 'AA'])"
   ]
  },
  {
   "cell_type": "code",
   "execution_count": 22,
   "id": "9f39f345",
   "metadata": {},
   "outputs": [
    {
     "data": {
      "text/html": [
       "<div>\n",
       "<style scoped>\n",
       "    .dataframe tbody tr th:only-of-type {\n",
       "        vertical-align: middle;\n",
       "    }\n",
       "\n",
       "    .dataframe tbody tr th {\n",
       "        vertical-align: top;\n",
       "    }\n",
       "\n",
       "    .dataframe thead th {\n",
       "        text-align: right;\n",
       "    }\n",
       "</style>\n",
       "<table border=\"1\" class=\"dataframe\">\n",
       "  <thead>\n",
       "    <tr style=\"text-align: right;\">\n",
       "      <th></th>\n",
       "      <th>House Number</th>\n",
       "      <th>Street</th>\n",
       "      <th>First Name</th>\n",
       "      <th>Surname</th>\n",
       "      <th>Age</th>\n",
       "      <th>Relationship to Head of House</th>\n",
       "      <th>Marital Status</th>\n",
       "      <th>Gender</th>\n",
       "      <th>Occupation</th>\n",
       "      <th>Infirmity</th>\n",
       "      <th>Religion</th>\n",
       "    </tr>\n",
       "  </thead>\n",
       "  <tbody>\n",
       "    <tr>\n",
       "      <th>147</th>\n",
       "      <td>6</td>\n",
       "      <td>Lewis Harbor</td>\n",
       "      <td>Kathryn</td>\n",
       "      <td>Barrett</td>\n",
       "      <td>55</td>\n",
       "      <td>Head</td>\n",
       "      <td>Single</td>\n",
       "      <td>Female</td>\n",
       "      <td>Unemployed</td>\n",
       "      <td>None</td>\n",
       "      <td>Christian</td>\n",
       "    </tr>\n",
       "    <tr>\n",
       "      <th>148</th>\n",
       "      <td>6</td>\n",
       "      <td>Lewis Harbor</td>\n",
       "      <td>Stacey</td>\n",
       "      <td>Barrett</td>\n",
       "      <td>16</td>\n",
       "      <td>Adopted Daughter</td>\n",
       "      <td>NaN</td>\n",
       "      <td>Female</td>\n",
       "      <td>Student</td>\n",
       "      <td>None</td>\n",
       "      <td>NaN</td>\n",
       "    </tr>\n",
       "    <tr>\n",
       "      <th>149</th>\n",
       "      <td>6</td>\n",
       "      <td>Lewis Harbor</td>\n",
       "      <td>Lynda</td>\n",
       "      <td>Barrett</td>\n",
       "      <td>13</td>\n",
       "      <td>Daughter</td>\n",
       "      <td>NaN</td>\n",
       "      <td>Female</td>\n",
       "      <td>Student</td>\n",
       "      <td>None</td>\n",
       "      <td>NaN</td>\n",
       "    </tr>\n",
       "    <tr>\n",
       "      <th>150</th>\n",
       "      <td>6</td>\n",
       "      <td>Lewis Harbor</td>\n",
       "      <td>Norman</td>\n",
       "      <td>Hutchinson-Barrett</td>\n",
       "      <td>12</td>\n",
       "      <td>Son</td>\n",
       "      <td>NaN</td>\n",
       "      <td>Male</td>\n",
       "      <td>Student</td>\n",
       "      <td>None</td>\n",
       "      <td>NaN</td>\n",
       "    </tr>\n",
       "    <tr>\n",
       "      <th>151</th>\n",
       "      <td>6</td>\n",
       "      <td>Lewis Harbor</td>\n",
       "      <td>David</td>\n",
       "      <td>Hutchinson-Barrett</td>\n",
       "      <td>12</td>\n",
       "      <td>Son</td>\n",
       "      <td>NaN</td>\n",
       "      <td>Male</td>\n",
       "      <td>Student</td>\n",
       "      <td>None</td>\n",
       "      <td>NaN</td>\n",
       "    </tr>\n",
       "  </tbody>\n",
       "</table>\n",
       "</div>"
      ],
      "text/plain": [
       "    House Number        Street First Name             Surname  Age  \\\n",
       "147            6  Lewis Harbor    Kathryn             Barrett   55   \n",
       "148            6  Lewis Harbor     Stacey             Barrett   16   \n",
       "149            6  Lewis Harbor      Lynda             Barrett   13   \n",
       "150            6  Lewis Harbor     Norman  Hutchinson-Barrett   12   \n",
       "151            6  Lewis Harbor      David  Hutchinson-Barrett   12   \n",
       "\n",
       "    Relationship to Head of House Marital Status  Gender  Occupation  \\\n",
       "147                          Head         Single  Female  Unemployed   \n",
       "148              Adopted Daughter            NaN  Female     Student   \n",
       "149                      Daughter            NaN  Female     Student   \n",
       "150                           Son            NaN    Male     Student   \n",
       "151                           Son            NaN    Male     Student   \n",
       "\n",
       "    Infirmity   Religion  \n",
       "147      None  Christian  \n",
       "148      None        NaN  \n",
       "149      None        NaN  \n",
       "150      None        NaN  \n",
       "151      None        NaN  "
      ]
     },
     "execution_count": 22,
     "metadata": {},
     "output_type": "execute_result"
    }
   ],
   "source": [
    "census_df[(census_df['Street'] == 'Lewis Harbor') & ('6' == census_df['House Number'])]"
   ]
  },
  {
   "cell_type": "markdown",
   "id": "608293a0",
   "metadata": {},
   "source": [
    "### RELIGION CLEANING"
   ]
  },
  {
   "cell_type": "code",
   "execution_count": 23,
   "id": "b1ecc7b2",
   "metadata": {},
   "outputs": [
    {
     "data": {
      "text/plain": [
       "array(['Christian', 'None', 'Methodist', nan, 'Sikh', 'Catholic',\n",
       "       'Muslim', 'Jewish', 'Quaker', ' ', 'Hindu', 'Jedi', 'Housekeeper',\n",
       "       'Nope', 'Orthodoxy', 'Sith'], dtype=object)"
      ]
     },
     "execution_count": 23,
     "metadata": {},
     "output_type": "execute_result"
    }
   ],
   "source": [
    "census_df['Religion'].unique()"
   ]
  },
  {
   "cell_type": "code",
   "execution_count": 24,
   "id": "ad7dff24",
   "metadata": {},
   "outputs": [
    {
     "data": {
      "text/plain": [
       "None           2917\n",
       "Christian      1964\n",
       "Catholic        930\n",
       "Methodist       577\n",
       "Muslim          124\n",
       "Sikh             67\n",
       "Jewish           39\n",
       "Quaker            3\n",
       "                  2\n",
       "Hindu             2\n",
       "Jedi              1\n",
       "Housekeeper       1\n",
       "Nope              1\n",
       "Orthodoxy         1\n",
       "Sith              1\n",
       "Name: Religion, dtype: int64"
      ]
     },
     "execution_count": 24,
     "metadata": {},
     "output_type": "execute_result"
    }
   ],
   "source": [
    "census_df['Religion'].value_counts()"
   ]
  },
  {
   "cell_type": "code",
   "execution_count": 25,
   "id": "7f30ca6d",
   "metadata": {},
   "outputs": [
    {
     "data": {
      "text/plain": [
       "Series([], Name: Religion, dtype: int64)"
      ]
     },
     "execution_count": 25,
     "metadata": {},
     "output_type": "execute_result"
    }
   ],
   "source": [
    "census_df[((census_df['Religion'].isna()) & (census_df['Age'] <= 16))]['Religion'].value_counts()"
   ]
  },
  {
   "cell_type": "markdown",
   "id": "e33a6b45",
   "metadata": {},
   "source": [
    "#### Find rows where relegion is Housekeeper, Sith, Jedi or blank. Then treat by inspecting the data of people they live with to make a guess. If it's a child, then fill with NA. Otherwise, mode should be considered "
   ]
  },
  {
   "cell_type": "code",
   "execution_count": 26,
   "id": "66083b25",
   "metadata": {},
   "outputs": [
    {
     "data": {
      "text/html": [
       "<div>\n",
       "<style scoped>\n",
       "    .dataframe tbody tr th:only-of-type {\n",
       "        vertical-align: middle;\n",
       "    }\n",
       "\n",
       "    .dataframe tbody tr th {\n",
       "        vertical-align: top;\n",
       "    }\n",
       "\n",
       "    .dataframe thead th {\n",
       "        text-align: right;\n",
       "    }\n",
       "</style>\n",
       "<table border=\"1\" class=\"dataframe\">\n",
       "  <thead>\n",
       "    <tr style=\"text-align: right;\">\n",
       "      <th></th>\n",
       "      <th>House Number</th>\n",
       "      <th>Street</th>\n",
       "      <th>First Name</th>\n",
       "      <th>Surname</th>\n",
       "      <th>Age</th>\n",
       "      <th>Relationship to Head of House</th>\n",
       "      <th>Marital Status</th>\n",
       "      <th>Gender</th>\n",
       "      <th>Occupation</th>\n",
       "      <th>Infirmity</th>\n",
       "      <th>Religion</th>\n",
       "    </tr>\n",
       "  </thead>\n",
       "  <tbody>\n",
       "    <tr>\n",
       "      <th>1440</th>\n",
       "      <td>17</td>\n",
       "      <td>Nicholson Ports</td>\n",
       "      <td>Bernard</td>\n",
       "      <td>Willis</td>\n",
       "      <td>32</td>\n",
       "      <td>Head</td>\n",
       "      <td>Single</td>\n",
       "      <td>Male</td>\n",
       "      <td>Phytotherapist</td>\n",
       "      <td>None</td>\n",
       "      <td></td>\n",
       "    </tr>\n",
       "    <tr>\n",
       "      <th>2349</th>\n",
       "      <td>20</td>\n",
       "      <td>Bletchley Drive</td>\n",
       "      <td>Adrian</td>\n",
       "      <td>Jones</td>\n",
       "      <td>5</td>\n",
       "      <td>Son</td>\n",
       "      <td>NaN</td>\n",
       "      <td>Male</td>\n",
       "      <td>Student</td>\n",
       "      <td>None</td>\n",
       "      <td></td>\n",
       "    </tr>\n",
       "    <tr>\n",
       "      <th>6831</th>\n",
       "      <td>4</td>\n",
       "      <td>Zebra Street</td>\n",
       "      <td>Heather</td>\n",
       "      <td>Taylor</td>\n",
       "      <td>23</td>\n",
       "      <td>Lodger</td>\n",
       "      <td>Single</td>\n",
       "      <td>Female</td>\n",
       "      <td>Scientist, forensic</td>\n",
       "      <td>None</td>\n",
       "      <td>Jedi</td>\n",
       "    </tr>\n",
       "    <tr>\n",
       "      <th>7886</th>\n",
       "      <td>40</td>\n",
       "      <td>Baker Club</td>\n",
       "      <td>Justin</td>\n",
       "      <td>Bates</td>\n",
       "      <td>44</td>\n",
       "      <td>Lodger</td>\n",
       "      <td>Divorced</td>\n",
       "      <td>Male</td>\n",
       "      <td>Agricultural engineer</td>\n",
       "      <td>None</td>\n",
       "      <td>Housekeeper</td>\n",
       "    </tr>\n",
       "    <tr>\n",
       "      <th>8386</th>\n",
       "      <td>13</td>\n",
       "      <td>Duchess Rue</td>\n",
       "      <td>Carl</td>\n",
       "      <td>Barnes</td>\n",
       "      <td>18</td>\n",
       "      <td>None</td>\n",
       "      <td>Single</td>\n",
       "      <td>Male</td>\n",
       "      <td>University Student</td>\n",
       "      <td>None</td>\n",
       "      <td>Nope</td>\n",
       "    </tr>\n",
       "    <tr>\n",
       "      <th>8780</th>\n",
       "      <td>1</td>\n",
       "      <td>Elvis Hall</td>\n",
       "      <td>Elizabeth</td>\n",
       "      <td>Butler</td>\n",
       "      <td>24</td>\n",
       "      <td>Visitor</td>\n",
       "      <td>Single</td>\n",
       "      <td>Female</td>\n",
       "      <td>Waste management officer</td>\n",
       "      <td>None</td>\n",
       "      <td>Sith</td>\n",
       "    </tr>\n",
       "  </tbody>\n",
       "</table>\n",
       "</div>"
      ],
      "text/plain": [
       "     House Number           Street First Name Surname  Age  \\\n",
       "1440           17  Nicholson Ports    Bernard  Willis   32   \n",
       "2349           20  Bletchley Drive     Adrian   Jones    5   \n",
       "6831            4     Zebra Street    Heather  Taylor   23   \n",
       "7886           40       Baker Club     Justin   Bates   44   \n",
       "8386           13      Duchess Rue       Carl  Barnes   18   \n",
       "8780            1       Elvis Hall  Elizabeth  Butler   24   \n",
       "\n",
       "     Relationship to Head of House Marital Status  Gender  \\\n",
       "1440                          Head         Single    Male   \n",
       "2349                           Son            NaN    Male   \n",
       "6831                        Lodger         Single  Female   \n",
       "7886                        Lodger       Divorced    Male   \n",
       "8386                          None         Single    Male   \n",
       "8780                       Visitor         Single  Female   \n",
       "\n",
       "                    Occupation Infirmity     Religion  \n",
       "1440            Phytotherapist      None               \n",
       "2349                   Student      None               \n",
       "6831       Scientist, forensic      None         Jedi  \n",
       "7886     Agricultural engineer      None  Housekeeper  \n",
       "8386        University Student      None         Nope  \n",
       "8780  Waste management officer      None         Sith  "
      ]
     },
     "execution_count": 26,
     "metadata": {},
     "output_type": "execute_result"
    }
   ],
   "source": [
    "census_df[census_df['Religion'].isin([' ','Housekeeper', 'Sith', 'Jedi', 'Nope'])]"
   ]
  },
  {
   "cell_type": "code",
   "execution_count": 27,
   "id": "aad55d41",
   "metadata": {},
   "outputs": [],
   "source": [
    "census_df.at[2349,'Religion'] = np.NaN"
   ]
  },
  {
   "cell_type": "code",
   "execution_count": 28,
   "id": "f24d23cb",
   "metadata": {},
   "outputs": [],
   "source": [
    "census_df['Religion'].replace(['Nope', ' ', 'Housekeeper', 'Sith', 'Jedi'], value='None', inplace=True)"
   ]
  },
  {
   "cell_type": "markdown",
   "id": "50448fe4",
   "metadata": {},
   "source": [
    "#### Get people from 16 and above with religion value nan and set None"
   ]
  },
  {
   "cell_type": "code",
   "execution_count": 29,
   "id": "53ea1612",
   "metadata": {},
   "outputs": [],
   "source": [
    "people_from_16_above_with_na_indexes = census_df[((census_df['Religion'].isna()) & (census_df['Age'] >= 16))].index"
   ]
  },
  {
   "cell_type": "code",
   "execution_count": 30,
   "id": "b239120e",
   "metadata": {},
   "outputs": [],
   "source": [
    "census_df.loc[people_from_16_above_with_na_indexes, 'Religion'] = 'None'"
   ]
  },
  {
   "cell_type": "code",
   "execution_count": 31,
   "id": "b0425d07",
   "metadata": {},
   "outputs": [
    {
     "data": {
      "text/plain": [
       "None         3244\n",
       "Christian    1964\n",
       "Catholic      930\n",
       "Methodist     577\n",
       "Muslim        124\n",
       "Sikh           67\n",
       "Jewish         39\n",
       "Quaker          3\n",
       "Hindu           2\n",
       "Orthodoxy       1\n",
       "Name: Religion, dtype: int64"
      ]
     },
     "execution_count": 31,
     "metadata": {},
     "output_type": "execute_result"
    }
   ],
   "source": [
    "census_df['Religion'].value_counts()"
   ]
  },
  {
   "cell_type": "code",
   "execution_count": null,
   "id": "a189ba93",
   "metadata": {},
   "outputs": [],
   "source": []
  },
  {
   "cell_type": "markdown",
   "id": "1d8fd33c",
   "metadata": {},
   "source": [
    "### MARITAL STATUS CLEANING"
   ]
  },
  {
   "cell_type": "code",
   "execution_count": 32,
   "id": "bef9e5a1",
   "metadata": {},
   "outputs": [
    {
     "data": {
      "text/plain": [
       "array(['Single', 'Widowed', 'Divorced', 'Married', nan], dtype=object)"
      ]
     },
     "execution_count": 32,
     "metadata": {},
     "output_type": "execute_result"
    }
   ],
   "source": [
    "census_df['Marital Status'].unique()"
   ]
  },
  {
   "cell_type": "code",
   "execution_count": 33,
   "id": "d714df28",
   "metadata": {},
   "outputs": [
    {
     "data": {
      "text/plain": [
       "False    6685\n",
       "True     2124\n",
       "Name: Marital Status, dtype: int64"
      ]
     },
     "execution_count": 33,
     "metadata": {},
     "output_type": "execute_result"
    }
   ],
   "source": [
    "census_df['Marital Status'].isna().value_counts()"
   ]
  },
  {
   "cell_type": "code",
   "execution_count": 34,
   "id": "3dd3c788",
   "metadata": {},
   "outputs": [
    {
     "data": {
      "text/plain": [
       "Single      3105\n",
       "Married     2532\n",
       "Divorced     732\n",
       "Widowed      316\n",
       "Name: Marital Status, dtype: int64"
      ]
     },
     "execution_count": 34,
     "metadata": {},
     "output_type": "execute_result"
    }
   ],
   "source": [
    "census_df['Marital Status'].value_counts()"
   ]
  },
  {
   "cell_type": "markdown",
   "id": "98228476",
   "metadata": {},
   "source": [
    "#### Check and confirm nobody with age less than 16 is Single, Married, Divorced or Widowed"
   ]
  },
  {
   "cell_type": "code",
   "execution_count": 35,
   "id": "315d8db8",
   "metadata": {},
   "outputs": [
    {
     "data": {
      "text/html": [
       "<div>\n",
       "<style scoped>\n",
       "    .dataframe tbody tr th:only-of-type {\n",
       "        vertical-align: middle;\n",
       "    }\n",
       "\n",
       "    .dataframe tbody tr th {\n",
       "        vertical-align: top;\n",
       "    }\n",
       "\n",
       "    .dataframe thead th {\n",
       "        text-align: right;\n",
       "    }\n",
       "</style>\n",
       "<table border=\"1\" class=\"dataframe\">\n",
       "  <thead>\n",
       "    <tr style=\"text-align: right;\">\n",
       "      <th></th>\n",
       "      <th>House Number</th>\n",
       "      <th>Street</th>\n",
       "      <th>First Name</th>\n",
       "      <th>Surname</th>\n",
       "      <th>Age</th>\n",
       "      <th>Relationship to Head of House</th>\n",
       "      <th>Marital Status</th>\n",
       "      <th>Gender</th>\n",
       "      <th>Occupation</th>\n",
       "      <th>Infirmity</th>\n",
       "      <th>Religion</th>\n",
       "    </tr>\n",
       "  </thead>\n",
       "  <tbody>\n",
       "  </tbody>\n",
       "</table>\n",
       "</div>"
      ],
      "text/plain": [
       "Empty DataFrame\n",
       "Columns: [House Number, Street, First Name, Surname, Age, Relationship to Head of House, Marital Status, Gender, Occupation, Infirmity, Religion]\n",
       "Index: []"
      ]
     },
     "execution_count": 35,
     "metadata": {},
     "output_type": "execute_result"
    }
   ],
   "source": [
    "census_df[((census_df['Age'] < 16) \n",
    "           & (census_df['Marital Status'].isin(['Single', 'Married', 'Divorced', 'Widowed'])))]"
   ]
  },
  {
   "cell_type": "markdown",
   "id": "e0d159d2",
   "metadata": {},
   "source": [
    "#### Check relationship of the ones with martital status Nan but are above 16. Make a guess for appropriate marital status using relationship to head of house and age"
   ]
  },
  {
   "cell_type": "code",
   "execution_count": 36,
   "id": "78f00c94",
   "metadata": {},
   "outputs": [
    {
     "data": {
      "text/plain": [
       "array(['Son', 'Daughter', 'Adopted Daughter', 'Granddaughter',\n",
       "       'Adopted Son', 'Grandson', 'None', 'Step-Son', 'Step-Daughter',\n",
       "       'Nephew'], dtype=object)"
      ]
     },
     "execution_count": 36,
     "metadata": {},
     "output_type": "execute_result"
    }
   ],
   "source": [
    "census_df[(census_df['Age'] >= 16) \n",
    "           & (census_df['Marital Status'].isna())]['Relationship to Head of House'].unique()"
   ]
  },
  {
   "cell_type": "markdown",
   "id": "44bce817",
   "metadata": {},
   "source": [
    "#### Set to Single since it has been confirmed the relationship to head of house is not Husband, Wife or Head. Also, age range is between 16 to 19. There is high probability that none of them would be married, widowed or divorced"
   ]
  },
  {
   "cell_type": "code",
   "execution_count": 37,
   "id": "b084628c",
   "metadata": {},
   "outputs": [
    {
     "data": {
      "text/plain": [
       "array([16, 17, 19])"
      ]
     },
     "execution_count": 37,
     "metadata": {},
     "output_type": "execute_result"
    }
   ],
   "source": [
    "census_df[(census_df['Age'] >= 16) \n",
    "           & (census_df['Marital Status'].isna())]['Age'].unique()"
   ]
  },
  {
   "cell_type": "code",
   "execution_count": 38,
   "id": "7b273022",
   "metadata": {},
   "outputs": [],
   "source": [
    "marital_status_index_to_replace = census_df[(census_df['Age'] >= 16) \n",
    "           & (census_df['Marital Status'].isna())].index\n",
    "census_df.loc[marital_status_index_to_replace, 'Marital Status'] = 'Single'"
   ]
  },
  {
   "cell_type": "code",
   "execution_count": 39,
   "id": "1f1e7cee",
   "metadata": {},
   "outputs": [
    {
     "data": {
      "text/plain": [
       "266"
      ]
     },
     "execution_count": 39,
     "metadata": {},
     "output_type": "execute_result"
    }
   ],
   "source": [
    "len(marital_status_index_to_replace)"
   ]
  },
  {
   "cell_type": "markdown",
   "id": "2c64a643",
   "metadata": {},
   "source": [
    "### RELATIONSHIP TO HEAD OF HOUSE CLEANING"
   ]
  },
  {
   "cell_type": "code",
   "execution_count": 40,
   "id": "8ffc1e0b",
   "metadata": {},
   "outputs": [
    {
     "data": {
      "text/plain": [
       "array(['Head', 'Husband', 'Daughter', 'Lodger', 'Son', 'Wife', 'None',\n",
       "       'Partner', 'Visitor', 'Granddaughter', 'Adopted Daughter',\n",
       "       'Grandson', 'Nephew', 'Adopted Son', 'Sibling', 'Cousin',\n",
       "       'Step-Daughter', 'Step-Son', 'Neice', 'Son-in-law'], dtype=object)"
      ]
     },
     "execution_count": 40,
     "metadata": {},
     "output_type": "execute_result"
    }
   ],
   "source": [
    "census_df['Relationship to Head of House'].unique()"
   ]
  },
  {
   "cell_type": "markdown",
   "id": "0b3bd106",
   "metadata": {},
   "source": [
    "### GENDER CLEANING"
   ]
  },
  {
   "cell_type": "code",
   "execution_count": 41,
   "id": "3c0f0898",
   "metadata": {},
   "outputs": [
    {
     "data": {
      "text/plain": [
       "array(['FEMALE', 'Male', 'Female', 'F', 'MALE', 'M', 'Fe-male', ' '],\n",
       "      dtype=object)"
      ]
     },
     "execution_count": 41,
     "metadata": {},
     "output_type": "execute_result"
    }
   ],
   "source": [
    "census_df['Gender'].unique()"
   ]
  },
  {
   "cell_type": "code",
   "execution_count": 42,
   "id": "437d77de",
   "metadata": {},
   "outputs": [
    {
     "data": {
      "text/plain": [
       "Female     4611\n",
       "Male       4184\n",
       "Fe-male       5\n",
       "M             3\n",
       "FEMALE        2\n",
       "MALE          2\n",
       "F             1\n",
       "              1\n",
       "Name: Gender, dtype: int64"
      ]
     },
     "execution_count": 42,
     "metadata": {},
     "output_type": "execute_result"
    }
   ],
   "source": [
    "census_df['Gender'].value_counts()"
   ]
  },
  {
   "cell_type": "markdown",
   "id": "2f1699ce",
   "metadata": {},
   "source": [
    "#### Replace blank Gender based on the Relationship to Head of House value"
   ]
  },
  {
   "cell_type": "code",
   "execution_count": 43,
   "id": "4f9a6af6",
   "metadata": {},
   "outputs": [
    {
     "data": {
      "text/html": [
       "<div>\n",
       "<style scoped>\n",
       "    .dataframe tbody tr th:only-of-type {\n",
       "        vertical-align: middle;\n",
       "    }\n",
       "\n",
       "    .dataframe tbody tr th {\n",
       "        vertical-align: top;\n",
       "    }\n",
       "\n",
       "    .dataframe thead th {\n",
       "        text-align: right;\n",
       "    }\n",
       "</style>\n",
       "<table border=\"1\" class=\"dataframe\">\n",
       "  <thead>\n",
       "    <tr style=\"text-align: right;\">\n",
       "      <th></th>\n",
       "      <th>House Number</th>\n",
       "      <th>Street</th>\n",
       "      <th>First Name</th>\n",
       "      <th>Surname</th>\n",
       "      <th>Age</th>\n",
       "      <th>Relationship to Head of House</th>\n",
       "      <th>Marital Status</th>\n",
       "      <th>Gender</th>\n",
       "      <th>Occupation</th>\n",
       "      <th>Infirmity</th>\n",
       "      <th>Religion</th>\n",
       "    </tr>\n",
       "  </thead>\n",
       "  <tbody>\n",
       "    <tr>\n",
       "      <th>4738</th>\n",
       "      <td>123</td>\n",
       "      <td>Shepherd Lane</td>\n",
       "      <td>Alex</td>\n",
       "      <td>Fraser</td>\n",
       "      <td>19</td>\n",
       "      <td>Son</td>\n",
       "      <td>Divorced</td>\n",
       "      <td></td>\n",
       "      <td>Database administrator</td>\n",
       "      <td>None</td>\n",
       "      <td>Christian</td>\n",
       "    </tr>\n",
       "  </tbody>\n",
       "</table>\n",
       "</div>"
      ],
      "text/plain": [
       "     House Number         Street First Name Surname  Age  \\\n",
       "4738          123  Shepherd Lane       Alex  Fraser   19   \n",
       "\n",
       "     Relationship to Head of House Marital Status Gender  \\\n",
       "4738                           Son       Divorced          \n",
       "\n",
       "                  Occupation Infirmity   Religion  \n",
       "4738  Database administrator      None  Christian  "
      ]
     },
     "execution_count": 43,
     "metadata": {},
     "output_type": "execute_result"
    }
   ],
   "source": [
    "census_df[census_df['Gender'] == ' ']"
   ]
  },
  {
   "cell_type": "code",
   "execution_count": 44,
   "id": "e21c7160",
   "metadata": {},
   "outputs": [],
   "source": [
    "census_df.at[4738, 'Gender'] = 'Male'"
   ]
  },
  {
   "cell_type": "markdown",
   "id": "d74b29c6",
   "metadata": {},
   "source": [
    "#### Replace F, FEMALE and Fe-male with Female and replace Male and M with Male"
   ]
  },
  {
   "cell_type": "code",
   "execution_count": 45,
   "id": "8f88a648",
   "metadata": {},
   "outputs": [],
   "source": [
    "census_df['Gender'].replace(['M', 'MALE'], value='Male', inplace=True)"
   ]
  },
  {
   "cell_type": "code",
   "execution_count": 46,
   "id": "925cb6a3",
   "metadata": {},
   "outputs": [],
   "source": [
    "census_df['Gender'].replace(['F', 'FEMALE', 'Fe-male'], value='Female', inplace=True)"
   ]
  },
  {
   "cell_type": "markdown",
   "id": "d1a18466",
   "metadata": {},
   "source": [
    "#### Validate Gender Against Relation to Head of House. To be sure the relationship to head of house matches the correct gender"
   ]
  },
  {
   "cell_type": "code",
   "execution_count": 47,
   "id": "ea84c0b0",
   "metadata": {},
   "outputs": [
    {
     "data": {
      "text/html": [
       "<div>\n",
       "<style scoped>\n",
       "    .dataframe tbody tr th:only-of-type {\n",
       "        vertical-align: middle;\n",
       "    }\n",
       "\n",
       "    .dataframe tbody tr th {\n",
       "        vertical-align: top;\n",
       "    }\n",
       "\n",
       "    .dataframe thead th {\n",
       "        text-align: right;\n",
       "    }\n",
       "</style>\n",
       "<table border=\"1\" class=\"dataframe\">\n",
       "  <thead>\n",
       "    <tr style=\"text-align: right;\">\n",
       "      <th></th>\n",
       "      <th>House Number</th>\n",
       "      <th>Street</th>\n",
       "      <th>First Name</th>\n",
       "      <th>Surname</th>\n",
       "      <th>Age</th>\n",
       "      <th>Relationship to Head of House</th>\n",
       "      <th>Marital Status</th>\n",
       "      <th>Gender</th>\n",
       "      <th>Occupation</th>\n",
       "      <th>Infirmity</th>\n",
       "      <th>Religion</th>\n",
       "    </tr>\n",
       "  </thead>\n",
       "  <tbody>\n",
       "  </tbody>\n",
       "</table>\n",
       "</div>"
      ],
      "text/plain": [
       "Empty DataFrame\n",
       "Columns: [House Number, Street, First Name, Surname, Age, Relationship to Head of House, Marital Status, Gender, Occupation, Infirmity, Religion]\n",
       "Index: []"
      ]
     },
     "execution_count": 47,
     "metadata": {},
     "output_type": "execute_result"
    }
   ],
   "source": [
    "census_df[((census_df['Gender'] == 'Female') & \n",
    "           (census_df['Relationship to Head of House'].isin(['Husband','Son', 'Grandson', 'Adopted Son', 'Step-Son',\n",
    "                                                           'Son-in-law', 'Nephew'])))]"
   ]
  },
  {
   "cell_type": "code",
   "execution_count": 48,
   "id": "b78258f2",
   "metadata": {},
   "outputs": [
    {
     "data": {
      "text/html": [
       "<div>\n",
       "<style scoped>\n",
       "    .dataframe tbody tr th:only-of-type {\n",
       "        vertical-align: middle;\n",
       "    }\n",
       "\n",
       "    .dataframe tbody tr th {\n",
       "        vertical-align: top;\n",
       "    }\n",
       "\n",
       "    .dataframe thead th {\n",
       "        text-align: right;\n",
       "    }\n",
       "</style>\n",
       "<table border=\"1\" class=\"dataframe\">\n",
       "  <thead>\n",
       "    <tr style=\"text-align: right;\">\n",
       "      <th></th>\n",
       "      <th>House Number</th>\n",
       "      <th>Street</th>\n",
       "      <th>First Name</th>\n",
       "      <th>Surname</th>\n",
       "      <th>Age</th>\n",
       "      <th>Relationship to Head of House</th>\n",
       "      <th>Marital Status</th>\n",
       "      <th>Gender</th>\n",
       "      <th>Occupation</th>\n",
       "      <th>Infirmity</th>\n",
       "      <th>Religion</th>\n",
       "    </tr>\n",
       "  </thead>\n",
       "  <tbody>\n",
       "  </tbody>\n",
       "</table>\n",
       "</div>"
      ],
      "text/plain": [
       "Empty DataFrame\n",
       "Columns: [House Number, Street, First Name, Surname, Age, Relationship to Head of House, Marital Status, Gender, Occupation, Infirmity, Religion]\n",
       "Index: []"
      ]
     },
     "execution_count": 48,
     "metadata": {},
     "output_type": "execute_result"
    }
   ],
   "source": [
    "census_df[((census_df['Gender'] == 'Male') & \n",
    "           (census_df['Relationship to Head of House'].isin(['Daughter','Wife', 'Granddaughter', 'Adopted Daughter',\n",
    "                                                             'Step-Daughter', 'Neice'])))]"
   ]
  },
  {
   "cell_type": "code",
   "execution_count": null,
   "id": "332199db",
   "metadata": {},
   "outputs": [],
   "source": []
  },
  {
   "cell_type": "markdown",
   "id": "8b8dc728",
   "metadata": {},
   "source": [
    "### HOUSE NUMBER CLEANING"
   ]
  },
  {
   "cell_type": "code",
   "execution_count": 49,
   "id": "7fc05e8e",
   "metadata": {},
   "outputs": [
    {
     "data": {
      "text/plain": [
       "False    8807\n",
       "True        2\n",
       "Name: House Number, dtype: int64"
      ]
     },
     "execution_count": 49,
     "metadata": {},
     "output_type": "execute_result"
    }
   ],
   "source": [
    "census_df['House Number'].isna().value_counts()"
   ]
  },
  {
   "cell_type": "markdown",
   "id": "e0875d75",
   "metadata": {},
   "source": [
    "#### Find the records with NA values. Then check the records that are close to them to figure out the correct house number. "
   ]
  },
  {
   "cell_type": "code",
   "execution_count": 50,
   "id": "b68b4b45",
   "metadata": {},
   "outputs": [
    {
     "data": {
      "text/html": [
       "<div>\n",
       "<style scoped>\n",
       "    .dataframe tbody tr th:only-of-type {\n",
       "        vertical-align: middle;\n",
       "    }\n",
       "\n",
       "    .dataframe tbody tr th {\n",
       "        vertical-align: top;\n",
       "    }\n",
       "\n",
       "    .dataframe thead th {\n",
       "        text-align: right;\n",
       "    }\n",
       "</style>\n",
       "<table border=\"1\" class=\"dataframe\">\n",
       "  <thead>\n",
       "    <tr style=\"text-align: right;\">\n",
       "      <th></th>\n",
       "      <th>House Number</th>\n",
       "      <th>Street</th>\n",
       "      <th>First Name</th>\n",
       "      <th>Surname</th>\n",
       "      <th>Age</th>\n",
       "      <th>Relationship to Head of House</th>\n",
       "      <th>Marital Status</th>\n",
       "      <th>Gender</th>\n",
       "      <th>Occupation</th>\n",
       "      <th>Infirmity</th>\n",
       "      <th>Religion</th>\n",
       "    </tr>\n",
       "  </thead>\n",
       "  <tbody>\n",
       "    <tr>\n",
       "      <th>20</th>\n",
       "      <td>NaN</td>\n",
       "      <td>Akhtar Pike</td>\n",
       "      <td>Julian</td>\n",
       "      <td>Williams</td>\n",
       "      <td>23</td>\n",
       "      <td>Husband</td>\n",
       "      <td>Married</td>\n",
       "      <td>Male</td>\n",
       "      <td>Administrator, local government</td>\n",
       "      <td>None</td>\n",
       "      <td>None</td>\n",
       "    </tr>\n",
       "    <tr>\n",
       "      <th>156</th>\n",
       "      <td>NaN</td>\n",
       "      <td>Lewis Harbor</td>\n",
       "      <td>Debra</td>\n",
       "      <td>Alexander</td>\n",
       "      <td>19</td>\n",
       "      <td>Head</td>\n",
       "      <td>Single</td>\n",
       "      <td>Female</td>\n",
       "      <td>University Student</td>\n",
       "      <td>None</td>\n",
       "      <td>None</td>\n",
       "    </tr>\n",
       "  </tbody>\n",
       "</table>\n",
       "</div>"
      ],
      "text/plain": [
       "    House Number        Street First Name    Surname  Age  \\\n",
       "20           NaN   Akhtar Pike     Julian   Williams   23   \n",
       "156          NaN  Lewis Harbor      Debra  Alexander   19   \n",
       "\n",
       "    Relationship to Head of House Marital Status  Gender  \\\n",
       "20                        Husband        Married    Male   \n",
       "156                          Head         Single  Female   \n",
       "\n",
       "                          Occupation Infirmity Religion  \n",
       "20   Administrator, local government      None     None  \n",
       "156               University Student      None     None  "
      ]
     },
     "execution_count": 50,
     "metadata": {},
     "output_type": "execute_result"
    }
   ],
   "source": [
    "census_df[census_df['House Number'].isna()]"
   ]
  },
  {
   "cell_type": "code",
   "execution_count": 51,
   "id": "871e08bb",
   "metadata": {},
   "outputs": [
    {
     "data": {
      "text/html": [
       "<div>\n",
       "<style scoped>\n",
       "    .dataframe tbody tr th:only-of-type {\n",
       "        vertical-align: middle;\n",
       "    }\n",
       "\n",
       "    .dataframe tbody tr th {\n",
       "        vertical-align: top;\n",
       "    }\n",
       "\n",
       "    .dataframe thead th {\n",
       "        text-align: right;\n",
       "    }\n",
       "</style>\n",
       "<table border=\"1\" class=\"dataframe\">\n",
       "  <thead>\n",
       "    <tr style=\"text-align: right;\">\n",
       "      <th></th>\n",
       "      <th>House Number</th>\n",
       "      <th>Street</th>\n",
       "      <th>First Name</th>\n",
       "      <th>Surname</th>\n",
       "      <th>Age</th>\n",
       "      <th>Relationship to Head of House</th>\n",
       "      <th>Marital Status</th>\n",
       "      <th>Gender</th>\n",
       "      <th>Occupation</th>\n",
       "      <th>Infirmity</th>\n",
       "      <th>Religion</th>\n",
       "    </tr>\n",
       "  </thead>\n",
       "  <tbody>\n",
       "    <tr>\n",
       "      <th>19</th>\n",
       "      <td>13</td>\n",
       "      <td>Akhtar Pike</td>\n",
       "      <td>Rita</td>\n",
       "      <td>Williams</td>\n",
       "      <td>18</td>\n",
       "      <td>Head</td>\n",
       "      <td>Married</td>\n",
       "      <td>Female</td>\n",
       "      <td>Student</td>\n",
       "      <td>None</td>\n",
       "      <td>None</td>\n",
       "    </tr>\n",
       "    <tr>\n",
       "      <th>20</th>\n",
       "      <td>NaN</td>\n",
       "      <td>Akhtar Pike</td>\n",
       "      <td>Julian</td>\n",
       "      <td>Williams</td>\n",
       "      <td>23</td>\n",
       "      <td>Husband</td>\n",
       "      <td>Married</td>\n",
       "      <td>Male</td>\n",
       "      <td>Administrator, local government</td>\n",
       "      <td>None</td>\n",
       "      <td>None</td>\n",
       "    </tr>\n",
       "    <tr>\n",
       "      <th>21</th>\n",
       "      <td>14</td>\n",
       "      <td>Akhtar Pike</td>\n",
       "      <td>Jeffrey</td>\n",
       "      <td>Oliver</td>\n",
       "      <td>39</td>\n",
       "      <td>Head</td>\n",
       "      <td>Single</td>\n",
       "      <td>Male</td>\n",
       "      <td>Medical laboratory scientific officer</td>\n",
       "      <td>None</td>\n",
       "      <td>Christian</td>\n",
       "    </tr>\n",
       "  </tbody>\n",
       "</table>\n",
       "</div>"
      ],
      "text/plain": [
       "   House Number       Street First Name   Surname  Age  \\\n",
       "19           13  Akhtar Pike       Rita  Williams   18   \n",
       "20          NaN  Akhtar Pike     Julian  Williams   23   \n",
       "21           14  Akhtar Pike    Jeffrey    Oliver   39   \n",
       "\n",
       "   Relationship to Head of House Marital Status  Gender  \\\n",
       "19                          Head        Married  Female   \n",
       "20                       Husband        Married    Male   \n",
       "21                          Head         Single    Male   \n",
       "\n",
       "                               Occupation Infirmity   Religion  \n",
       "19                                Student      None       None  \n",
       "20        Administrator, local government      None       None  \n",
       "21  Medical laboratory scientific officer      None  Christian  "
      ]
     },
     "execution_count": 51,
     "metadata": {},
     "output_type": "execute_result"
    }
   ],
   "source": [
    "census_df[19:22]"
   ]
  },
  {
   "cell_type": "code",
   "execution_count": 52,
   "id": "3ac3c0b7",
   "metadata": {},
   "outputs": [],
   "source": [
    "census_df.at[20, 'House Number'] = 13"
   ]
  },
  {
   "cell_type": "code",
   "execution_count": 53,
   "id": "0677ca93",
   "metadata": {},
   "outputs": [
    {
     "data": {
      "text/html": [
       "<div>\n",
       "<style scoped>\n",
       "    .dataframe tbody tr th:only-of-type {\n",
       "        vertical-align: middle;\n",
       "    }\n",
       "\n",
       "    .dataframe tbody tr th {\n",
       "        vertical-align: top;\n",
       "    }\n",
       "\n",
       "    .dataframe thead th {\n",
       "        text-align: right;\n",
       "    }\n",
       "</style>\n",
       "<table border=\"1\" class=\"dataframe\">\n",
       "  <thead>\n",
       "    <tr style=\"text-align: right;\">\n",
       "      <th></th>\n",
       "      <th>House Number</th>\n",
       "      <th>Street</th>\n",
       "      <th>First Name</th>\n",
       "      <th>Surname</th>\n",
       "      <th>Age</th>\n",
       "      <th>Relationship to Head of House</th>\n",
       "      <th>Marital Status</th>\n",
       "      <th>Gender</th>\n",
       "      <th>Occupation</th>\n",
       "      <th>Infirmity</th>\n",
       "      <th>Religion</th>\n",
       "    </tr>\n",
       "  </thead>\n",
       "  <tbody>\n",
       "    <tr>\n",
       "      <th>155</th>\n",
       "      <td>8</td>\n",
       "      <td>Lewis Harbor</td>\n",
       "      <td>Katy</td>\n",
       "      <td>Pearson</td>\n",
       "      <td>7</td>\n",
       "      <td>Daughter</td>\n",
       "      <td>NaN</td>\n",
       "      <td>Female</td>\n",
       "      <td>Student</td>\n",
       "      <td>None</td>\n",
       "      <td>NaN</td>\n",
       "    </tr>\n",
       "    <tr>\n",
       "      <th>156</th>\n",
       "      <td>NaN</td>\n",
       "      <td>Lewis Harbor</td>\n",
       "      <td>Debra</td>\n",
       "      <td>Alexander</td>\n",
       "      <td>19</td>\n",
       "      <td>Head</td>\n",
       "      <td>Single</td>\n",
       "      <td>Female</td>\n",
       "      <td>University Student</td>\n",
       "      <td>None</td>\n",
       "      <td>None</td>\n",
       "    </tr>\n",
       "    <tr>\n",
       "      <th>157</th>\n",
       "      <td>9</td>\n",
       "      <td>Lewis Harbor</td>\n",
       "      <td>Terry</td>\n",
       "      <td>Ward</td>\n",
       "      <td>19</td>\n",
       "      <td>Partner</td>\n",
       "      <td>Single</td>\n",
       "      <td>Male</td>\n",
       "      <td>University Student</td>\n",
       "      <td>None</td>\n",
       "      <td>None</td>\n",
       "    </tr>\n",
       "    <tr>\n",
       "      <th>158</th>\n",
       "      <td>10</td>\n",
       "      <td>Lewis Harbor</td>\n",
       "      <td>Molly</td>\n",
       "      <td>Grant</td>\n",
       "      <td>48</td>\n",
       "      <td>Head</td>\n",
       "      <td>Married</td>\n",
       "      <td>Female</td>\n",
       "      <td>Engineer, energy</td>\n",
       "      <td>None</td>\n",
       "      <td>None</td>\n",
       "    </tr>\n",
       "  </tbody>\n",
       "</table>\n",
       "</div>"
      ],
      "text/plain": [
       "    House Number        Street First Name    Surname  Age  \\\n",
       "155            8  Lewis Harbor       Katy    Pearson    7   \n",
       "156          NaN  Lewis Harbor      Debra  Alexander   19   \n",
       "157            9  Lewis Harbor      Terry       Ward   19   \n",
       "158           10  Lewis Harbor      Molly      Grant   48   \n",
       "\n",
       "    Relationship to Head of House Marital Status  Gender          Occupation  \\\n",
       "155                      Daughter            NaN  Female             Student   \n",
       "156                          Head         Single  Female  University Student   \n",
       "157                       Partner         Single    Male  University Student   \n",
       "158                          Head        Married  Female    Engineer, energy   \n",
       "\n",
       "    Infirmity Religion  \n",
       "155      None      NaN  \n",
       "156      None     None  \n",
       "157      None     None  \n",
       "158      None     None  "
      ]
     },
     "execution_count": 53,
     "metadata": {},
     "output_type": "execute_result"
    }
   ],
   "source": [
    "census_df[155:159]"
   ]
  },
  {
   "cell_type": "code",
   "execution_count": 54,
   "id": "ff2748c3",
   "metadata": {},
   "outputs": [],
   "source": [
    "census_df.at[156,'House Number'] = 9"
   ]
  },
  {
   "cell_type": "code",
   "execution_count": 55,
   "id": "d4c22aa2",
   "metadata": {},
   "outputs": [
    {
     "data": {
      "text/plain": [
       "False    8809\n",
       "Name: House Number, dtype: int64"
      ]
     },
     "execution_count": 55,
     "metadata": {},
     "output_type": "execute_result"
    }
   ],
   "source": [
    "census_df['House Number'].isna().value_counts()"
   ]
  },
  {
   "cell_type": "markdown",
   "id": "19d2466f",
   "metadata": {},
   "source": [
    "#### Look for house numbers that are not numeric (i.e. alphabet). Then treat accordingly"
   ]
  },
  {
   "cell_type": "code",
   "execution_count": 56,
   "id": "c07ad9b5",
   "metadata": {},
   "outputs": [
    {
     "data": {
      "text/html": [
       "<div>\n",
       "<style scoped>\n",
       "    .dataframe tbody tr th:only-of-type {\n",
       "        vertical-align: middle;\n",
       "    }\n",
       "\n",
       "    .dataframe tbody tr th {\n",
       "        vertical-align: top;\n",
       "    }\n",
       "\n",
       "    .dataframe thead th {\n",
       "        text-align: right;\n",
       "    }\n",
       "</style>\n",
       "<table border=\"1\" class=\"dataframe\">\n",
       "  <thead>\n",
       "    <tr style=\"text-align: right;\">\n",
       "      <th></th>\n",
       "      <th>House Number</th>\n",
       "      <th>Street</th>\n",
       "      <th>First Name</th>\n",
       "      <th>Surname</th>\n",
       "      <th>Age</th>\n",
       "      <th>Relationship to Head of House</th>\n",
       "      <th>Marital Status</th>\n",
       "      <th>Gender</th>\n",
       "      <th>Occupation</th>\n",
       "      <th>Infirmity</th>\n",
       "      <th>Religion</th>\n",
       "    </tr>\n",
       "  </thead>\n",
       "  <tbody>\n",
       "    <tr>\n",
       "      <th>7983</th>\n",
       "      <td>One</td>\n",
       "      <td>Yucca Avenue</td>\n",
       "      <td>Ashleigh</td>\n",
       "      <td>Thomas</td>\n",
       "      <td>7</td>\n",
       "      <td>Daughter</td>\n",
       "      <td>NaN</td>\n",
       "      <td>Female</td>\n",
       "      <td>Student</td>\n",
       "      <td>None</td>\n",
       "      <td>NaN</td>\n",
       "    </tr>\n",
       "    <tr>\n",
       "      <th>8665</th>\n",
       "      <td>Two</td>\n",
       "      <td>McKenzie Locks</td>\n",
       "      <td>Jacqueline</td>\n",
       "      <td>O'Neill</td>\n",
       "      <td>35</td>\n",
       "      <td>Lodger</td>\n",
       "      <td>Single</td>\n",
       "      <td>Female</td>\n",
       "      <td>Theme park manager</td>\n",
       "      <td>None</td>\n",
       "      <td>None</td>\n",
       "    </tr>\n",
       "  </tbody>\n",
       "</table>\n",
       "</div>"
      ],
      "text/plain": [
       "     House Number          Street  First Name  Surname  Age  \\\n",
       "7983          One    Yucca Avenue    Ashleigh   Thomas    7   \n",
       "8665          Two  McKenzie Locks  Jacqueline  O'Neill   35   \n",
       "\n",
       "     Relationship to Head of House Marital Status  Gender          Occupation  \\\n",
       "7983                      Daughter            NaN  Female             Student   \n",
       "8665                        Lodger         Single  Female  Theme park manager   \n",
       "\n",
       "     Infirmity Religion  \n",
       "7983      None      NaN  \n",
       "8665      None     None  "
      ]
     },
     "execution_count": 56,
     "metadata": {},
     "output_type": "execute_result"
    }
   ],
   "source": [
    "census_df[census_df['House Number'].str.isalpha().fillna(False)]"
   ]
  },
  {
   "cell_type": "code",
   "execution_count": 57,
   "id": "fdb2e164",
   "metadata": {},
   "outputs": [],
   "source": [
    "census_df.at[7983, 'House Number'] = 1\n",
    "census_df.at[8665, 'House Number'] = 2"
   ]
  },
  {
   "cell_type": "markdown",
   "id": "5b4ac6b2",
   "metadata": {},
   "source": [
    "#### Cast House number to Integer"
   ]
  },
  {
   "cell_type": "code",
   "execution_count": 58,
   "id": "60787458",
   "metadata": {},
   "outputs": [],
   "source": [
    "census_df['House Number'] = census_df['House Number'].astype('int')"
   ]
  },
  {
   "cell_type": "markdown",
   "id": "de6cb3ba",
   "metadata": {},
   "source": [
    "### OCCUPATION CLEANING"
   ]
  },
  {
   "cell_type": "markdown",
   "id": "7f4240a1",
   "metadata": {},
   "source": [
    "#### Validate Children occupation. i.e. all children whose age are less than 5 should have Child as their occupation"
   ]
  },
  {
   "cell_type": "code",
   "execution_count": 59,
   "id": "bda6da6b",
   "metadata": {},
   "outputs": [
    {
     "data": {
      "text/html": [
       "<div>\n",
       "<style scoped>\n",
       "    .dataframe tbody tr th:only-of-type {\n",
       "        vertical-align: middle;\n",
       "    }\n",
       "\n",
       "    .dataframe tbody tr th {\n",
       "        vertical-align: top;\n",
       "    }\n",
       "\n",
       "    .dataframe thead th {\n",
       "        text-align: right;\n",
       "    }\n",
       "</style>\n",
       "<table border=\"1\" class=\"dataframe\">\n",
       "  <thead>\n",
       "    <tr style=\"text-align: right;\">\n",
       "      <th></th>\n",
       "      <th>House Number</th>\n",
       "      <th>Street</th>\n",
       "      <th>First Name</th>\n",
       "      <th>Surname</th>\n",
       "      <th>Age</th>\n",
       "      <th>Relationship to Head of House</th>\n",
       "      <th>Marital Status</th>\n",
       "      <th>Gender</th>\n",
       "      <th>Occupation</th>\n",
       "      <th>Infirmity</th>\n",
       "      <th>Religion</th>\n",
       "    </tr>\n",
       "  </thead>\n",
       "  <tbody>\n",
       "  </tbody>\n",
       "</table>\n",
       "</div>"
      ],
      "text/plain": [
       "Empty DataFrame\n",
       "Columns: [House Number, Street, First Name, Surname, Age, Relationship to Head of House, Marital Status, Gender, Occupation, Infirmity, Religion]\n",
       "Index: []"
      ]
     },
     "execution_count": 59,
     "metadata": {},
     "output_type": "execute_result"
    }
   ],
   "source": [
    "census_df[(census_df['Age'] <= 4) & (census_df['Occupation'] != 'Child')]"
   ]
  },
  {
   "cell_type": "code",
   "execution_count": 60,
   "id": "7d38ac78",
   "metadata": {},
   "outputs": [
    {
     "data": {
      "text/plain": [
       "False    8809\n",
       "Name: Occupation, dtype: int64"
      ]
     },
     "execution_count": 60,
     "metadata": {},
     "output_type": "execute_result"
    }
   ],
   "source": [
    "census_df['Occupation'].str.match(r'\\s').value_counts()"
   ]
  },
  {
   "cell_type": "code",
   "execution_count": null,
   "id": "4315e500",
   "metadata": {},
   "outputs": [],
   "source": []
  },
  {
   "cell_type": "markdown",
   "id": "953ca5ab",
   "metadata": {},
   "source": [
    "#### Replace occupation of people who are aged 65+ and are still unemployed  with Retired as it is not likely they apply for any job anymore"
   ]
  },
  {
   "cell_type": "code",
   "execution_count": 61,
   "id": "1ef61345",
   "metadata": {},
   "outputs": [],
   "source": [
    "occ_indx = census_df[(census_df['Age'] >= 65) & (census_df['Occupation'] == 'Unemployed')].index"
   ]
  },
  {
   "cell_type": "code",
   "execution_count": 62,
   "id": "d1ecddc3",
   "metadata": {},
   "outputs": [],
   "source": [
    "census_df.loc[occ_indx, 'Occupation'] = 'Retired'"
   ]
  },
  {
   "cell_type": "code",
   "execution_count": 63,
   "id": "a91ad795",
   "metadata": {},
   "outputs": [
    {
     "data": {
      "text/plain": [
       "False    8809\n",
       "Name: Occupation, dtype: int64"
      ]
     },
     "execution_count": 63,
     "metadata": {},
     "output_type": "execute_result"
    }
   ],
   "source": [
    "census_df['Occupation'].isna().value_counts()"
   ]
  },
  {
   "cell_type": "markdown",
   "id": "325cd796",
   "metadata": {},
   "source": [
    "#### INFIRMITY CLEANING"
   ]
  },
  {
   "cell_type": "code",
   "execution_count": 64,
   "id": "e7d41e24",
   "metadata": {},
   "outputs": [
    {
     "data": {
      "text/plain": [
       "None                   8738\n",
       "Physical Disability      15\n",
       "                         14\n",
       "Unknown Infection        10\n",
       "Disabled                  9\n",
       "Deaf                      8\n",
       "Mental Disability         8\n",
       "Blind                     7\n",
       "Name: Infirmity, dtype: int64"
      ]
     },
     "execution_count": 64,
     "metadata": {},
     "output_type": "execute_result"
    }
   ],
   "source": [
    "census_df['Infirmity'].value_counts()"
   ]
  },
  {
   "cell_type": "markdown",
   "id": "ec11fa66",
   "metadata": {},
   "source": [
    "#### Replace all blank infirmity cells with None since the mode of Infirmity is None"
   ]
  },
  {
   "cell_type": "code",
   "execution_count": 65,
   "id": "5d91d383",
   "metadata": {},
   "outputs": [],
   "source": [
    "empty_indexes = census_df[census_df['Infirmity'] == ' '].index\n",
    "census_df.loc[empty_indexes, 'Infirmity'] = 'None'"
   ]
  },
  {
   "cell_type": "code",
   "execution_count": 66,
   "id": "3844e89a",
   "metadata": {},
   "outputs": [
    {
     "data": {
      "text/plain": [
       "None                   8752\n",
       "Physical Disability      15\n",
       "Unknown Infection        10\n",
       "Disabled                  9\n",
       "Deaf                      8\n",
       "Mental Disability         8\n",
       "Blind                     7\n",
       "Name: Infirmity, dtype: int64"
      ]
     },
     "execution_count": 66,
     "metadata": {},
     "output_type": "execute_result"
    }
   ],
   "source": [
    "census_df['Infirmity'].value_counts()"
   ]
  },
  {
   "cell_type": "code",
   "execution_count": null,
   "id": "b22ed73f",
   "metadata": {},
   "outputs": [],
   "source": []
  },
  {
   "cell_type": "markdown",
   "id": "3398f94b",
   "metadata": {},
   "source": [
    "### STREET CLEANING"
   ]
  },
  {
   "cell_type": "markdown",
   "id": "c353457f",
   "metadata": {},
   "source": [
    "#### Confirm there is no blank street"
   ]
  },
  {
   "cell_type": "code",
   "execution_count": 67,
   "id": "1fc1d71b",
   "metadata": {},
   "outputs": [
    {
     "data": {
      "text/plain": [
       "False    8809\n",
       "Name: Street, dtype: int64"
      ]
     },
     "execution_count": 67,
     "metadata": {},
     "output_type": "execute_result"
    }
   ],
   "source": [
    "census_df['Street'].str.match(r'\\s').value_counts()"
   ]
  },
  {
   "cell_type": "code",
   "execution_count": 68,
   "id": "af072588",
   "metadata": {},
   "outputs": [
    {
     "name": "stdout",
     "output_type": "stream",
     "text": [
      "<class 'pandas.core.frame.DataFrame'>\n",
      "RangeIndex: 8809 entries, 0 to 8808\n",
      "Data columns (total 11 columns):\n",
      " #   Column                         Non-Null Count  Dtype \n",
      "---  ------                         --------------  ----- \n",
      " 0   House Number                   8809 non-null   int64 \n",
      " 1   Street                         8809 non-null   object\n",
      " 2   First Name                     8808 non-null   object\n",
      " 3   Surname                        8809 non-null   object\n",
      " 4   Age                            8809 non-null   int64 \n",
      " 5   Relationship to Head of House  8809 non-null   object\n",
      " 6   Marital Status                 6951 non-null   object\n",
      " 7   Gender                         8809 non-null   object\n",
      " 8   Occupation                     8809 non-null   object\n",
      " 9   Infirmity                      8809 non-null   object\n",
      " 10  Religion                       6951 non-null   object\n",
      "dtypes: int64(2), object(9)\n",
      "memory usage: 757.1+ KB\n"
     ]
    }
   ],
   "source": [
    "census_df.info()"
   ]
  },
  {
   "cell_type": "markdown",
   "id": "62f34bfd",
   "metadata": {},
   "source": [
    "#### Categorise commuters based on their occupation. Assumption is made that only retired people, non-university students, children, unemployed people, teachers and community workers are non-commuters"
   ]
  },
  {
   "cell_type": "code",
   "execution_count": 69,
   "id": "807fb27b",
   "metadata": {},
   "outputs": [
    {
     "data": {
      "text/plain": [
       "1057"
      ]
     },
     "execution_count": 69,
     "metadata": {},
     "output_type": "execute_result"
    }
   ],
   "source": [
    "len(census_df['Occupation'].unique())"
   ]
  },
  {
   "cell_type": "code",
   "execution_count": 70,
   "id": "e30648df",
   "metadata": {},
   "outputs": [],
   "source": [
    "occupations = (census_df['Occupation'].unique())"
   ]
  },
  {
   "cell_type": "code",
   "execution_count": 71,
   "id": "42b2f573",
   "metadata": {},
   "outputs": [],
   "source": [
    "commuters_occupation = []\n",
    "non_commuters_occupation = []\n",
    "import re\n",
    "for value in list(occupations):\n",
    "    if (bool(re.match(r'.*retired.*', value.lower()))):\n",
    "        non_commuters_occupation.append(value)\n",
    "    elif value.lower() in ['student', 'child', 'unemployed']:\n",
    "        non_commuters_occupation.append(value)\n",
    "    elif (bool(re.match(r'.*(teacher|community).*',value.lower()))):\n",
    "        non_commuters_occupation.append(value)\n",
    "    else:\n",
    "        commuters_occupation.append(value)"
   ]
  },
  {
   "cell_type": "code",
   "execution_count": 72,
   "id": "e2b0d53f",
   "metadata": {},
   "outputs": [
    {
     "data": {
      "text/plain": [
       "621"
      ]
     },
     "execution_count": 72,
     "metadata": {},
     "output_type": "execute_result"
    }
   ],
   "source": [
    "len(commuters_occupation)"
   ]
  },
  {
   "cell_type": "code",
   "execution_count": 73,
   "id": "7a2fc2e6",
   "metadata": {},
   "outputs": [
    {
     "data": {
      "text/plain": [
       "436"
      ]
     },
     "execution_count": 73,
     "metadata": {},
     "output_type": "execute_result"
    }
   ],
   "source": [
    "len(non_commuters_occupation)"
   ]
  },
  {
   "cell_type": "code",
   "execution_count": 74,
   "id": "0d5ddf25",
   "metadata": {},
   "outputs": [
    {
     "name": "stdout",
     "output_type": "stream",
     "text": [
      "Number of commuters in the population is 5192\n",
      "Number of non-commuters in the population is 3617\n"
     ]
    }
   ],
   "source": [
    "commuters_length = len(census_df[census_df['Occupation'].isin(commuters_occupation)])\n",
    "non_commuters_length = len(census_df[census_df['Occupation'].isin(non_commuters_occupation)])\n",
    "print(\"Number of commuters in the population is\", commuters_length)\n",
    "print(\"Number of non-commuters in the population is\", non_commuters_length)"
   ]
  },
  {
   "cell_type": "markdown",
   "id": "90c37737",
   "metadata": {},
   "source": [
    "#### Data overview after cleaning"
   ]
  },
  {
   "cell_type": "code",
   "execution_count": 75,
   "id": "bc4b29ac",
   "metadata": {},
   "outputs": [
    {
     "name": "stdout",
     "output_type": "stream",
     "text": [
      "<class 'pandas.core.frame.DataFrame'>\n",
      "RangeIndex: 8809 entries, 0 to 8808\n",
      "Data columns (total 11 columns):\n",
      " #   Column                         Non-Null Count  Dtype \n",
      "---  ------                         --------------  ----- \n",
      " 0   House Number                   8809 non-null   int64 \n",
      " 1   Street                         8809 non-null   object\n",
      " 2   First Name                     8808 non-null   object\n",
      " 3   Surname                        8809 non-null   object\n",
      " 4   Age                            8809 non-null   int64 \n",
      " 5   Relationship to Head of House  8809 non-null   object\n",
      " 6   Marital Status                 6951 non-null   object\n",
      " 7   Gender                         8809 non-null   object\n",
      " 8   Occupation                     8809 non-null   object\n",
      " 9   Infirmity                      8809 non-null   object\n",
      " 10  Religion                       6951 non-null   object\n",
      "dtypes: int64(2), object(9)\n",
      "memory usage: 757.1+ KB\n"
     ]
    }
   ],
   "source": [
    "census_df.info()"
   ]
  },
  {
   "cell_type": "markdown",
   "id": "d98d9323",
   "metadata": {},
   "source": [
    "### DATA VISUALIZATION"
   ]
  },
  {
   "cell_type": "code",
   "execution_count": 76,
   "id": "1e3e3ed3",
   "metadata": {},
   "outputs": [
    {
     "data": {
      "text/plain": [
       "108"
      ]
     },
     "execution_count": 76,
     "metadata": {},
     "output_type": "execute_result"
    }
   ],
   "source": [
    "census_df['Age'].max()"
   ]
  },
  {
   "cell_type": "markdown",
   "id": "2d105267",
   "metadata": {},
   "source": [
    "#### Boxplot for Age"
   ]
  },
  {
   "cell_type": "code",
   "execution_count": 77,
   "id": "17246267",
   "metadata": {},
   "outputs": [
    {
     "data": {
      "text/plain": [
       "<AxesSubplot:xlabel='Age'>"
      ]
     },
     "execution_count": 77,
     "metadata": {},
     "output_type": "execute_result"
    },
    {
     "data": {
      "image/png": "[encoded data removed]",
      "text/plain": [
       "<Figure size 432x576 with 1 Axes>"
      ]
     },
     "metadata": {
      "needs_background": "light"
     },
     "output_type": "display_data"
    }
   ],
   "source": [
    "plt.figure(figsize=(6,8))\n",
    "sbn.boxplot(data=census_df, x='Age')"
   ]
  },
  {
   "cell_type": "markdown",
   "id": "789f8b4b",
   "metadata": {},
   "source": [
    "#### Histogram to show age distribution with bin width of 4 "
   ]
  },
  {
   "cell_type": "code",
   "execution_count": 78,
   "id": "7a8e99dd",
   "metadata": {},
   "outputs": [
    {
     "data": {
      "text/plain": [
       "<seaborn.axisgrid.FacetGrid at 0x7f8756361040>"
      ]
     },
     "execution_count": 78,
     "metadata": {},
     "output_type": "execute_result"
    },
    {
     "data": {
      "image/png": "[encoded data removed]",
      "text/plain": [
       "<Figure size 676.925x432 with 1 Axes>"
      ]
     },
     "metadata": {
      "needs_background": "light"
     },
     "output_type": "display_data"
    }
   ],
   "source": [
    "sbn.displot(data=census_df, x='Age', kind='hist', height=6, aspect=1.4, binwidth=4,\n",
    "            hue='Gender', multiple='stack')"
   ]
  },
  {
   "cell_type": "code",
   "execution_count": 79,
   "id": "0b76f474",
   "metadata": {},
   "outputs": [
    {
     "data": {
      "text/plain": [
       "Text(0.5, 1.0, '')"
      ]
     },
     "execution_count": 79,
     "metadata": {},
     "output_type": "execute_result"
    },
    {
     "data": {
      "image/png": "[encoded data removed]",
      "text/plain": [
       "<Figure size 720x576 with 1 Axes>"
      ]
     },
     "metadata": {
      "needs_background": "light"
     },
     "output_type": "display_data"
    }
   ],
   "source": [
    "sbn.displot(x=census_df['Age'], binwidth=4, height=8, aspect=10/8)\n",
    "plt.title(\"\")"
   ]
  },
  {
   "cell_type": "markdown",
   "id": "9f7a41ee",
   "metadata": {},
   "source": [
    "#### Male and Female histogram to show their age distribution"
   ]
  },
  {
   "cell_type": "code",
   "execution_count": 80,
   "id": "ed6324fc",
   "metadata": {},
   "outputs": [],
   "source": [
    "female_census_df = census_df[census_df['Gender'] == 'Female']\n",
    "male_census_df = census_df[census_df['Gender'] == 'Male']"
   ]
  },
  {
   "cell_type": "code",
   "execution_count": 81,
   "id": "54d644af",
   "metadata": {},
   "outputs": [
    {
     "data": {
      "text/plain": [
       "<seaborn.axisgrid.FacetGrid at 0x7f87510feca0>"
      ]
     },
     "execution_count": 81,
     "metadata": {},
     "output_type": "execute_result"
    },
    {
     "data": {
      "image/png": "[encoded data removed]",
      "text/plain": [
       "<Figure size 1728x720 with 2 Axes>"
      ]
     },
     "metadata": {
      "needs_background": "light"
     },
     "output_type": "display_data"
    }
   ],
   "source": [
    "sbn.displot(data=census_df, x='Age', binwidth=4, col='Gender', height=10.0, aspect=12.0/10.0)"
   ]
  },
  {
   "cell_type": "code",
   "execution_count": 82,
   "id": "7540f75b",
   "metadata": {},
   "outputs": [
    {
     "data": {
      "text/html": [
       "<div>\n",
       "<style scoped>\n",
       "    .dataframe tbody tr th:only-of-type {\n",
       "        vertical-align: middle;\n",
       "    }\n",
       "\n",
       "    .dataframe tbody tr th {\n",
       "        vertical-align: top;\n",
       "    }\n",
       "\n",
       "    .dataframe thead th {\n",
       "        text-align: right;\n",
       "    }\n",
       "</style>\n",
       "<table border=\"1\" class=\"dataframe\">\n",
       "  <thead>\n",
       "    <tr style=\"text-align: right;\">\n",
       "      <th></th>\n",
       "      <th>House Number</th>\n",
       "      <th>Street</th>\n",
       "      <th>First Name</th>\n",
       "      <th>Surname</th>\n",
       "      <th>Age</th>\n",
       "      <th>Relationship to Head of House</th>\n",
       "      <th>Marital Status</th>\n",
       "      <th>Gender</th>\n",
       "      <th>Occupation</th>\n",
       "      <th>Infirmity</th>\n",
       "      <th>Religion</th>\n",
       "    </tr>\n",
       "  </thead>\n",
       "  <tbody>\n",
       "    <tr>\n",
       "      <th>1075</th>\n",
       "      <td>28</td>\n",
       "      <td>St.John Lane</td>\n",
       "      <td>Bruce</td>\n",
       "      <td>Webb</td>\n",
       "      <td>108</td>\n",
       "      <td>Husband</td>\n",
       "      <td>Married</td>\n",
       "      <td>Male</td>\n",
       "      <td>Retired Tax inspector</td>\n",
       "      <td>None</td>\n",
       "      <td>None</td>\n",
       "    </tr>\n",
       "    <tr>\n",
       "      <th>2926</th>\n",
       "      <td>39</td>\n",
       "      <td>Gray Grove</td>\n",
       "      <td>Russell</td>\n",
       "      <td>Scott</td>\n",
       "      <td>104</td>\n",
       "      <td>Head</td>\n",
       "      <td>Married</td>\n",
       "      <td>Male</td>\n",
       "      <td>Retired Editor, commissioning</td>\n",
       "      <td>None</td>\n",
       "      <td>Christian</td>\n",
       "    </tr>\n",
       "    <tr>\n",
       "      <th>2999</th>\n",
       "      <td>7</td>\n",
       "      <td>Aberdeenrigg Street</td>\n",
       "      <td>Benjamin</td>\n",
       "      <td>Jones</td>\n",
       "      <td>104</td>\n",
       "      <td>Head</td>\n",
       "      <td>Married</td>\n",
       "      <td>Male</td>\n",
       "      <td>Retired Production assistant, television</td>\n",
       "      <td>None</td>\n",
       "      <td>Christian</td>\n",
       "    </tr>\n",
       "  </tbody>\n",
       "</table>\n",
       "</div>"
      ],
      "text/plain": [
       "      House Number               Street First Name Surname  Age  \\\n",
       "1075            28         St.John Lane      Bruce    Webb  108   \n",
       "2926            39           Gray Grove    Russell   Scott  104   \n",
       "2999             7  Aberdeenrigg Street   Benjamin   Jones  104   \n",
       "\n",
       "     Relationship to Head of House Marital Status Gender  \\\n",
       "1075                       Husband        Married   Male   \n",
       "2926                          Head        Married   Male   \n",
       "2999                          Head        Married   Male   \n",
       "\n",
       "                                    Occupation Infirmity   Religion  \n",
       "1075                     Retired Tax inspector      None       None  \n",
       "2926             Retired Editor, commissioning      None  Christian  \n",
       "2999  Retired Production assistant, television      None  Christian  "
      ]
     },
     "execution_count": 82,
     "metadata": {},
     "output_type": "execute_result"
    }
   ],
   "source": [
    "census_df[(census_df['Age'] >= 103) & (census_df['Gender'] == 'Male')]"
   ]
  },
  {
   "cell_type": "code",
   "execution_count": 83,
   "id": "59cf27d3",
   "metadata": {},
   "outputs": [
    {
     "data": {
      "text/plain": [
       "18.0"
      ]
     },
     "execution_count": 83,
     "metadata": {},
     "output_type": "execute_result"
    }
   ],
   "source": [
    "census_df['Age'].quantile(q=0.25)"
   ]
  },
  {
   "cell_type": "markdown",
   "id": "1350be41",
   "metadata": {},
   "source": [
    "#### Drawing data for Age Pyramid "
   ]
  },
  {
   "cell_type": "code",
   "execution_count": 84,
   "id": "728141ee",
   "metadata": {},
   "outputs": [],
   "source": [
    "male_census_ages = census_df[census_df['Gender'] == 'Male']['Age'].to_list()"
   ]
  },
  {
   "cell_type": "code",
   "execution_count": 85,
   "id": "27c408f2",
   "metadata": {},
   "outputs": [],
   "source": [
    "female_census_ages = census_df[census_df['Gender'] == 'Female']['Age'].to_list()"
   ]
  },
  {
   "cell_type": "code",
   "execution_count": 86,
   "id": "db1a2472",
   "metadata": {},
   "outputs": [],
   "source": [
    "age_intervals = []\n",
    "male_count = []\n",
    "female_count = []\n",
    "next_start = 0\n",
    "for i in range(0,110,5):\n",
    "    interval = f'{next_start}-{next_start+4}'\n",
    "    next_start=next_start+4+1\n",
    "    age_intervals.append(interval)\n",
    "    male_count.append(0)\n",
    "    female_count.append(0)"
   ]
  },
  {
   "cell_type": "code",
   "execution_count": 87,
   "id": "9c2127e7",
   "metadata": {},
   "outputs": [],
   "source": [
    "def get_age_group(age):\n",
    "    index = int(age/5)\n",
    "    return age_intervals[index]"
   ]
  },
  {
   "cell_type": "code",
   "execution_count": 88,
   "id": "2b58b932",
   "metadata": {},
   "outputs": [],
   "source": [
    "census_df['age_group'] = census_df['Age'].apply(get_age_group)"
   ]
  },
  {
   "cell_type": "code",
   "execution_count": 89,
   "id": "19053091",
   "metadata": {},
   "outputs": [],
   "source": [
    "for age in male_census_ages:\n",
    "    index = int(age/5)\n",
    "    male_count[index] = male_count[index] + 1"
   ]
  },
  {
   "cell_type": "code",
   "execution_count": 90,
   "id": "70ddf6b9",
   "metadata": {},
   "outputs": [],
   "source": [
    "for age in female_census_ages:\n",
    "    index = int(age/5)\n",
    "    female_count[index] = female_count[index] + 1"
   ]
  },
  {
   "cell_type": "code",
   "execution_count": 91,
   "id": "1c59537a",
   "metadata": {},
   "outputs": [
    {
     "data": {
      "text/plain": [
       "262"
      ]
     },
     "execution_count": 91,
     "metadata": {},
     "output_type": "execute_result"
    }
   ],
   "source": [
    "census_df[(census_df['Gender'] == 'Male')  & (census_df['Age'] >= 0) & (census_df['Age'] <= 4)]['Age'].count()"
   ]
  },
  {
   "cell_type": "code",
   "execution_count": 92,
   "id": "83bce1b4",
   "metadata": {},
   "outputs": [
    {
     "data": {
      "text/plain": [
       "4619"
      ]
     },
     "execution_count": 92,
     "metadata": {},
     "output_type": "execute_result"
    }
   ],
   "source": [
    "census_df[(census_df['Gender'] == 'Female')]['Age'].count()"
   ]
  },
  {
   "cell_type": "markdown",
   "id": "56643cc9",
   "metadata": {},
   "source": [
    "#### Age intervals drawn programatically with a class interval of 5"
   ]
  },
  {
   "cell_type": "code",
   "execution_count": 93,
   "id": "157e2b5e",
   "metadata": {},
   "outputs": [
    {
     "data": {
      "text/plain": [
       "['0-4',\n",
       " '5-9',\n",
       " '10-14',\n",
       " '15-19',\n",
       " '20-24',\n",
       " '25-29',\n",
       " '30-34',\n",
       " '35-39',\n",
       " '40-44',\n",
       " '45-49',\n",
       " '50-54',\n",
       " '55-59',\n",
       " '60-64',\n",
       " '65-69',\n",
       " '70-74',\n",
       " '75-79',\n",
       " '80-84',\n",
       " '85-89',\n",
       " '90-94',\n",
       " '95-99',\n",
       " '100-104',\n",
       " '105-109']"
      ]
     },
     "execution_count": 93,
     "metadata": {},
     "output_type": "execute_result"
    }
   ],
   "source": [
    "age_intervals"
   ]
  },
  {
   "cell_type": "markdown",
   "id": "7939b81b",
   "metadata": {},
   "source": [
    "#### Draw Age Pyramid"
   ]
  },
  {
   "cell_type": "code",
   "execution_count": 94,
   "id": "d05b5d5a",
   "metadata": {},
   "outputs": [
    {
     "data": {
      "text/plain": [
       "[Text(0.5, 0, 'Population Count'), Text(0, 0.5, 'Age Group')]"
      ]
     },
     "execution_count": 94,
     "metadata": {},
     "output_type": "execute_result"
    },
    {
     "data": {
      "image/png": "[encoded data removed]",
      "text/plain": [
       "<Figure size 864x576 with 1 Axes>"
      ]
     },
     "metadata": {
      "needs_background": "light"
     },
     "output_type": "display_data"
    }
   ],
   "source": [
    "age_pyramid_df = pd.DataFrame({\n",
    "    'Age' : age_intervals[::-1],\n",
    "    'Female' : female_count[::-1],\n",
    "    'Male' : [-1 * val for val in male_count][::-1]\n",
    "})\n",
    "\n",
    "plt.figure(figsize=(12,8))\n",
    "age_pyramid = sbn.barplot(x='Male', y='Age', data=age_pyramid_df,  color=('mediumblue'), label='Male')\n",
    "age_pyramid = sbn.barplot(x='Female', y='Age', data=age_pyramid_df,  color=('darkorange'), label='Female')\n",
    "age_pyramid.legend() \n",
    "plt.title('Age Pyramid')\n",
    "age_pyramid.set(xlabel='Population Count', ylabel='Age Group')"
   ]
  },
  {
   "cell_type": "code",
   "execution_count": null,
   "id": "d85fcb5f",
   "metadata": {},
   "outputs": [],
   "source": []
  },
  {
   "cell_type": "markdown",
   "id": "bbe978dc",
   "metadata": {},
   "source": [
    "#### Religion bar chart showing the frequency of religions in percentage"
   ]
  },
  {
   "cell_type": "code",
   "execution_count": 95,
   "id": "66ce125e",
   "metadata": {},
   "outputs": [
    {
     "data": {
      "text/plain": [
       "None         3244\n",
       "Christian    1964\n",
       "Catholic      930\n",
       "Methodist     577\n",
       "Muslim        124\n",
       "Sikh           67\n",
       "Jewish         39\n",
       "Quaker          3\n",
       "Hindu           2\n",
       "Orthodoxy       1\n",
       "Name: Religion, dtype: int64"
      ]
     },
     "execution_count": 95,
     "metadata": {},
     "output_type": "execute_result"
    }
   ],
   "source": [
    "census_df['Religion'].value_counts()"
   ]
  },
  {
   "cell_type": "code",
   "execution_count": 96,
   "id": "5cc445ba",
   "metadata": {},
   "outputs": [
    {
     "name": "stdout",
     "output_type": "stream",
     "text": [
      "     Religion  Count\n",
      "0   Christian  22.30\n",
      "1        None  36.83\n",
      "2   Methodist   6.55\n",
      "3         NaN  21.09\n",
      "4        Sikh   0.76\n",
      "5    Catholic  10.56\n",
      "6      Muslim   1.41\n",
      "7      Jewish   0.44\n",
      "8      Quaker   0.03\n",
      "9       Hindu   0.02\n",
      "10  Orthodoxy   0.01\n"
     ]
    },
    {
     "data": {
      "text/plain": [
       "Text(0, 0.5, 'Religion')"
      ]
     },
     "execution_count": 96,
     "metadata": {},
     "output_type": "execute_result"
    },
    {
     "data": {
      "image/png": "[encoded data removed]",
      "text/plain": [
       "<Figure size 576x576 with 1 Axes>"
      ]
     },
     "metadata": {
      "needs_background": "light"
     },
     "output_type": "display_data"
    }
   ],
   "source": [
    "religions = census_df['Religion'].unique().tolist()\n",
    "religion_count = []\n",
    "total_religion = len(census_df['Religion'])\n",
    "for religion in religions:\n",
    "    rc = census_df[census_df['Religion'] == religion]['Religion'].count()\n",
    "    percentage = round((rc/total_religion)*100, 2)\n",
    "    religion_count.append(percentage)\n",
    "religion_count[religions.index(np.nan)] = round(((census_df['Religion'].isna().sum())/total_religion)*100, 2)\n",
    "df = pd.DataFrame({\n",
    "    'Religion' : religions,\n",
    "    'Count' : religion_count\n",
    "})\n",
    "print(df)\n",
    "df = df.sort_values('Count')\n",
    "ax = df.plot(kind='barh', x = 'Religion', y='Count', figsize=(8, 8), zorder=2, width=0.85)\n",
    "ax.spines['top'].set_visible(False)\n",
    "ax.spines['bottom'].set_visible(False)\n",
    "ax.spines['left'].set_visible(False)\n",
    "ax.spines['right'].set_visible(False)\n",
    "ax.tick_params(axis=\"both\", which=\"both\", bottom=\"off\", top=\"off\", labelbottom=\"on\", left=\"off\", right=\"off\",\n",
    "               labelleft=\"on\")\n",
    "vals = ax.get_xticks()\n",
    "for tick in vals:\n",
    "  ax.axvline(x=tick, linestyle='dashed', alpha=0.4, color='#eeeeee', zorder=1)\n",
    "\n",
    "ax.set_xlabel(\"Frequency (%)\", labelpad=20, weight='bold', size=12)\n",
    "ax.set_ylabel(\"Religion\", labelpad=20, weight='bold', size=12)"
   ]
  },
  {
   "cell_type": "code",
   "execution_count": null,
   "id": "0c9bfd36",
   "metadata": {},
   "outputs": [],
   "source": []
  },
  {
   "cell_type": "markdown",
   "id": "3ef1bd33",
   "metadata": {},
   "source": [
    "#### Marital status bar chart showing the frequency of marital status in percentage"
   ]
  },
  {
   "cell_type": "code",
   "execution_count": 97,
   "id": "6bf822fb",
   "metadata": {},
   "outputs": [
    {
     "name": "stdout",
     "output_type": "stream",
     "text": [
      "  Marital Status  Count\n",
      "1        Widowed   3.59\n",
      "2       Divorced   8.31\n",
      "4            NaN  21.09\n",
      "3        Married  28.74\n",
      "0         Single  38.27\n"
     ]
    },
    {
     "data": {
      "text/plain": [
       "Text(0, 0.5, 'Marital Status')"
      ]
     },
     "execution_count": 97,
     "metadata": {},
     "output_type": "execute_result"
    },
    {
     "data": {
      "image/png": "[encoded data removed]",
      "text/plain": [
       "<Figure size 576x288 with 1 Axes>"
      ]
     },
     "metadata": {
      "needs_background": "light"
     },
     "output_type": "display_data"
    }
   ],
   "source": [
    "marital_statuses = census_df['Marital Status'].unique().tolist()\n",
    "marital_status_count = []\n",
    "total_marital_status = len(census_df['Marital Status'])\n",
    "for marital_status in marital_statuses:\n",
    "    rc = census_df[census_df['Marital Status'] == marital_status]['Marital Status'].count()\n",
    "    percentage = round((rc/total_marital_status)*100, 2)\n",
    "    marital_status_count.append(percentage)\n",
    "marital_status_count[marital_statuses.index(np.nan)] = round(((census_df['Marital Status'].isna().sum())/total_marital_status)*100, 2)\n",
    "# del marital_status_count[marital_statuses.index(np.nan)]\n",
    "# marital_statuses.remove(np.nan)\n",
    "df = pd.DataFrame({\n",
    "    'Marital Status' : marital_statuses,\n",
    "    'Count' : marital_status_count\n",
    "})\n",
    "df = df.sort_values('Count')\n",
    "ax = df.plot(kind='barh', x = 'Marital Status', y='Count', figsize=(8, 4), zorder=2, width=0.85,\n",
    "            )\n",
    "# ['#CC0000','#CC6600', '#CCCC00', '#336600']\n",
    "ax.spines['top'].set_visible(False)\n",
    "ax.spines['bottom'].set_visible(False)\n",
    "ax.spines['left'].set_visible(False)\n",
    "ax.spines['right'].set_visible(False)\n",
    "print(df)\n",
    "# Switch off ticks\n",
    "ax.tick_params(axis=\"both\", which=\"both\", bottom=\"off\", top=\"off\", labelbottom=\"on\", left=\"off\", right=\"off\",\n",
    "               labelleft=\"on\")\n",
    "\n",
    "# Draw vertical axis lines\n",
    "vals = ax.get_xticks()\n",
    "for tick in vals:\n",
    "  ax.axvline(x=tick, linestyle='dashed', alpha=0.4, color='#eeeeee', zorder=0)\n",
    "\n",
    "# Set x-axis label\n",
    "ax.set_xlabel(\"Frequency (%)\", labelpad=20, weight='bold', size=12)\n",
    "\n",
    "# Set y-axis label\n",
    "ax.set_ylabel(\"Marital Status\", labelpad=20, weight='bold', size=12)"
   ]
  },
  {
   "cell_type": "code",
   "execution_count": null,
   "id": "537f1abf",
   "metadata": {},
   "outputs": [],
   "source": []
  },
  {
   "cell_type": "markdown",
   "id": "ce8fca4e",
   "metadata": {},
   "source": [
    "#### Infirmity bar chart showing the frequency of infirmities in percentage"
   ]
  },
  {
   "cell_type": "code",
   "execution_count": 98,
   "id": "c4978219",
   "metadata": {},
   "outputs": [
    {
     "data": {
      "text/plain": [
       "None                   8752\n",
       "Physical Disability      15\n",
       "Unknown Infection        10\n",
       "Disabled                  9\n",
       "Deaf                      8\n",
       "Mental Disability         8\n",
       "Blind                     7\n",
       "Name: Infirmity, dtype: int64"
      ]
     },
     "execution_count": 98,
     "metadata": {},
     "output_type": "execute_result"
    }
   ],
   "source": [
    "census_df['Infirmity'].value_counts()"
   ]
  },
  {
   "cell_type": "code",
   "execution_count": 99,
   "id": "28860d73",
   "metadata": {},
   "outputs": [
    {
     "data": {
      "text/plain": [
       "Text(0, 0.5, 'Infirmity')"
      ]
     },
     "execution_count": 99,
     "metadata": {},
     "output_type": "execute_result"
    },
    {
     "data": {
      "image/png": "[encoded data removed]",
      "text/plain": [
       "<Figure size 432x288 with 1 Axes>"
      ]
     },
     "metadata": {
      "needs_background": "light"
     },
     "output_type": "display_data"
    }
   ],
   "source": [
    "infirmities = census_df['Infirmity'].unique().tolist()\n",
    "infirmity_count = []\n",
    "total_infirmity = len(census_df['Infirmity'])\n",
    "for infirmity in infirmities:\n",
    "    rc = census_df[census_df['Infirmity'] == infirmity]['Infirmity'].count()\n",
    "    percentage = round((rc/total_infirmity)*100, 2)\n",
    "    infirmity_count.append(percentage)\n",
    "df = pd.DataFrame({\n",
    "    'Infirmity' : infirmities,\n",
    "    'Count' : infirmity_count\n",
    "})\n",
    "df = df.sort_values('Count')\n",
    "ax = df.plot(kind='barh', x = 'Infirmity', y='Count', figsize=(6, 4), zorder=2, width=0.85)\n",
    "ax.spines['top'].set_visible(False)\n",
    "ax.spines['bottom'].set_visible(False)\n",
    "ax.spines['left'].set_visible(False)\n",
    "ax.spines['right'].set_visible(False)\n",
    "\n",
    "# Switch off ticks\n",
    "ax.tick_params(axis=\"both\", which=\"both\", bottom=\"off\", top=\"off\", labelbottom=\"on\", left=\"off\", right=\"off\",\n",
    "               labelleft=\"on\")\n",
    "\n",
    "# Draw vertical axis lines\n",
    "vals = ax.get_xticks()\n",
    "for tick in vals:\n",
    "  ax.axvline(x=tick, linestyle='dashed', alpha=0.4, color='#eeeeee', zorder=1)\n",
    "\n",
    "# Set x-axis label\n",
    "ax.set_xlabel(\"Frequency (%)\", labelpad=20, weight='bold', size=12)\n",
    "\n",
    "# Set y-axis label\n",
    "ax.set_ylabel(\"Infirmity\", labelpad=20, weight='bold', size=12)"
   ]
  },
  {
   "cell_type": "code",
   "execution_count": null,
   "id": "63cd8164",
   "metadata": {},
   "outputs": [],
   "source": []
  },
  {
   "cell_type": "markdown",
   "id": "ba091e46",
   "metadata": {},
   "source": [
    "#### Function to categorise people as Child, Retired, Student, Unemployed or Employed based on their Occupation"
   ]
  },
  {
   "cell_type": "code",
   "execution_count": 100,
   "id": "742dd9d9",
   "metadata": {},
   "outputs": [],
   "source": [
    "def get_employment_category(occupation):\n",
    "    if (occupation.lower() == 'child'):\n",
    "        return 'Child'\n",
    "    if ('retired' in occupation.lower()):\n",
    "        return 'Retired'\n",
    "    elif ('student' in occupation.lower()):\n",
    "        return 'Student'\n",
    "    elif ('unemployed' in occupation.lower()):\n",
    "        return 'Unemployed'\n",
    "    else:\n",
    "        return 'Employed'"
   ]
  },
  {
   "cell_type": "code",
   "execution_count": null,
   "id": "1cf46718",
   "metadata": {},
   "outputs": [],
   "source": []
  },
  {
   "cell_type": "markdown",
   "id": "d3d27e7d",
   "metadata": {},
   "source": [
    "#### Apply employment category function to the dataframe"
   ]
  },
  {
   "cell_type": "code",
   "execution_count": 101,
   "id": "38f92e47",
   "metadata": {},
   "outputs": [],
   "source": [
    "census_df['employment_category'] = census_df['Occupation'].apply(get_employment_category)"
   ]
  },
  {
   "cell_type": "code",
   "execution_count": 102,
   "id": "0d01e0c5",
   "metadata": {},
   "outputs": [
    {
     "data": {
      "text/plain": [
       "Employed      4785\n",
       "Student       2314\n",
       "Retired        702\n",
       "Unemployed     505\n",
       "Child          503\n",
       "Name: employment_category, dtype: int64"
      ]
     },
     "execution_count": 102,
     "metadata": {},
     "output_type": "execute_result"
    }
   ],
   "source": [
    "census_df['employment_category'].value_counts()"
   ]
  },
  {
   "cell_type": "markdown",
   "id": "08484bdf",
   "metadata": {},
   "source": [
    "#### Draw employment bar chart showing frequency in percentage"
   ]
  },
  {
   "cell_type": "code",
   "execution_count": 103,
   "id": "085a1ade",
   "metadata": {},
   "outputs": [
    {
     "data": {
      "text/plain": [
       "Text(0, 0.5, 'Frequency (%)')"
      ]
     },
     "execution_count": 103,
     "metadata": {},
     "output_type": "execute_result"
    },
    {
     "data": {
      "image/png": "[encoded data removed]",
      "text/plain": [
       "<Figure size 360x432 with 1 Axes>"
      ]
     },
     "metadata": {
      "needs_background": "light"
     },
     "output_type": "display_data"
    }
   ],
   "source": [
    "employments = census_df['employment_category'].unique().tolist()\n",
    "employment_count = []\n",
    "total_employments = len(census_df['employment_category'])\n",
    "for employment in employments:\n",
    "    rc = census_df[census_df['employment_category'] == employment]['employment_category'].count()\n",
    "    percentage = round((rc/total_employments)*100, 2)\n",
    "    employment_count.append(percentage)\n",
    "df = pd.DataFrame({\n",
    "    'Employment' : employments,\n",
    "    'Count' : employment_count\n",
    "})\n",
    "df = df.sort_values('Count')\n",
    "ax = df.plot(kind='bar', x = 'Employment', y='Count', figsize=(5, 6),  zorder=2, width=0.7)\n",
    "ax.spines['top'].set_visible(False)\n",
    "ax.spines['bottom'].set_visible(False)\n",
    "ax.spines['left'].set_visible(False)\n",
    "ax.spines['right'].set_visible(False)\n",
    "ax.tick_params(axis=\"both\", which=\"both\", bottom=\"off\", top=\"off\", labelbottom=\"on\", left=\"off\", right=\"off\",\n",
    "               labelleft=\"on\")\n",
    "vals = ax.get_xticks()\n",
    "for tick in vals:\n",
    "  ax.axvline(x=tick, linestyle='dashed', alpha=0.4, color='#eeeeee', zorder=1)\n",
    "ax.set_xlabel(\"Employment\", labelpad=20, weight='bold', size=12)\n",
    "ax.set_ylabel(\"Frequency (%)\", labelpad=20, weight='bold', size=12)"
   ]
  },
  {
   "cell_type": "code",
   "execution_count": 104,
   "id": "85783b80",
   "metadata": {},
   "outputs": [
    {
     "data": {
      "text/plain": [
       "Gender\n",
       "Female    318\n",
       "Male      187\n",
       "Name: Gender, dtype: int64"
      ]
     },
     "execution_count": 104,
     "metadata": {},
     "output_type": "execute_result"
    }
   ],
   "source": [
    "census_df[(census_df['employment_category'] == 'Unemployed')].groupby(['Gender'])['Gender'].count()"
   ]
  },
  {
   "cell_type": "code",
   "execution_count": null,
   "id": "b60ada24",
   "metadata": {},
   "outputs": [],
   "source": []
  },
  {
   "cell_type": "markdown",
   "id": "7053644e",
   "metadata": {},
   "source": [
    "#### Unemployment bar chart with respect to Age range"
   ]
  },
  {
   "cell_type": "code",
   "execution_count": 105,
   "id": "dd047e5d",
   "metadata": {},
   "outputs": [],
   "source": [
    "unemployed_population_df = census_df[census_df['employment_category'] == 'Unemployed']"
   ]
  },
  {
   "cell_type": "code",
   "execution_count": 106,
   "id": "17dff98e",
   "metadata": {},
   "outputs": [
    {
     "name": "stdout",
     "output_type": "stream",
     "text": [
      "  Age Group  Unemployment Count\n",
      "0     30-34               15.05\n",
      "1     40-44               17.82\n",
      "2     55-59                7.92\n",
      "3     25-29                9.70\n",
      "4     35-39               16.63\n",
      "5     60-64                8.71\n",
      "6     20-24                3.17\n",
      "7     45-49               11.88\n",
      "8     50-54                8.71\n",
      "9     15-19                0.40\n"
     ]
    },
    {
     "data": {
      "text/plain": [
       "Text(0, 0.5, 'Frequency (%)')"
      ]
     },
     "execution_count": 106,
     "metadata": {},
     "output_type": "execute_result"
    },
    {
     "data": {
      "image/png": "[encoded data removed]",
      "text/plain": [
       "<Figure size 576x504 with 1 Axes>"
      ]
     },
     "metadata": {
      "needs_background": "light"
     },
     "output_type": "display_data"
    }
   ],
   "source": [
    "age_groups = unemployed_population_df['age_group'].unique().tolist()\n",
    "age_group_count = []\n",
    "total_age_group = len(unemployed_population_df['age_group'])\n",
    "for age_group in age_groups:\n",
    "    rc = unemployed_population_df[unemployed_population_df['age_group'] == age_group]['age_group'].count()\n",
    "    percentage = round((rc/total_age_group)*100, 2)\n",
    "    age_group_count.append(percentage)\n",
    "df = pd.DataFrame({\n",
    "    'Age Group' : age_groups,\n",
    "    'Unemployment Count' : age_group_count\n",
    "})\n",
    "print(df)\n",
    "df = df.sort_values('Age Group')\n",
    "ax = df.plot(kind='bar', x = 'Age Group', y='Unemployment Count', figsize=(8, 7),\n",
    "             zorder=2, width=0.7)\n",
    "ax.spines['top'].set_visible(False)\n",
    "ax.spines['bottom'].set_visible(False)\n",
    "ax.spines['left'].set_visible(False)\n",
    "ax.spines['right'].set_visible(False)\n",
    "ax.tick_params(axis=\"both\", which=\"both\", bottom=\"off\", top=\"off\", labelbottom=\"on\", left=\"off\", right=\"off\",\n",
    "               labelleft=\"on\")\n",
    "vals = ax.get_xticks()\n",
    "for idx, tick in enumerate(vals):\n",
    "  ax.axvline(x=tick, linestyle='dashed', alpha=0.4, color='#eeeeee', zorder=1)\n",
    "\n",
    "ax.set_xlabel(\"Age Group\", labelpad=20, weight='bold', size=12)\n",
    "ax.set_ylabel(\"Frequency (%)\", labelpad=20, weight='bold', size=12)"
   ]
  },
  {
   "cell_type": "code",
   "execution_count": null,
   "id": "64b3301f",
   "metadata": {},
   "outputs": [],
   "source": []
  },
  {
   "cell_type": "markdown",
   "id": "c3931b3f",
   "metadata": {},
   "source": [
    "#### Bar chart for Divorced and Single showing frequency in percentage"
   ]
  },
  {
   "cell_type": "code",
   "execution_count": 107,
   "id": "e6d9e181",
   "metadata": {},
   "outputs": [
    {
     "data": {
      "text/plain": [
       "Married     2532\n",
       "Divorced     732\n",
       "Name: Marital Status, dtype: int64"
      ]
     },
     "execution_count": 107,
     "metadata": {},
     "output_type": "execute_result"
    }
   ],
   "source": [
    "census_df[census_df['Marital Status'].isin(['Married', 'Divorced'])]['Marital Status'].value_counts()"
   ]
  },
  {
   "cell_type": "code",
   "execution_count": 108,
   "id": "a3bade3e",
   "metadata": {},
   "outputs": [
    {
     "data": {
      "text/plain": [
       "Text(0, 0.5, 'Marital Status')"
      ]
     },
     "execution_count": 108,
     "metadata": {},
     "output_type": "execute_result"
    },
    {
     "data": {
      "image/png": "[encoded data removed]",
      "text/plain": [
       "<Figure size 576x288 with 1 Axes>"
      ]
     },
     "metadata": {
      "needs_background": "light"
     },
     "output_type": "display_data"
    }
   ],
   "source": [
    "marital_statuses = ['Divorced', 'Married']\n",
    "marital_status_count = []\n",
    "total_marital_status = len(census_df[census_df['Marital Status'].isin(marital_statuses)])\n",
    "for marital_status in marital_statuses:\n",
    "    rc = census_df[census_df['Marital Status'] == marital_status]['Marital Status'].count()\n",
    "    percentage = round((rc/total_marital_status)*100, 2)\n",
    "    marital_status_count.append(percentage)\n",
    "\n",
    "df = pd.DataFrame({\n",
    "    'Marital Status' : marital_statuses,\n",
    "    'Count' : marital_status_count\n",
    "})\n",
    "df = df.sort_values('Count')\n",
    "ax = df.plot(kind='barh', x = 'Marital Status', y='Count', figsize=(8, 4), zorder=2, width=0.85)\n",
    "ax.spines['top'].set_visible(False)\n",
    "ax.spines['bottom'].set_visible(False)\n",
    "ax.spines['left'].set_visible(False)\n",
    "ax.spines['right'].set_visible(False)\n",
    "\n",
    "ax.tick_params(axis=\"both\", which=\"both\", bottom=\"off\", top=\"off\", labelbottom=\"on\", left=\"off\", right=\"off\",\n",
    "               labelleft=\"on\")\n",
    "\n",
    "vals = ax.get_xticks()\n",
    "for tick in vals:\n",
    "  ax.axvline(x=tick, linestyle='dashed', alpha=0.4, color='#eeeeee', zorder=1)\n",
    "ax.set_xlabel(\"Frequency (%)\", labelpad=20, weight='bold', size=12)\n",
    "\n",
    "ax.set_ylabel(\"Marital Status\", labelpad=20, weight='bold', size=12)"
   ]
  },
  {
   "cell_type": "code",
   "execution_count": null,
   "id": "a70dca8e",
   "metadata": {},
   "outputs": [],
   "source": []
  },
  {
   "cell_type": "markdown",
   "id": "ba79a8f3",
   "metadata": {},
   "source": [
    "#### Marital Status boxplot"
   ]
  },
  {
   "cell_type": "code",
   "execution_count": 109,
   "id": "9c4ef5fd",
   "metadata": {},
   "outputs": [
    {
     "data": {
      "image/png": "[encoded data removed]",
      "text/plain": [
       "<Figure size 720x595.44 with 1 Axes>"
      ]
     },
     "metadata": {
      "needs_background": "light"
     },
     "output_type": "display_data"
    }
   ],
   "source": [
    "a4_dims = (10, 8.27)\n",
    "fig, ax = plt.subplots(figsize=a4_dims)\n",
    "bx = sbn.boxplot( data= census_df, x = 'Marital Status', y = 'Age')\n",
    "marital_statuses = census_df['Marital Status'].unique().tolist()\n",
    "marital_statuses.remove(np.nan)\n",
    "colors=['#CC0000','#336600', '#CCCC00', '#CC6600']\n",
    "color_dict = dict(zip(marital_statuses, colors))\n",
    "for i in range(0,4):\n",
    "    mybox = bx.artists[i]\n",
    "    mybox.set_facecolor(color_dict[marital_statuses[i]])"
   ]
  },
  {
   "cell_type": "code",
   "execution_count": null,
   "id": "09d42336",
   "metadata": {},
   "outputs": [],
   "source": []
  },
  {
   "cell_type": "markdown",
   "id": "4b2f14ab",
   "metadata": {},
   "source": [
    "#### Birth rate calculation"
   ]
  },
  {
   "cell_type": "markdown",
   "id": "39415c67",
   "metadata": {},
   "source": [
    "#### Get the current birth ratio with assumption that only women aged 25-29 can give birth"
   ]
  },
  {
   "cell_type": "code",
   "execution_count": 110,
   "id": "2de94a57",
   "metadata": {},
   "outputs": [],
   "source": [
    "no_of_new_born = census_df[census_df['Age'] == 0]['Age'].count()"
   ]
  },
  {
   "cell_type": "code",
   "execution_count": 111,
   "id": "52395474",
   "metadata": {},
   "outputs": [],
   "source": [
    "no_of_women_aged_25_to_29 = census_df[(census_df['Age'].between(25, 29)) & \n",
    "                                     (census_df['Gender'] == 'Female')]['Age'].count()"
   ]
  },
  {
   "cell_type": "code",
   "execution_count": 112,
   "id": "9f74a91f",
   "metadata": {},
   "outputs": [
    {
     "data": {
      "text/plain": [
       "311"
      ]
     },
     "execution_count": 112,
     "metadata": {},
     "output_type": "execute_result"
    }
   ],
   "source": [
    "no_of_women_aged_25_to_29"
   ]
  },
  {
   "cell_type": "code",
   "execution_count": 113,
   "id": "9511e965",
   "metadata": {},
   "outputs": [],
   "source": [
    "new_birth_ratio = no_of_new_born/no_of_women_aged_25_to_29"
   ]
  },
  {
   "cell_type": "code",
   "execution_count": 114,
   "id": "f736fd66",
   "metadata": {},
   "outputs": [],
   "source": [
    "births_per_100000 = round(new_birth_ratio * 100000)"
   ]
  },
  {
   "cell_type": "code",
   "execution_count": 115,
   "id": "78a984be",
   "metadata": {},
   "outputs": [
    {
     "data": {
      "text/plain": [
       "(0.2797427652733119, 27974)"
      ]
     },
     "execution_count": 115,
     "metadata": {},
     "output_type": "execute_result"
    }
   ],
   "source": [
    "new_birth_ratio, births_per_100000"
   ]
  },
  {
   "cell_type": "code",
   "execution_count": null,
   "id": "8adae7c0",
   "metadata": {},
   "outputs": [],
   "source": []
  },
  {
   "cell_type": "markdown",
   "id": "8897e99d",
   "metadata": {},
   "source": [
    "#### Get the Past 5 years birth ratio with assumption that only women aged 30-34 could give birth then"
   ]
  },
  {
   "cell_type": "code",
   "execution_count": 116,
   "id": "a0b075d8",
   "metadata": {},
   "outputs": [],
   "source": [
    "no_of_children_aged_4 = no_of_new_born = census_df[census_df['Age'] == 4]['Age'].count()"
   ]
  },
  {
   "cell_type": "code",
   "execution_count": 117,
   "id": "d77595aa",
   "metadata": {},
   "outputs": [],
   "source": [
    "no_of_women_aged_30_to_34 = census_df[(census_df['Age'].between(30, 34)) & \n",
    "                                     (census_df['Gender'] == 'Female')]['Age'].count()"
   ]
  },
  {
   "cell_type": "code",
   "execution_count": 118,
   "id": "21cbe2af",
   "metadata": {},
   "outputs": [
    {
     "data": {
      "text/plain": [
       "(117, 386)"
      ]
     },
     "execution_count": 118,
     "metadata": {},
     "output_type": "execute_result"
    }
   ],
   "source": [
    "no_of_children_aged_4, no_of_women_aged_30_to_34"
   ]
  },
  {
   "cell_type": "code",
   "execution_count": 119,
   "id": "e6fc3b69",
   "metadata": {},
   "outputs": [],
   "source": [
    "past_year_birth_ratio = no_of_children_aged_4/no_of_women_aged_30_to_34"
   ]
  },
  {
   "cell_type": "code",
   "execution_count": 120,
   "id": "1b7682a9",
   "metadata": {},
   "outputs": [
    {
     "data": {
      "text/plain": [
       "0.30310880829015546"
      ]
     },
     "execution_count": 120,
     "metadata": {},
     "output_type": "execute_result"
    }
   ],
   "source": [
    "past_year_birth_ratio"
   ]
  },
  {
   "cell_type": "code",
   "execution_count": 121,
   "id": "a29da4a7",
   "metadata": {},
   "outputs": [],
   "source": [
    "past_birth_per_100000 = round(past_year_birth_ratio * 100000)"
   ]
  },
  {
   "cell_type": "code",
   "execution_count": 122,
   "id": "cbe7b525",
   "metadata": {},
   "outputs": [
    {
     "data": {
      "text/plain": [
       "(0.30310880829015546, 30311)"
      ]
     },
     "execution_count": 122,
     "metadata": {},
     "output_type": "execute_result"
    }
   ],
   "source": [
    "past_year_birth_ratio, past_birth_per_100000"
   ]
  },
  {
   "cell_type": "code",
   "execution_count": null,
   "id": "059af405",
   "metadata": {},
   "outputs": [],
   "source": []
  },
  {
   "cell_type": "markdown",
   "id": "55b37cee",
   "metadata": {},
   "source": [
    "#### Subtract death ratio from birth ratio to get the birth rate of the population"
   ]
  },
  {
   "cell_type": "code",
   "execution_count": 123,
   "id": "1ee5815a",
   "metadata": {},
   "outputs": [],
   "source": [
    "current_birth_rate_per_annum = ((new_birth_ratio - past_year_birth_ratio)/past_year_birth_ratio)/5"
   ]
  },
  {
   "cell_type": "code",
   "execution_count": 124,
   "id": "1dabc638",
   "metadata": {},
   "outputs": [
    {
     "data": {
      "text/plain": [
       "-0.01541759419572927"
      ]
     },
     "execution_count": 124,
     "metadata": {},
     "output_type": "execute_result"
    }
   ],
   "source": [
    "current_birth_rate_per_annum"
   ]
  },
  {
   "cell_type": "markdown",
   "id": "0d0a1872",
   "metadata": {},
   "source": [
    "#### Multiply by 100000 to get the birth rate in per hundred thousand"
   ]
  },
  {
   "cell_type": "code",
   "execution_count": 125,
   "id": "c8f1e2f3",
   "metadata": {},
   "outputs": [],
   "source": [
    "current_birth_rate_per_100000 = current_birth_rate_per_annum * 100000"
   ]
  },
  {
   "cell_type": "code",
   "execution_count": 126,
   "id": "7f246052",
   "metadata": {},
   "outputs": [
    {
     "data": {
      "text/plain": [
       "-1542"
      ]
     },
     "execution_count": 126,
     "metadata": {},
     "output_type": "execute_result"
    }
   ],
   "source": [
    "round(current_birth_rate_per_100000)"
   ]
  },
  {
   "cell_type": "markdown",
   "id": "6ef50cb0",
   "metadata": {},
   "source": [
    "#### Death rate calculation"
   ]
  },
  {
   "cell_type": "markdown",
   "id": "e2a972ef",
   "metadata": {},
   "source": [
    "#### Use below age ranges to get the death rate. Get average of each of the comparison per line\n",
    "- 56-60,   61-65\n",
    "- 66-70,   71-75\n",
    "- 76-80,   81-85\n",
    "- 86-90,   91-95\n",
    "- 96- 100, 101-105"
   ]
  },
  {
   "cell_type": "markdown",
   "id": "c4ab955f",
   "metadata": {},
   "source": [
    "#### Generate intervals programatically"
   ]
  },
  {
   "cell_type": "code",
   "execution_count": 127,
   "id": "18aa2bbd",
   "metadata": {},
   "outputs": [],
   "source": [
    "i = 56\n",
    "val1 = []\n",
    "val2 = []\n",
    "c = 1\n",
    "while i < 106:\n",
    "    if (c%2==1):\n",
    "        val1.append((i,i+4))\n",
    "    else:\n",
    "        val2.append((i,i+4))\n",
    "    i=i+4+1\n",
    "    c+=1"
   ]
  },
  {
   "cell_type": "code",
   "execution_count": 128,
   "id": "7eb312dd",
   "metadata": {},
   "outputs": [
    {
     "data": {
      "text/plain": [
       "([(56, 60), (66, 70), (76, 80), (86, 90), (96, 100)],\n",
       " [(61, 65), (71, 75), (81, 85), (91, 95), (101, 105)])"
      ]
     },
     "execution_count": 128,
     "metadata": {},
     "output_type": "execute_result"
    }
   ],
   "source": [
    "val1, val2"
   ]
  },
  {
   "cell_type": "code",
   "execution_count": null,
   "id": "fae3b790",
   "metadata": {},
   "outputs": [],
   "source": []
  },
  {
   "cell_type": "markdown",
   "id": "8ef79fa5",
   "metadata": {},
   "source": [
    "#### Compute the death rate for each of the intervals drawn out above"
   ]
  },
  {
   "cell_type": "code",
   "execution_count": 129,
   "id": "532f1775",
   "metadata": {},
   "outputs": [],
   "source": [
    "rates_per_annum = []\n",
    "for min_years, max_years in zip(val1, val2):\n",
    "    count1 = census_df[(census_df['Age'].between(min_years[0], min_years[1]))]['Age'].count()\n",
    "    count2 = census_df[(census_df['Age'].between(max_years[0], max_years[1]))]['Age'].count()\n",
    "    rate_per_annum = ((count1 - count2)/count1)/5\n",
    "    rates_per_annum.append(rate_per_annum)"
   ]
  },
  {
   "cell_type": "code",
   "execution_count": 130,
   "id": "eb1bd899",
   "metadata": {},
   "outputs": [
    {
     "data": {
      "text/plain": [
       "[0.034677419354838715,\n",
       " 0.03225806451612903,\n",
       " 0.03310344827586207,\n",
       " 0.1565217391304348,\n",
       " -0.11428571428571428]"
      ]
     },
     "execution_count": 130,
     "metadata": {},
     "output_type": "execute_result"
    }
   ],
   "source": [
    "rates_per_annum"
   ]
  },
  {
   "cell_type": "markdown",
   "id": "333589e8",
   "metadata": {},
   "source": [
    "#### Get Avergae to get the death rate per annum"
   ]
  },
  {
   "cell_type": "code",
   "execution_count": 131,
   "id": "65dd41b9",
   "metadata": {},
   "outputs": [],
   "source": [
    "death_rate_per_annum = sum(rates_per_annum)/len(rates_per_annum)"
   ]
  },
  {
   "cell_type": "code",
   "execution_count": 132,
   "id": "6f5b629e",
   "metadata": {},
   "outputs": [
    {
     "data": {
      "text/plain": [
       "0.02845499139831007"
      ]
     },
     "execution_count": 132,
     "metadata": {},
     "output_type": "execute_result"
    }
   ],
   "source": [
    "death_rate_per_annum"
   ]
  },
  {
   "cell_type": "markdown",
   "id": "f0b751a7",
   "metadata": {},
   "source": [
    "#### death rates per 100000"
   ]
  },
  {
   "cell_type": "code",
   "execution_count": 133,
   "id": "b978fbc7",
   "metadata": {},
   "outputs": [],
   "source": [
    "deaths_per_100000 = death_rate_per_annum * 100000"
   ]
  },
  {
   "cell_type": "code",
   "execution_count": 134,
   "id": "1b756fec",
   "metadata": {},
   "outputs": [
    {
     "data": {
      "text/plain": [
       "25128.50086016899"
      ]
     },
     "execution_count": 134,
     "metadata": {},
     "output_type": "execute_result"
    }
   ],
   "source": [
    "births_per_100000 - deaths_per_100000"
   ]
  },
  {
   "cell_type": "markdown",
   "id": "40321417",
   "metadata": {},
   "source": [
    "#### Assume Lodgers and Visitors that are Single are Immigrants"
   ]
  },
  {
   "cell_type": "code",
   "execution_count": 135,
   "id": "f06186a5",
   "metadata": {},
   "outputs": [],
   "source": [
    "no_of_immigrants = len(census_df[(census_df['Relationship to Head of House'].isin(['Visitor', 'Lodger'])) & \n",
    "         (census_df['Marital Status'] == 'Single')])"
   ]
  },
  {
   "cell_type": "code",
   "execution_count": 136,
   "id": "9d9759cb",
   "metadata": {},
   "outputs": [
    {
     "data": {
      "text/plain": [
       "266"
      ]
     },
     "execution_count": 136,
     "metadata": {},
     "output_type": "execute_result"
    }
   ],
   "source": [
    "no_of_immigrants"
   ]
  },
  {
   "cell_type": "code",
   "execution_count": 137,
   "id": "ac3983cf",
   "metadata": {},
   "outputs": [],
   "source": [
    "immigration_rate = no_of_immigrants/len(census_df)"
   ]
  },
  {
   "cell_type": "code",
   "execution_count": 138,
   "id": "0fc59078",
   "metadata": {},
   "outputs": [
    {
     "data": {
      "text/plain": [
       "0.03019639005562493"
      ]
     },
     "execution_count": 138,
     "metadata": {},
     "output_type": "execute_result"
    }
   ],
   "source": [
    "immigration_rate"
   ]
  },
  {
   "cell_type": "code",
   "execution_count": 139,
   "id": "83106d53",
   "metadata": {},
   "outputs": [],
   "source": [
    "immigration_rate_per_100000 = round(immigration_rate * 100000)"
   ]
  },
  {
   "cell_type": "code",
   "execution_count": 140,
   "id": "4c753470",
   "metadata": {},
   "outputs": [
    {
     "data": {
      "text/plain": [
       "3020"
      ]
     },
     "execution_count": 140,
     "metadata": {},
     "output_type": "execute_result"
    }
   ],
   "source": [
    "immigration_rate_per_100000"
   ]
  },
  {
   "cell_type": "markdown",
   "id": "9137d4c4",
   "metadata": {},
   "source": [
    "#### Assume Emmigrants are the divorcees that left town."
   ]
  },
  {
   "cell_type": "code",
   "execution_count": 141,
   "id": "61e14e0c",
   "metadata": {},
   "outputs": [],
   "source": [
    "no_of_emmigrants = len(census_df[census_df['Marital Status'] == 'Divorced'])"
   ]
  },
  {
   "cell_type": "code",
   "execution_count": 142,
   "id": "62555b4d",
   "metadata": {},
   "outputs": [
    {
     "data": {
      "text/plain": [
       "732"
      ]
     },
     "execution_count": 142,
     "metadata": {},
     "output_type": "execute_result"
    }
   ],
   "source": [
    "no_of_emmigrants"
   ]
  },
  {
   "cell_type": "code",
   "execution_count": 143,
   "id": "acd9d9c1",
   "metadata": {},
   "outputs": [],
   "source": [
    "emmigration_rate = no_of_emmigrants/len(census_df)"
   ]
  },
  {
   "cell_type": "code",
   "execution_count": 144,
   "id": "561087e4",
   "metadata": {},
   "outputs": [
    {
     "data": {
      "text/plain": [
       "0.08309683278465206"
      ]
     },
     "execution_count": 144,
     "metadata": {},
     "output_type": "execute_result"
    }
   ],
   "source": [
    "emmigration_rate"
   ]
  },
  {
   "cell_type": "code",
   "execution_count": 145,
   "id": "f51f99a3",
   "metadata": {},
   "outputs": [],
   "source": [
    "emmigration_rate_per_100000 = round(emmigration_rate * 100000)"
   ]
  },
  {
   "cell_type": "code",
   "execution_count": 146,
   "id": "0a6123cc",
   "metadata": {},
   "outputs": [
    {
     "data": {
      "text/plain": [
       "8310"
      ]
     },
     "execution_count": 146,
     "metadata": {},
     "output_type": "execute_result"
    }
   ],
   "source": [
    "emmigration_rate_per_100000"
   ]
  },
  {
   "cell_type": "markdown",
   "id": "adb1320d",
   "metadata": {},
   "source": [
    "#### Calculating population growth with formular\n",
    "\n",
    "*****Change in Population Size = (Births + Immigration) - (Deaths + Emigration)*****"
   ]
  },
  {
   "cell_type": "code",
   "execution_count": 147,
   "id": "0f7814aa",
   "metadata": {},
   "outputs": [],
   "source": [
    "population_growth_rate = (current_birth_rate_per_annum + immigration_rate) - (death_rate_per_annum + emmigration_rate)"
   ]
  },
  {
   "cell_type": "code",
   "execution_count": 148,
   "id": "aad22dc9",
   "metadata": {},
   "outputs": [
    {
     "data": {
      "text/plain": [
       "-0.09677302832306647"
      ]
     },
     "execution_count": 148,
     "metadata": {},
     "output_type": "execute_result"
    }
   ],
   "source": [
    "population_growth_rate"
   ]
  },
  {
   "cell_type": "code",
   "execution_count": 149,
   "id": "3f36d5ce",
   "metadata": {},
   "outputs": [],
   "source": [
    "population_growth_rate_per_100000 = population_growth_rate * 100000"
   ]
  },
  {
   "cell_type": "code",
   "execution_count": 150,
   "id": "65253c90",
   "metadata": {},
   "outputs": [],
   "source": [
    "population_growth_rate_per_100000 = (current_birth_rate_per_100000 + immigration_rate_per_100000) - (deaths_per_100000 + emmigration_rate_per_100000)"
   ]
  },
  {
   "cell_type": "code",
   "execution_count": 151,
   "id": "4843fb7d",
   "metadata": {},
   "outputs": [
    {
     "data": {
      "text/plain": [
       "-9677"
      ]
     },
     "execution_count": 151,
     "metadata": {},
     "output_type": "execute_result"
    }
   ],
   "source": [
    "round(population_growth_rate_per_100000)"
   ]
  },
  {
   "cell_type": "markdown",
   "id": "9ff6d96b",
   "metadata": {},
   "source": [
    "#### Is there a demand for housing?\n",
    "- Assumption is to use the mode value per street as expected number of occupants. If the number of occupants is less than the mode, then the house is underused. If number of occupants is greater then the mode value, the house is overused"
   ]
  },
  {
   "cell_type": "code",
   "execution_count": 152,
   "id": "9b02a2c6",
   "metadata": {},
   "outputs": [
    {
     "name": "stdout",
     "output_type": "stream",
     "text": [
      "Number of undersized Houses :  416\n",
      "Number of oversized Houses :  1141\n"
     ]
    }
   ],
   "source": [
    "from statistics import mode\n",
    "streets = census_df['Street'].unique().tolist()\n",
    "occupants_number = []\n",
    "total_undersized_house = 0\n",
    "total_oversized_house = 0\n",
    "for street in streets:\n",
    "    house_numbers = census_df[census_df['Street'] == street]['House Number'].unique().tolist()\n",
    "    people_count_per_house = []\n",
    "    for house_number in house_numbers:\n",
    "        people_count = len(census_df[(census_df['Street'] == street) \n",
    "                                 & (census_df['House Number'] == house_number)])\n",
    "        people_count_per_house.append(people_count)\n",
    "    mode_count_for_street = mode(people_count_per_house)\n",
    "    occupants_number_gt_mode = len([val for val in people_count_per_house if val > mode_count_for_street])\n",
    "    total_oversized_house += occupants_number_gt_mode\n",
    "    occupants_number_lt_mode = len([val for val in people_count_per_house if val < mode_count_for_street])\n",
    "    total_undersized_house += occupants_number_lt_mode\n",
    "print(\"Number of undersized Houses : \", total_undersized_house)\n",
    "print(\"Number of oversized Houses : \", total_oversized_house)"
   ]
  },
  {
   "cell_type": "code",
   "execution_count": null,
   "id": "2e735cd4",
   "metadata": {},
   "outputs": [],
   "source": []
  },
  {
   "cell_type": "code",
   "execution_count": null,
   "id": "c9361310",
   "metadata": {},
   "outputs": [],
   "source": []
  },
  {
   "cell_type": "markdown",
   "id": "bbd89119",
   "metadata": {},
   "source": [
    "#### Non-fake Religion"
   ]
  },
  {
   "cell_type": "markdown",
   "id": "7b8f643d",
   "metadata": {},
   "source": [
    "#### Get Mean, Median, Mode, Range and Interquartile range of non fake religions"
   ]
  },
  {
   "cell_type": "code",
   "execution_count": 153,
   "id": "a176f52e",
   "metadata": {},
   "outputs": [],
   "source": [
    "non_fake_religious_df = census_df[census_df['Religion'].isin(['Catholic', 'Christian', 'Hindu','Quaker'\n",
    "                                                'Jewish', 'Methodist', 'Muslim', 'Orthodoxy','Sikh' ])]"
   ]
  },
  {
   "cell_type": "code",
   "execution_count": 154,
   "id": "39fbd9ed",
   "metadata": {},
   "outputs": [
    {
     "data": {
      "text/plain": [
       "Religion\n",
       "Catholic     43.152688\n",
       "Christian    48.967413\n",
       "Hindu        22.000000\n",
       "Methodist    44.745234\n",
       "Muslim       37.685484\n",
       "Orthodoxy    62.000000\n",
       "Sikh         36.328358\n",
       "Name: Age, dtype: float64"
      ]
     },
     "execution_count": 154,
     "metadata": {},
     "output_type": "execute_result"
    }
   ],
   "source": [
    "non_fake_religious_df.groupby(['Religion']).mean()['Age']"
   ]
  },
  {
   "cell_type": "code",
   "execution_count": 155,
   "id": "7cefdf4b",
   "metadata": {},
   "outputs": [
    {
     "data": {
      "text/plain": [
       "Religion\n",
       "Catholic     42.0\n",
       "Christian    50.0\n",
       "Hindu        22.0\n",
       "Methodist    42.0\n",
       "Muslim       34.0\n",
       "Orthodoxy    62.0\n",
       "Sikh         32.0\n",
       "Name: Age, dtype: float64"
      ]
     },
     "execution_count": 155,
     "metadata": {},
     "output_type": "execute_result"
    }
   ],
   "source": [
    "non_fake_religious_df.groupby(['Religion']).median()['Age']"
   ]
  },
  {
   "cell_type": "code",
   "execution_count": 156,
   "id": "6b7ab286",
   "metadata": {},
   "outputs": [],
   "source": [
    "religions = non_fake_religious_df['Religion'].unique().tolist()\n",
    "religion_mode_dict = {}\n",
    "for religion in religions:\n",
    "    mode_age = mode(non_fake_religious_df[non_fake_religious_df['Religion'] == religion]['Age'].tolist())\n",
    "    religion_mode_dict[religion] = mode_age"
   ]
  },
  {
   "cell_type": "code",
   "execution_count": 157,
   "id": "558927c6",
   "metadata": {
    "scrolled": false
   },
   "outputs": [
    {
     "data": {
      "text/plain": [
       "{'Christian': 55,\n",
       " 'Methodist': 38,\n",
       " 'Sikh': 33,\n",
       " 'Catholic': 43,\n",
       " 'Muslim': 32,\n",
       " 'Hindu': 22,\n",
       " 'Orthodoxy': 62}"
      ]
     },
     "execution_count": 157,
     "metadata": {},
     "output_type": "execute_result"
    }
   ],
   "source": [
    "religion_mode_dict"
   ]
  },
  {
   "cell_type": "code",
   "execution_count": 158,
   "id": "b5cf1e5a",
   "metadata": {},
   "outputs": [],
   "source": [
    "Max = non_fake_religious_df.groupby(['Religion'])['Age'].max()"
   ]
  },
  {
   "cell_type": "code",
   "execution_count": 159,
   "id": "9e5fc397",
   "metadata": {},
   "outputs": [],
   "source": [
    "Min = non_fake_religious_df.groupby(['Religion'])['Age'].min()"
   ]
  },
  {
   "cell_type": "code",
   "execution_count": 160,
   "id": "6f207f37",
   "metadata": {},
   "outputs": [
    {
     "data": {
      "text/plain": [
       "Religion\n",
       "Catholic     84\n",
       "Christian    86\n",
       "Hindu         0\n",
       "Methodist    77\n",
       "Muslim       70\n",
       "Orthodoxy     0\n",
       "Sikh         53\n",
       "Name: Age, dtype: int64"
      ]
     },
     "execution_count": 160,
     "metadata": {},
     "output_type": "execute_result"
    }
   ],
   "source": [
    "Max - Min"
   ]
  },
  {
   "cell_type": "code",
   "execution_count": 161,
   "id": "3d0cb7ec",
   "metadata": {},
   "outputs": [],
   "source": [
    "Q3 = non_fake_religious_df.groupby(['Religion'])['Age'].quantile(0.75)"
   ]
  },
  {
   "cell_type": "code",
   "execution_count": 162,
   "id": "fcb0e20d",
   "metadata": {},
   "outputs": [],
   "source": [
    "Q1 = non_fake_religious_df.groupby(['Religion'])['Age'].quantile(0.25)"
   ]
  },
  {
   "cell_type": "code",
   "execution_count": 163,
   "id": "4938923f",
   "metadata": {},
   "outputs": [
    {
     "data": {
      "text/plain": [
       "Religion\n",
       "Catholic     19.00\n",
       "Christian    26.00\n",
       "Hindu         0.00\n",
       "Methodist    24.00\n",
       "Muslim       19.25\n",
       "Orthodoxy     0.00\n",
       "Sikh         18.50\n",
       "Name: Age, dtype: float64"
      ]
     },
     "execution_count": 163,
     "metadata": {},
     "output_type": "execute_result"
    }
   ],
   "source": [
    "Q3 - Q1"
   ]
  },
  {
   "cell_type": "markdown",
   "id": "688bbe62",
   "metadata": {},
   "source": [
    "#### Non-fake religions boxplot with respect to Age"
   ]
  },
  {
   "cell_type": "code",
   "execution_count": 164,
   "id": "e30f0046",
   "metadata": {},
   "outputs": [
    {
     "data": {
      "image/png": "[encoded data removed]",
      "text/plain": [
       "<Figure size 720x504 with 1 Axes>"
      ]
     },
     "metadata": {
      "needs_background": "light"
     },
     "output_type": "display_data"
    }
   ],
   "source": [
    "a4_dims = (10, 7)\n",
    "fig, ax = plt.subplots(figsize=a4_dims)\n",
    "bx = sbn.boxplot(y = 'Age', orient='v', x = 'Religion', data = non_fake_religious_df)\n",
    "religion_vals = non_fake_religious_df['Religion'].unique().tolist()"
   ]
  },
  {
   "cell_type": "markdown",
   "id": "feca0e32",
   "metadata": {},
   "source": [
    "#### Fake Religion"
   ]
  },
  {
   "cell_type": "markdown",
   "id": "84eb01f6",
   "metadata": {},
   "source": [
    "#### Get Mean, Median, Mode, Range and Interquartile range of non fake religion"
   ]
  },
  {
   "cell_type": "code",
   "execution_count": 165,
   "id": "056135b0",
   "metadata": {},
   "outputs": [],
   "source": [
    "fake_religious_df = census_df[census_df['Religion'] == 'None']"
   ]
  },
  {
   "cell_type": "code",
   "execution_count": 166,
   "id": "4c16859e",
   "metadata": {},
   "outputs": [
    {
     "data": {
      "text/plain": [
       "Religion\n",
       "None    39.348644\n",
       "Name: Age, dtype: float64"
      ]
     },
     "execution_count": 166,
     "metadata": {},
     "output_type": "execute_result"
    }
   ],
   "source": [
    "fake_religious_df.groupby(['Religion']).mean()['Age']"
   ]
  },
  {
   "cell_type": "code",
   "execution_count": 167,
   "id": "c5c2ad48",
   "metadata": {},
   "outputs": [
    {
     "data": {
      "text/plain": [
       "Religion\n",
       "None    37.0\n",
       "Name: Age, dtype: float64"
      ]
     },
     "execution_count": 167,
     "metadata": {},
     "output_type": "execute_result"
    }
   ],
   "source": [
    "fake_religious_df.groupby(['Religion']).median()['Age']"
   ]
  },
  {
   "cell_type": "code",
   "execution_count": 168,
   "id": "35de8e9a",
   "metadata": {},
   "outputs": [],
   "source": [
    "religions = fake_religious_df['Religion'].unique().tolist()\n",
    "religion_mode_dict = {}\n",
    "for religion in religions:\n",
    "    mode_age = mode(fake_religious_df[fake_religious_df['Religion'] == religion]['Age'].tolist())\n",
    "    religion_mode_dict[religion] = mode_age"
   ]
  },
  {
   "cell_type": "code",
   "execution_count": 169,
   "id": "a6863435",
   "metadata": {},
   "outputs": [
    {
     "data": {
      "text/plain": [
       "{'None': 16}"
      ]
     },
     "execution_count": 169,
     "metadata": {},
     "output_type": "execute_result"
    }
   ],
   "source": [
    "religion_mode_dict"
   ]
  },
  {
   "cell_type": "code",
   "execution_count": 170,
   "id": "4a336264",
   "metadata": {},
   "outputs": [],
   "source": [
    "Max = fake_religious_df.groupby(['Religion'])['Age'].max()"
   ]
  },
  {
   "cell_type": "code",
   "execution_count": 171,
   "id": "2ef4edd3",
   "metadata": {},
   "outputs": [],
   "source": [
    "Min = fake_religious_df.groupby(['Religion'])['Age'].min()"
   ]
  },
  {
   "cell_type": "code",
   "execution_count": 172,
   "id": "89bd36c6",
   "metadata": {},
   "outputs": [
    {
     "data": {
      "text/plain": [
       "Religion\n",
       "None    92\n",
       "Name: Age, dtype: int64"
      ]
     },
     "execution_count": 172,
     "metadata": {},
     "output_type": "execute_result"
    }
   ],
   "source": [
    "Max - Min"
   ]
  },
  {
   "cell_type": "code",
   "execution_count": 173,
   "id": "d9653b99",
   "metadata": {},
   "outputs": [],
   "source": [
    "Q3 = fake_religious_df.groupby(['Religion'])['Age'].quantile(0.75)"
   ]
  },
  {
   "cell_type": "code",
   "execution_count": 174,
   "id": "1068d27e",
   "metadata": {},
   "outputs": [],
   "source": [
    "Q1 = fake_religious_df.groupby(['Religion'])['Age'].quantile(0.25)"
   ]
  },
  {
   "cell_type": "code",
   "execution_count": 175,
   "id": "2c078da8",
   "metadata": {},
   "outputs": [
    {
     "data": {
      "text/plain": [
       "Religion\n",
       "None    25.0\n",
       "Name: Age, dtype: float64"
      ]
     },
     "execution_count": 175,
     "metadata": {},
     "output_type": "execute_result"
    }
   ],
   "source": [
    "Q3 - Q1"
   ]
  },
  {
   "cell_type": "code",
   "execution_count": null,
   "id": "0075a6ce",
   "metadata": {},
   "outputs": [],
   "source": []
  },
  {
   "cell_type": "markdown",
   "id": "8bd0f87d",
   "metadata": {},
   "source": [
    "#### Boxplot for people with no religion"
   ]
  },
  {
   "cell_type": "code",
   "execution_count": 176,
   "id": "8b3b2451",
   "metadata": {},
   "outputs": [
    {
     "data": {
      "image/png": "[encoded data removed]",
      "text/plain": [
       "<Figure size 288x360 with 1 Axes>"
      ]
     },
     "metadata": {
      "needs_background": "light"
     },
     "output_type": "display_data"
    }
   ],
   "source": [
    "a4_dims = (4, 5)\n",
    "fig, ax = plt.subplots(figsize=a4_dims)\n",
    "bx = sbn.boxplot(y = 'Age', orient='v', x = 'Religion', data = fake_religious_df)\n",
    "religion_vals = fake_religious_df['Religion'].unique().tolist()"
   ]
  },
  {
   "cell_type": "code",
   "execution_count": null,
   "id": "e1c1b20b",
   "metadata": {},
   "outputs": [],
   "source": []
  },
  {
   "cell_type": "code",
   "execution_count": null,
   "id": "cc58d09b",
   "metadata": {},
   "outputs": [],
   "source": []
  },
  {
   "cell_type": "markdown",
   "id": "fc66481d",
   "metadata": {},
   "source": [
    "#### For Prediction over 10 years , I am using the formular \n",
    "\n",
    "***future_prediction = current_population_per_100000 * ((1+rate_per_annum)^10)***"
   ]
  },
  {
   "cell_type": "code",
   "execution_count": 177,
   "id": "3125cbcd",
   "metadata": {},
   "outputs": [],
   "source": [
    "number_to_be_born_in_ten_years_per_100000 = round(births_per_100000*((1+current_birth_rate_per_annum)**10))"
   ]
  },
  {
   "cell_type": "code",
   "execution_count": 178,
   "id": "197bb40e",
   "metadata": {},
   "outputs": [
    {
     "data": {
      "text/plain": [
       "23948"
      ]
     },
     "execution_count": 178,
     "metadata": {},
     "output_type": "execute_result"
    }
   ],
   "source": [
    "number_to_be_born_in_ten_years_per_100000"
   ]
  },
  {
   "cell_type": "code",
   "execution_count": 179,
   "id": "e8859019",
   "metadata": {},
   "outputs": [],
   "source": [
    "expected_death_in_ten_years_per_100000 = round(deaths_per_100000 * ((1+death_rate_per_annum)**10))"
   ]
  },
  {
   "cell_type": "code",
   "execution_count": 180,
   "id": "a875df8d",
   "metadata": {},
   "outputs": [
    {
     "data": {
      "text/plain": [
       "3767"
      ]
     },
     "execution_count": 180,
     "metadata": {},
     "output_type": "execute_result"
    }
   ],
   "source": [
    "expected_death_in_ten_years_per_100000"
   ]
  },
  {
   "cell_type": "code",
   "execution_count": null,
   "id": "67dbcdfe",
   "metadata": {},
   "outputs": [],
   "source": []
  },
  {
   "cell_type": "markdown",
   "id": "01c06ee6",
   "metadata": {},
   "source": [
    "#### Get the population of people that are liable to die as we assume from age 56 upwards"
   ]
  },
  {
   "cell_type": "code",
   "execution_count": 181,
   "id": "39769940",
   "metadata": {},
   "outputs": [],
   "source": [
    "no_of_population_from_56_upward = len(census_df[census_df['Age'] >= 56])"
   ]
  },
  {
   "cell_type": "code",
   "execution_count": 182,
   "id": "a4a0f300",
   "metadata": {},
   "outputs": [],
   "source": [
    "population_from_56_df = census_df[census_df['Age'] >= 56]"
   ]
  },
  {
   "cell_type": "code",
   "execution_count": 183,
   "id": "cdae6ed5",
   "metadata": {},
   "outputs": [],
   "source": [
    "count_per_religion_for_death = population_from_56_df.groupby('Religion').count()['Age']"
   ]
  },
  {
   "cell_type": "code",
   "execution_count": 184,
   "id": "25999cad",
   "metadata": {},
   "outputs": [],
   "source": [
    "del (count_per_religion_for_death['None'])"
   ]
  },
  {
   "cell_type": "code",
   "execution_count": 185,
   "id": "e637d90d",
   "metadata": {},
   "outputs": [
    {
     "data": {
      "text/plain": [
       "Religion\n",
       "Catholic     186\n",
       "Christian    731\n",
       "Jewish         8\n",
       "Methodist    148\n",
       "Muslim        14\n",
       "Orthodoxy      1\n",
       "Sikh           9\n",
       "Name: Age, dtype: int64"
      ]
     },
     "execution_count": 185,
     "metadata": {},
     "output_type": "execute_result"
    }
   ],
   "source": [
    "count_per_religion_for_death"
   ]
  },
  {
   "cell_type": "code",
   "execution_count": 186,
   "id": "38f02fda",
   "metadata": {},
   "outputs": [],
   "source": [
    "religions_death_rate_per_annum = (count_per_religion_for_death/no_of_population_from_56_upward) * death_rate_per_annum"
   ]
  },
  {
   "cell_type": "code",
   "execution_count": 187,
   "id": "8f322fae",
   "metadata": {},
   "outputs": [
    {
     "data": {
      "text/plain": [
       "Religion\n",
       "Catholic     0.003108\n",
       "Christian    0.012214\n",
       "Jewish       0.000134\n",
       "Methodist    0.002473\n",
       "Muslim       0.000234\n",
       "Orthodoxy    0.000017\n",
       "Sikh         0.000150\n",
       "Name: Age, dtype: float64"
      ]
     },
     "execution_count": 187,
     "metadata": {},
     "output_type": "execute_result"
    }
   ],
   "source": [
    "religions_death_rate_per_annum"
   ]
  },
  {
   "cell_type": "code",
   "execution_count": 188,
   "id": "df64a630",
   "metadata": {},
   "outputs": [],
   "source": [
    "population_in_next_ten_years = round(100000*((1+population_growth_rate)**10))"
   ]
  },
  {
   "cell_type": "code",
   "execution_count": 189,
   "id": "74e4c107",
   "metadata": {},
   "outputs": [
    {
     "data": {
      "text/plain": [
       "36138"
      ]
     },
     "execution_count": 189,
     "metadata": {},
     "output_type": "execute_result"
    }
   ],
   "source": [
    "population_in_next_ten_years"
   ]
  },
  {
   "cell_type": "code",
   "execution_count": 190,
   "id": "cd322e0e",
   "metadata": {},
   "outputs": [],
   "source": [
    "religion_expected_death_in_ten_years = (round(population_in_next_ten_years * \n",
    "                                              religions_death_rate_per_annum)).astype('int32')"
   ]
  },
  {
   "cell_type": "code",
   "execution_count": 191,
   "id": "9123818c",
   "metadata": {},
   "outputs": [
    {
     "data": {
      "text/plain": [
       "Religion\n",
       "Catholic     112\n",
       "Christian    441\n",
       "Jewish         5\n",
       "Methodist     89\n",
       "Muslim         8\n",
       "Orthodoxy      1\n",
       "Sikh           5\n",
       "Name: Age, dtype: int32"
      ]
     },
     "execution_count": 191,
     "metadata": {},
     "output_type": "execute_result"
    }
   ],
   "source": [
    "religion_expected_death_in_ten_years"
   ]
  },
  {
   "cell_type": "markdown",
   "id": "2a8463f7",
   "metadata": {},
   "source": [
    "#### Detrmining how many will be of a particular religion for those who are age 16 and above"
   ]
  },
  {
   "cell_type": "code",
   "execution_count": 192,
   "id": "8256abde",
   "metadata": {},
   "outputs": [],
   "source": [
    "no_of_population_from_16 = len(census_df[census_df['Age'] >= 16])"
   ]
  },
  {
   "cell_type": "code",
   "execution_count": 193,
   "id": "b4ddbfe5",
   "metadata": {},
   "outputs": [],
   "source": [
    "population_from_16_df = census_df[census_df['Age'] >= 16]"
   ]
  },
  {
   "cell_type": "code",
   "execution_count": 194,
   "id": "6bef6924",
   "metadata": {},
   "outputs": [],
   "source": [
    "count_per_religion_from_16 = population_from_16_df.groupby('Religion').count()['Age']"
   ]
  },
  {
   "cell_type": "code",
   "execution_count": 195,
   "id": "afd81225",
   "metadata": {},
   "outputs": [],
   "source": [
    "del (count_per_religion_from_16['None'])"
   ]
  },
  {
   "cell_type": "code",
   "execution_count": 196,
   "id": "ea72fe81",
   "metadata": {},
   "outputs": [],
   "source": [
    "religions_from_16_rate_per_annum = (count_per_religion_from_16/len(census_df))"
   ]
  },
  {
   "cell_type": "code",
   "execution_count": 197,
   "id": "c3b0bb62",
   "metadata": {},
   "outputs": [
    {
     "data": {
      "text/plain": [
       "Religion\n",
       "Catholic     0.105574\n",
       "Christian    0.222954\n",
       "Hindu        0.000227\n",
       "Jewish       0.004427\n",
       "Methodist    0.065501\n",
       "Muslim       0.014077\n",
       "Orthodoxy    0.000114\n",
       "Quaker       0.000341\n",
       "Sikh         0.007606\n",
       "Name: Age, dtype: float64"
      ]
     },
     "execution_count": 197,
     "metadata": {},
     "output_type": "execute_result"
    }
   ],
   "source": [
    "religions_from_16_rate_per_annum"
   ]
  },
  {
   "cell_type": "code",
   "execution_count": 198,
   "id": "07685033",
   "metadata": {},
   "outputs": [],
   "source": [
    "religions_from_16_for_next_10_years_per_100000 = population_in_next_ten_years * religions_from_16_rate_per_annum"
   ]
  },
  {
   "cell_type": "code",
   "execution_count": 199,
   "id": "13474c84",
   "metadata": {},
   "outputs": [
    {
     "data": {
      "text/plain": [
       "Religion\n",
       "Catholic     3815.0\n",
       "Christian    8057.0\n",
       "Hindu           8.0\n",
       "Jewish        160.0\n",
       "Methodist    2367.0\n",
       "Muslim        509.0\n",
       "Orthodoxy       4.0\n",
       "Quaker         12.0\n",
       "Sikh          275.0\n",
       "Name: Age, dtype: float64"
      ]
     },
     "execution_count": 199,
     "metadata": {},
     "output_type": "execute_result"
    }
   ],
   "source": [
    "round(religions_from_16_for_next_10_years_per_100000)"
   ]
  },
  {
   "cell_type": "markdown",
   "id": "d2a28c14",
   "metadata": {},
   "source": [
    "#### How healthy is the population"
   ]
  },
  {
   "cell_type": "code",
   "execution_count": 200,
   "id": "12efcc95",
   "metadata": {},
   "outputs": [],
   "source": [
    "no_of_population_from_80 = len(census_df[census_df['Age'] >= 80])"
   ]
  },
  {
   "cell_type": "code",
   "execution_count": 201,
   "id": "225a6da5",
   "metadata": {},
   "outputs": [],
   "source": [
    "fraction_of_over_80 = no_of_population_from_80 / len(census_df)"
   ]
  },
  {
   "cell_type": "code",
   "execution_count": 202,
   "id": "3212c242",
   "metadata": {},
   "outputs": [
    {
     "data": {
      "text/plain": [
       "0.02565557952094449"
      ]
     },
     "execution_count": 202,
     "metadata": {},
     "output_type": "execute_result"
    }
   ],
   "source": [
    "fraction_of_over_80"
   ]
  },
  {
   "cell_type": "code",
   "execution_count": 203,
   "id": "07c4d449",
   "metadata": {},
   "outputs": [],
   "source": [
    "population_of_over_80_per_100000 = fraction_of_over_80 * 100000"
   ]
  },
  {
   "cell_type": "markdown",
   "id": "3cfac0e0",
   "metadata": {},
   "source": [
    "#### Population over 80 is "
   ]
  },
  {
   "cell_type": "code",
   "execution_count": 204,
   "id": "79ccd4d2",
   "metadata": {},
   "outputs": [
    {
     "data": {
      "text/plain": [
       "2566"
      ]
     },
     "execution_count": 204,
     "metadata": {},
     "output_type": "execute_result"
    }
   ],
   "source": [
    "round(population_of_over_80_per_100000)"
   ]
  },
  {
   "cell_type": "code",
   "execution_count": 205,
   "id": "2044f6bd",
   "metadata": {},
   "outputs": [],
   "source": [
    "no_from_80_next_10_years = (len(census_df[census_df['Age'] >= 70])/len(census_df))* population_in_next_ten_years"
   ]
  },
  {
   "cell_type": "code",
   "execution_count": 206,
   "id": "d22f1029",
   "metadata": {},
   "outputs": [],
   "source": [
    "fraction_of_over_80_next_10_years = no_from_80_next_10_years/population_in_next_ten_years"
   ]
  },
  {
   "cell_type": "code",
   "execution_count": 207,
   "id": "87e01495",
   "metadata": {},
   "outputs": [
    {
     "data": {
      "text/plain": [
       "0.06720399591327052"
      ]
     },
     "execution_count": 207,
     "metadata": {},
     "output_type": "execute_result"
    }
   ],
   "source": [
    "fraction_of_over_80_next_10_years"
   ]
  },
  {
   "cell_type": "code",
   "execution_count": 208,
   "id": "d2cd8d78",
   "metadata": {},
   "outputs": [],
   "source": [
    "population_of_over_80_next_10_years_per_100000 = fraction_of_over_80_next_10_years * 100000"
   ]
  },
  {
   "cell_type": "markdown",
   "id": "2a66df72",
   "metadata": {},
   "source": [
    "#### Population over 80 next ten years is "
   ]
  },
  {
   "cell_type": "code",
   "execution_count": 209,
   "id": "89913c89",
   "metadata": {},
   "outputs": [
    {
     "data": {
      "text/plain": [
       "6720"
      ]
     },
     "execution_count": 209,
     "metadata": {},
     "output_type": "execute_result"
    }
   ],
   "source": [
    "round(population_of_over_80_next_10_years_per_100000)"
   ]
  },
  {
   "cell_type": "code",
   "execution_count": null,
   "id": "41a8a887",
   "metadata": {},
   "outputs": [],
   "source": []
  }
 ],
 "metadata": {
  "kernelspec": {
   "display_name": "Python 3 (ipykernel)",
   "language": "python",
   "name": "python3"
  },
  "language_info": {
   "codemirror_mode": {
    "name": "ipython",
    "version": 3
   },
   "file_extension": ".py",
   "mimetype": "text/x-python",
   "name": "python",
   "nbconvert_exporter": "python",
   "pygments_lexer": "ipython3",
   "version": "3.9.7"
  }
 },
 "nbformat": 4,
 "nbformat_minor": 5
}
